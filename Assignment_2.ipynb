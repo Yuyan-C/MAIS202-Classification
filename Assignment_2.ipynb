{
  "nbformat": 4,
  "nbformat_minor": 0,
  "metadata": {
    "colab": {
      "name": "Assignment_2.ipynb",
      "provenance": [],
      "collapsed_sections": [
        "1LAqa9be_3vR"
      ],
      "toc_visible": true
    },
    "kernelspec": {
      "display_name": "Python 3",
      "language": "python",
      "name": "python3"
    },
    "language_info": {
      "codemirror_mode": {
        "name": "ipython",
        "version": 3
      },
      "file_extension": ".py",
      "mimetype": "text/x-python",
      "name": "python",
      "nbconvert_exporter": "python",
      "pygments_lexer": "ipython3",
      "version": "3.8.3"
    }
  },
  "cells": [
    {
      "cell_type": "markdown",
      "metadata": {
        "id": "gpWWCpEXiEda"
      },
      "source": [
        "# Assignment 2 ― Classification"
      ]
    },
    {
      "cell_type": "markdown",
      "metadata": {
        "id": "r9UW_dipiFw9"
      },
      "source": [
        "## 0. Introduction\n",
        "\n",
        "In this second assigment, we will explore another cornerstone of machine learning: supervised classification. We will be specifically classifying IMDB movie reviews by their positive (1) or negative (-1) score. To do this, we will first pre-process the raw data by cleaning and turning each review into a vector. Then, we will explore and fine-tune our use of the following learning algorithms for classification: naive Bayes classifiers, support vector machines, and random forests. \n",
        "\n",
        "* [Question 1.1](#scrollTo=m0QxxH3KngAg)\n",
        "* [Question 2.1](#scrollTo=6VWSBN37uXod)\n",
        "* [Question 2.2](#scrollTo=CuW0ahvaJtOt)\n",
        "* [Question 2.3](#scrollTo=co54Ubd5QJDN)\n",
        "* [Question 3.1](#scrollTo=fN-dse1NBQnk)\n",
        "* [Question 3.2](#scrollTo=wfCjr-JrEJya)\n",
        "* [Question 3.3](#scrollTo=l1iGVZtkE5fF)\n",
        "* [Question 4.1](#scrollTo=YKLBuWjmAKoJ)\n",
        "* [Question 5.1](#scrollTo=Myn-42J9ACsH)\n",
        "* [Question 5.2](#scrollTo=1LAqa9be_3vR)\n",
        "* [Question 6.1](#scrollTo=C144CYOeYPca) [optional]\n",
        "* [Question 6.2](#scrollTo=rnIbpGe-Z52z) [optional] \n",
        "* [Question 6.3](#scrollTo=W6CdJGpjcK2r) [optional]\n",
        "\n",
        "\n",
        "\n",
        "$% latex commands for later use$\n",
        "$\\newcommand{\\R}{\\mathbb{R}}$\n",
        "$\\newcommand{\\B}{\\mathbb{B}}$\n",
        "$\\newcommand{\\argmax}{\\operatorname*{arg\\ max}}$\n",
        "$\\newcommand{\\given}{\\; \\vert \\;}$\n",
        "\n"
      ]
    },
    {
      "cell_type": "markdown",
      "metadata": {
        "id": "1GJHuG6PnQ-N"
      },
      "source": [
        "## 1. Importing Libraries and Data\n",
        "\n",
        "For this assignment, we will be using a dataset of IMDB reviews. The data consists of a csv file where the first column is a string containing a user review and the second column specifies whether the review was positve (1) or negative (-1). First, we will import any libraries that we might use.\n",
        "\n",
        "**Note:** You may use any library you would like unless specified otherwise. "
      ]
    },
    {
      "cell_type": "markdown",
      "metadata": {
        "id": "m0QxxH3KngAg"
      },
      "source": [
        "### Question 1.1 Importing Libraries\n",
        "\n",
        "Keep on adding in the section below any modules you use as you are completing the assignment."
      ]
    },
    {
      "cell_type": "code",
      "metadata": {
        "id": "81LFo0NUUIJA"
      },
      "source": [
        "import csv\n",
        "import random\n",
        "from datetime import datetime\n",
        "import re\n",
        "import numpy as np\n",
        "import operator\n",
        "import heapq \n",
        "from sklearn.metrics import accuracy_score\n",
        "from sklearn.svm import LinearSVC\n",
        "from sklearn.ensemble import RandomForestClassifier\n",
        "import matplotlib.pyplot as plt\n",
        "from sklearn.ensemble import AdaBoostClassifier\n",
        "from sklearn.model_selection import GridSearchCV"
      ],
      "execution_count": 7,
      "outputs": []
    },
    {
      "cell_type": "markdown",
      "metadata": {
        "id": "053rRiUAnsxQ"
      },
      "source": [
        "Let's download the dataset:"
      ]
    },
    {
      "cell_type": "code",
      "metadata": {
        "id": "p4NfIOH0UXUq",
        "colab": {
          "base_uri": "https://localhost:8080/"
        },
        "outputId": "d1f40f8a-ecfe-46ac-bac4-62a44be83b26"
      },
      "source": [
        "!wget https://raw.githubusercontent.com/McGillAISociety/BootcampAssignmentDatasets/master/data/assignment2/train_reviews.csv"
      ],
      "execution_count": 8,
      "outputs": [
        {
          "output_type": "stream",
          "text": [
            "--2021-03-03 14:59:46--  https://raw.githubusercontent.com/McGillAISociety/BootcampAssignmentDatasets/master/data/assignment2/train_reviews.csv\n",
            "Resolving raw.githubusercontent.com (raw.githubusercontent.com)... 185.199.108.133, 185.199.109.133, 185.199.110.133, ...\n",
            "Connecting to raw.githubusercontent.com (raw.githubusercontent.com)|185.199.108.133|:443... connected.\n",
            "HTTP request sent, awaiting response... 200 OK\n",
            "Length: 33333854 (32M) [text/plain]\n",
            "Saving to: ‘train_reviews.csv’\n",
            "\n",
            "train_reviews.csv   100%[===================>]  31.79M   139MB/s    in 0.2s    \n",
            "\n",
            "2021-03-03 14:59:47 (139 MB/s) - ‘train_reviews.csv’ saved [33333854/33333854]\n",
            "\n"
          ],
          "name": "stdout"
        }
      ]
    },
    {
      "cell_type": "markdown",
      "metadata": {
        "id": "Q6P_kDBXtpgw"
      },
      "source": [
        "And create a function to print a review:"
      ]
    },
    {
      "cell_type": "code",
      "metadata": {
        "id": "L-fshObCUX1-"
      },
      "source": [
        "def print_review(review, score):\n",
        "  print('--------------- Review with score of {} ---------------'.format(score))\n",
        "  print(review)\n",
        "  print('------------------------------------------------------')\n",
        "  print()"
      ],
      "execution_count": 9,
      "outputs": []
    },
    {
      "cell_type": "markdown",
      "metadata": {
        "id": "2V_U9-Iwt0IP"
      },
      "source": [
        "Let's load the data and see what the first 10 reviews look like:\n"
      ]
    },
    {
      "cell_type": "code",
      "metadata": {
        "id": "87qWNsF7U3QO",
        "colab": {
          "base_uri": "https://localhost:8080/"
        },
        "outputId": "f5e19a53-17cb-4bfc-868b-892965f3d6aa"
      },
      "source": [
        "with open('train_reviews.csv') as csv_file:\n",
        "  csv_reader = csv.reader(csv_file)\n",
        "  colnames = next(csv_reader)  # skip column names\n",
        "  data = list(csv_reader)\n",
        "\n",
        "for review, score in random.sample(data, 10):\n",
        "  print_review(review,score)"
      ],
      "execution_count": 10,
      "outputs": [
        {
          "output_type": "stream",
          "text": [
            "--------------- Review with score of 1 ---------------\n",
            "Great movie, enough laughs and action for any audience.<br /><br />Since the last person who posted on this movie took it upon themselves to call Woody Allen incestuous and not comment on the film, here I am.<br /><br />The film follows an unlikely duo, Johansson and Allen, as they follow a tip given to them by the ghost of a recently deceased English reporter. Their search takes them into the home of the killer, and eventually to a somewhat tragic end. But don't let the plot fool you, the film truly is hilarious and the acting is superb.<br /><br />It seems that as directors reach a certain age they really get things right. Clint Eastwood, Allen and Pollack all seem to making some of the most imaginative work of their respective careers. Also, from watching the movie in a pact theater, you can just tell that people really love Woody Allen and are ready for him to really make a comeback. The second he walked on screen audience lit up. There's just something about the man and he really shines in Scoop. <br /><br />Check it out, it's worth the trip.\n",
            "------------------------------------------------------\n",
            "\n",
            "--------------- Review with score of -1 ---------------\n",
            "This film is about British prisoners of war from the World War II escaping from a camp in Germany.<br /><br />I find \"The Wooden Horse\" disappointingly boring. The subject could have been thrilling, suspenseful and adrenaline fuelled, but \"The Wooden Horse\" is told in a very plain way. It's a collection of plain and poorly told events, with no suspension and thrill. The first half plainly tells how the prisoners of war dug a tunnel, but the events are so plain, with not enough blunders and close shaves to make me on edge. The latter half of the film is even worse, they are just moving from one place to another without any cat and mouse chase. And could the characters talk a bit less and have more action in an action film! I am disappointed by \"The Wooden Horse\", it wasted the potential to be a great film.\n",
            "------------------------------------------------------\n",
            "\n",
            "--------------- Review with score of 1 ---------------\n",
            "One of the great classic comedies. Not a slapstick comedy, not a heavy drama. A fun, satirical film, a buyers beware guide to a new home.<br /><br />Filled with great characters all of whom, Cary Grant is convinced, are out to fleece him in the building of a dream home.<br /><br />A great look at life in the late 40's.<br /><br />\n",
            "------------------------------------------------------\n",
            "\n",
            "--------------- Review with score of 1 ---------------\n",
            "First,I'll give my rating for the series overall; ******* 7 out of ten stars. I've taken away three for the downhill slide this series suffered after John Amos departed. Don't get me wrong there were hard hitting episodes later but only after Esther Rolle left for a season and returned.<br /><br />In February of 1974,a really great sit-com (with dramatic overtones)premiered on CBS. It was a TV first,a show about an African-American family living in the Chicago Projects in the 1970s. Created by Norman Lear as a spin-off of \"Maude\",he once again struck the right chord with viewers. <br /><br />Not since this show have I seen a situation comedy directly talk about the struggles of inner-city families. (Well,there was Fox's \"South Central\" in '94 but was not renewed.) <br /><br />John Amos as James Evans Sr. was the ultimate father figure for this family and acted as any father should to keep his family together and his kids from going down the wrong paths in life.<br /><br />Esther Rolle was a wonderful no non-sense mother figure who was on the same page as her husband when it came to their kids upbringing. <br /><br />Ralph Carter as Michael a young but very bright young man for his age but stuck in a school system that doesn't meet his academic needs. His character's name is the same as the show's founder Mike Evans who was Lionel Jefferson on \"The Jeffersons\". (Mike Evans passed away Dec. 2006).<br /><br />Thelma is a young girl of 16 or 17 and has to deal with the dangers of being a young woman in the streets of the ghetto. Jimmie Walker as J.J. Evans Jr. is the typical young wise-cracking,jiving kind of young man who does not take life seriously enough.<br /><br />Simply put,all my favorite episodes are with John Amos,with the exception of the Penny Gordon/Janet Jackson story lines.<br /><br />After the demise of the James Evans character,the show lost it's stability and viewers departed. Esther Rolle left for an entire year,not wanting to play second fiddle to JJ's smart-aleck \"Dyno-mite's\"! <br /><br />She returned the next season,after securing a guarantee that the writer's would even things out. Florida's neighbor Wilona Woods was a divorced woman who ended up adopting an abused little girl Penny Gordon (played by a then 10 year old Janet Jackson). Penny's abusive mother was played by Totie Fields,Kim Fields' Mother.<br /><br />In August of 1979 the show came to an end,with all leaving the projects for a better life. JJ the artist had sold an idea to a comic-book company,Michael went off to live on campus at college. <br /><br />Wilona & Penny,Thelma & football player husband Keith + Florida all moved into the same building in uptown Chicago. Not the most realistic ending but by that time it didn't matter.\n",
            "------------------------------------------------------\n",
            "\n",
            "--------------- Review with score of 1 ---------------\n",
            "I watched this film in a very strange way -- I had put it on my Netflix list and couldn't remember why (other than that I knew Philip Seymour Hoffman was in it). Since the film has no opening credits, I couldn't even remember who had directed it.<br /><br />As my wife and I watched it, I turned to her about 45 minutes in and said, \"You know, I keep wanting to decide that I hate this film, but something about it just won't let me stop watching it.\" Then there's a stretch of about half a dozen scenes in the middle of the movie that are truly electrifying in the actors' performances.<br /><br />It was only as the end credits rolled that I realized it was a Sidney Lumet film. And I thought -- wow. I'm surprised that Lumet took on what was really a dirty, petty little story about really mean, broken people. But it's a testament to his talent that I was so taken in when I didn't even realize it was him.<br /><br />Philip Seymour Hoffman is really, really good in this movie. Like scary good. Put this up against Capote and I would argue the Oscar should have been for this film instead.<br /><br />I also highly recommend the narrative special feature with Lumet, Hawke and Hoffman talking about making the movie -- it's entertaining and educational, with Hawke playing the student eager to learn at the master's feet. Lumet definitely teaches you the first rule of working with actors -- kiss their asses constantly!!<br /><br />There are a lot of violent, melodramatic movies out there that are empty ciphers when all is said and done. And there is an element of that in this film -- that the actors fill the air with sulphurous blasts of emotion, and when the smoke clears there's nothing left. Nothing resonates on a deeper level.<br /><br />But Lumet has given us Network and Twelve Angry Men -- films that, each in their own ways, have been elevated into the highest echelons of cinema.<br /><br />This movie isn't at that level. But there's something about it that lingers. And maybe that's enough.<br /><br />My final comment is about the comments -- if you look at the number of comments about this little movie here on IMDb -- and the depth and intelligence of the comments, pro and con -- it's a pretty good indication that something special is going on with this film.\n",
            "------------------------------------------------------\n",
            "\n",
            "--------------- Review with score of -1 ---------------\n",
            "This would have to be one of the worst, if not the worst, movie I've ever nearly seen. (I couldn't watch it all the way through). Purely and simply it's gratuitous violence just for the sake of it and the ridiculous story line only adds to the lacklustre and incompetent filming. Sick. And only suitable for those with a love for manic mutilation. After murdering several hundred men, women and children, Seed is finally caught after effortlessly killing several more police officers that finally get a tip as to his whereabouts. He's sentenced to death by electric chair and miraculously survives! Buried alive, he digs his way out and plots revenge against those that put him away and flicked the switch. Needless to say, more gruesome murders ensue...\n",
            "------------------------------------------------------\n",
            "\n",
            "--------------- Review with score of 1 ---------------\n",
            "As a former 2 time Okinawan Karate world champion, I like movies about sacrifice for sport. But this movie is about so much more. This movie is so good and so deep. I have recently been plagued by very serious injury and pretty much a disastrous lack of passion. Almost lights out for me. And this silly little movie touched me so deep that like out of a daze it reminded me about what life is supposed to be about. This is a movie about living. Living your life for yourself and respect for others. Empowerment. God, bless \"Bend it like Beckham\" I believe it is a true gem.\n",
            "------------------------------------------------------\n",
            "\n",
            "--------------- Review with score of -1 ---------------\n",
            "With this movie only running 61 minutes and nothing all that good on television, I decided to pop Revolt of the Zombies into the DVD to pass the time. Even while realizing the era from which it was coming, I was sorely disappointed. It started with the oddly upbeat quality of the opening score (what - no brooding music?) and then the rather slow moving opening sequences. Gosh, I figured a movie about zombies - even from the 1930s - would have SOME chills to it (White Zombie, with Bela Lugosi, certainly did) but this had none. Zero. It was scarcely even dramatic (except for the few moments with the burning eyes superimposed on the film to indicate the mesmerization of someone). Like the equally dull King of the Zombies, this movie may be an interesting curiosity to own, but nothing more.\n",
            "------------------------------------------------------\n",
            "\n",
            "--------------- Review with score of -1 ---------------\n",
            "Kind of drawn in by the erotic scenes, only to realize this was one of the most amateurish and unbelievable bits of film I've ever seen. Sort of like a high school film project. What was Rosanna Arquette thinking?? And what was with all those stock characters in that bizarre supposed Midwest town? Pretty hard to get involved with this one. No lessons to be learned from it, no brilliant insights, just stilted and quite ridiculous (but lots of skin, if that intrigues you) videotaped nonsense....What was with the bisexual relationship, out of nowhere, after all the heterosexual encounters. And what was with that absurd dance, with everybody playing their stereotyped roles? Give this one a pass, it's like a million other miles of bad, wasted film, money that could have been spent on starving children or Aids in Africa.....\n",
            "------------------------------------------------------\n",
            "\n",
            "--------------- Review with score of -1 ---------------\n",
            "The BFG is one of Roald Dahl's most cherished books, but in this animated adaptation the magic just isn't there. This version remains pretty faithful to Dahl's original story so one can't lay the blame on John Hambley's script. If anything the fault lies with the colourless animation, the lethargic pace and the generally lacklustre voice-overs. One would be right to expect this story to make for a happy, vibrant, fun-filled movie..... instead, the film is a hopelessly dull affair that becomes quite tedious to watch. Children who are not familiar with the story should definitely read the book first! All the film will achieve is to put them off read what is actually a children's' classic.<br /><br />Young orphan Sophie (voice of Amanda Root) lives in a none-too-friendly orphanage under the cruel supervision of Mrs Clonkers. One evening she is peering through the window when she spots a massive figure walking stealthily down the village street. The figure realises it has been seen, so it reaches in through the window and scoops Sophie from her bed, placing her into its enormous pocket before fleeing into the night. Sophie soon discovers that she has been kidnapped by a giant from Giant Country, and fears that he will eat her. But to her relief he turns out to be a kind and sensitive member of his species who introduces himself as the BFG (voice of David Jason). The BFG refuses to eat people, instead restricting himself to foul-tasting vegetables known as snozzcumbers. However, Giant Country is populated by numerous other giants who DO feast - every night, as it happens - on poor unsuspecting humans. Sophie and the BFG become great friends, and soon they come up with a plan to thwart the other giants. Together they go to the Queen of England (voice of Angela Thorne) with their remarkable story and beg her to send the army and the air force to fight the man-eating giants. The Queen agrees and so begins a dangerous operation to capture the bad giants before they can harm anyone else.<br /><br />Jason voices the BFG quite well (one of the few pluses in the film) but his good work is almost ruined by somewhat poor sound quality. The rest of the voice work is decidedly uninspired, with very little to bring the characters to life. Similarly, the BFG is the only character that is imaginatively animated - Sophie lacks appeal, and the giants are boringly designed (and look almost indistinguishable from each other). Even the places are uninventive; Giant Country especially comes up short, being nothing more than a barren wasteland with occasional rocks and canyons. At 88 minutes the film is not exactly lengthy, yet it drags quite badly in parts due to the soporific handling of several sequences. Little of Dahl's mischievous humour is conveyed satisfactorily. One chapter in the book deals with the BFG's love of \"whizzpopping\" (farting) and is laugh-out-loud hilarious. In the film, the same section is totally killed by unfunny handling. I came to the The BFG expecting lots of zest, fun and enjoyment, but what I got was pretty much the opposite! This one is a failed misfire that simply doesn't match the calibre of the book in any department - unfortunately, therefore, it must go down as one to skip.\n",
            "------------------------------------------------------\n",
            "\n"
          ],
          "name": "stdout"
        }
      ]
    },
    {
      "cell_type": "markdown",
      "metadata": {
        "id": "D7qKVCAst-kv"
      },
      "source": [
        "## 2. Preprocessing\n",
        " We will be converting our data into a binary bag-of-words representation (Google \"binary bag-of-words\"). To do this, we will perform two steps beforehand."
      ]
    },
    {
      "cell_type": "markdown",
      "metadata": {
        "id": "6VWSBN37uXod"
      },
      "source": [
        "### Question 2.1 Cleaning the train data\n",
        "Create a function called `clean`, which takes a string and then:\n",
        "\n",
        " 1. lower-cases all words \n",
        " 2. only keeps letters and spaces\n",
        " \n",
        "\n",
        " We also need to get rid of [HTML tags](https://www.javatpoint.com/html-tags) as they do not hold valuable information for classifying the review. A quick Google search on removing HTML tags with `regular expressions` will show you how to do this! \n",
        "  \n",
        "  For example, the following review...\n",
        "  \n",
        "  >`This was the WORST movie I have EVER SEEN!! <br/>`\n",
        "  \n",
        "  ...will be cleaned to become:\n",
        "  \n",
        "  >`this was the worst movie i have ever seen`\n",
        "  \n",
        "   Of course, you could do more pre-processing steps if you would like, such as lemmatization, stemming, etc... but TOTALLY OPTIONAL! "
      ]
    },
    {
      "cell_type": "code",
      "metadata": {
        "id": "rAje0IKVU2-c"
      },
      "source": [
        "def clean(review):\n",
        "  return re.sub(r'[^a-zA-Z ]+','',re.sub(re.compile('<.*?>'),'',review).lower())\n",
        " "
      ],
      "execution_count": 11,
      "outputs": []
    },
    {
      "cell_type": "markdown",
      "metadata": {
        "id": "DwT4zB4RIodc"
      },
      "source": [
        "Test your function with this example string"
      ]
    },
    {
      "cell_type": "code",
      "metadata": {
        "colab": {
          "base_uri": "https://localhost:8080/"
        },
        "id": "GBnmJ_jIU27c",
        "outputId": "7e933cfb-ad6e-433b-c6d8-0a31431e333b"
      },
      "source": [
        "print(clean(\"This was the WORST movie I have EVER SEEN!! <br/> \"))"
      ],
      "execution_count": 12,
      "outputs": [
        {
          "output_type": "stream",
          "text": [
            "this was the worst movie i have ever seen  \n"
          ],
          "name": "stdout"
        }
      ]
    },
    {
      "cell_type": "markdown",
      "metadata": {
        "id": "nZ3csQCzI27I"
      },
      "source": [
        "Now, we'll use the function to clean the whole dataset. We'll also turn the scores from strings to integers while we're at it."
      ]
    },
    {
      "cell_type": "code",
      "metadata": {
        "id": "jRkQWUIvYfnO"
      },
      "source": [
        "X_train = []\n",
        "y_train = []\n",
        "for review, score in data:\n",
        "  X_train.append(clean(review))\n",
        "  y_train.append(int(score))"
      ],
      "execution_count": 14,
      "outputs": []
    },
    {
      "cell_type": "markdown",
      "metadata": {
        "id": "CuW0ahvaJtOt"
      },
      "source": [
        "### Question 2.2 Picking features\n",
        "\n",
        "We now need to turn each review into vectors. We will pick the 10,000 most recurring words in the train set as features\n",
        "\n",
        "Using those 10,000 features, create a function called `vectorize` which will take a string as an input, and convert it to a vector using the binary bag of words representation.\n",
        "\n",
        "For example, the string `\"This movie made me cry\"` will become a vector of size 10,000 with 5 elements being 1 (assuming each word is part of the 10,000 most common) and 9995 being 0, that it, is i will look something like\n",
        "\n",
        " > `[0, 0, ..., 0, 1, 0, ..., 0, 1, 0..., 0, 1, 0, ..., 0, 1, 0 ..., 0, 1, 0, ..., 0, 0]`\n",
        " \n",
        " In order to accomplish this task, you will\n",
        " \n",
        " 1. write a `get_vocab` function which takes as an argument a list of (cleaned) reviews and the vocabulary size and outputs the list of size `vocab_size` containing the most common words.\n",
        " 2. write a `vectorize` function which takes as an argument a review and the vocabulary and turns the review into its binary bag of words representation.\n",
        " 3. use the `vectorize` function to create a new variable called `X_train_vect` which will contain the bag-of-words representation of each data point contained in the `X_train` variable rather than its string representation.\n",
        "\n",
        "**Warning**: the last step may take up to 15 minutes depending on your implementation. Despite the execution speed not being evaluated in this assignment, do try your best to have fast and efficient code!"
      ]
    },
    {
      "cell_type": "code",
      "metadata": {
        "id": "Oa0E04tFYf6x"
      },
      "source": [
        "def get_vocab(reviews, vocab_size): \n",
        "  word_frequncey ={}\n",
        "  for s in reviews:\n",
        "    words = clean(s).split()\n",
        "    for w in words:\n",
        "      if w in word_frequncey.keys():\n",
        "        word_frequncey[w] += 1\n",
        "      else: \n",
        "        word_frequncey[w] = 1\n",
        "      \n",
        "  return heapq.nlargest(vocab_size, word_frequncey, key=word_frequncey.get)\n",
        "  \n"
      ],
      "execution_count": 15,
      "outputs": []
    },
    {
      "cell_type": "markdown",
      "metadata": {
        "id": "E38yzbclLXs3"
      },
      "source": [
        "Test your function with the following code. The `vocabulary` variable should have a length of 10,000 and the most common words should be \"the\", \"and\", \"a\", etc."
      ]
    },
    {
      "cell_type": "code",
      "metadata": {
        "id": "WD9Jz8zpYfru",
        "colab": {
          "base_uri": "https://localhost:8080/"
        },
        "outputId": "74cac3f3-89b3-4ea1-9997-e810bfe94dfd"
      },
      "source": [
        "num_features = 10000\n",
        "vocabulary = get_vocab(X_train, num_features)\n",
        "print(len(vocabulary))\n",
        "print(vocabulary)"
      ],
      "execution_count": 16,
      "outputs": [
        {
          "output_type": "stream",
          "text": [
            "10000\n",
            "['the', 'and', 'a', 'of', 'to', 'is', 'in', 'it', 'this', 'i', 'that', 'was', 'as', 'with', 'for', 'movie', 'but', 'film', 'on', 'not', 'you', 'are', 'his', 'have', 'be', 'he', 'one', 'its', 'at', 'all', 'by', 'an', 'they', 'who', 'from', 'like', 'so', 'her', 'or', 'just', 'about', 'has', 'out', 'if', 'some', 'what', 'there', 'good', 'more', 'very', 'when', 'she', 'even', 'up', 'no', 'would', 'my', 'which', 'time', 'only', 'really', 'story', 'their', 'were', 'had', 'see', 'can', 'me', 'than', 'we', 'much', 'been', 'get', 'well', 'will', 'into', 'because', 'people', 'other', 'bad', 'do', 'also', 'great', 'how', 'first', 'most', 'him', 'dont', 'made', 'movies', 'then', 'films', 'make', 'could', 'way', 'them', 'any', 'too', 'after', 'characters', 'think', 'watch', 'two', 'many', 'being', 'seen', 'character', 'never', 'little', 'acting', 'plot', 'where', 'best', 'love', 'did', 'know', 'life', 'show', 'does', 'ever', 'your', 'better', 'over', 'still', 'off', 'end', 'these', 'say', 'man', 'here', 'scene', 'why', 'such', 'scenes', 'while', 'go', 'should', 'something', 'through', 'back', 'those', 'im', 'doesnt', 'real', 'watching', 'years', 'thing', 'actors', 'though', 'didnt', 'new', 'actually', 'makes', 'before', 'nothing', 'now', 'find', 'another', 'work', 'funny', 's', 'few', 'look', 'old', 'going', 'same', 'lot', 'every', 'us', 'part', 'again', 'cant', 'director', 'quite', 'cast', 'want', 'thats', 'pretty', 'things', 'seems', 'young', 'got', 'around', 'fact', 'down', 'world', 'take', 'enough', 'between', 'give', 'may', 'both', 'big', 'horror', 'thought', 'original', 'own', 'however', 'ive', 'gets', 'without', 'always', 'series', 'isnt', 'right', 'long', 'saw', 'come', 'almost', 'times', 'least', 'point', 'role', 'action', 'must', 'interesting', 'whole', 'bit', 'comedy', 'family', 'theres', 'done', 'music', 'script', 'anything', 'might', 'hes', 'last', 'minutes', 'guy', 'feel', 'far', 'since', 'probably', 'performance', 'am', 'kind', 'rather', 'worst', 'away', 'yet', 'sure', 'tv', 'woman', 'making', 'girl', 'each', 'found', 'fun', 'played', 'anyone', 'our', 'comes', 'having', 'believe', 'trying', 'course', 'especially', 'day', 'goes', 'looks', 'hard', 'shows', 'although', 'different', 'put', 'wasnt', 'place', 'book', 'money', 'reason', 'sense', 'main', 'set', 'ending', 'looking', 'true', 'worth', 'once', 'watched', 'everything', 'plays', 'maybe', 'someone', 'job', 'actor', 'seem', 'said', 'screen', 'takes', 'dvd', 'three', 'play', 'together', 'beautiful', 'effects', 'instead', 'during', 'himself', 'later', 'version', 'john', 'left', 'everyone', 'seeing', 'audience', 'special', 'night', 'house', 'american', 'excellent', 'idea', 'wife', 'nice', 'simply', 'shot', 'youre', 'read', 'high', 'year', 'less', 'completely', 'black', 'kids', 'else', 'help', 'fan', 'star', 'war', 'used', 'poor', 'second', 'given', 'father', 'death', 'try', 'friends', 'need', 'rest', 'use', 'home', 'men', 'enjoy', 'mind', 'performances', 'short', 'classic', 'until', 'either', 'truly', 'hollywood', 'boring', 'along', 'half', 'wrong', 'dead', 'tell', 'production', 'line', 'women', 'remember', 'couple', 'came', 'recommend', 'start', 'next', 'understand', 'wonderful', 'full', 'getting', 'mean', 'others', 'stupid', 'let', 'moments', 'playing', 'keep', 'perhaps', 'episode', 'awful', 'terrible', 'camera', 'small', 'gives', 'stars', 'doing', 'sex', 'often', 'video', 'definitely', 'early', 'perfect', 'become', 'name', 'felt', 'face', 'school', 'human', 'supposed', 'couldnt', 'liked', 'lines', 'piece', 'dialogue', 'person', 'itself', 'lost', 'top', 'absolutely', 'case', 'against', 'went', 'entire', 'live', 'certainly', 'shes', 'waste', 'sort', 'head', 'budget', 'written', 'finally', 'style', 'hope', 'problem', 'picture', 'several', 'loved', 'evil', 'yes', 'title', 'worse', 'becomes', 'entertaining', 'cinema', 'mr', 'boy', 'seemed', 'fans', 'beginning', 'white', 'already', 'care', 'wanted', 'id', 'example', 'lives', 'based', 'dark', 'guys', 'killer', 'mother', 'friend', 'direction', 'throughout', 'totally', 'wont', 'turn', 'fine', 'wants', 'children', 'final', 'amazing', 'girls', 'drama', 'laugh', 'guess', 'sound', 'lead', 'tries', 'humor', 'called', 'youll', 'writing', 'low', 'under', 'despite', 'works', 'turns', 'history', 'able', 'enjoyed', 'behind', 'oh', 'theyre', 'past', 'unfortunately', 'michael', 'quality', 'days', 'gave', 'favorite', 'starts', 'kill', 'son', 'game', 'act', 'sometimes', 'town', 'side', 'viewer', 'parts', 'car', 'horrible', 'actress', 'ones', 'child', 'eyes', 'expect', 'soon', 'flick', 'themselves', 'heart', 'thinking', 'art', 'obviously', 'brilliant', 'stories', 'decent', 'genre', 'feeling', 'myself', 'run', 'overall', 'directed', 'late', 'stuff', 'blood', 'fight', 'says', 'close', 'city', 'took', 'heard', 'cannot', 'highly', 'hand', 'leave', 'except', 'killed', 'kid', 'matter', 'ill', 'hell', 'police', 'moment', 'hour', 'wouldnt', 'extremely', 'strong', 'roles', 'happens', 'particularly', 'lack', 'happened', 'involved', 'attempt', 'obvious', 'told', 'chance', 'living', 'wonder', 'etc', 'james', 'violence', 'including', 'complete', 'voice', 'murder', 'coming', 'daughter', 'group', 'age', 'looked', 'experience', 'type', 'save', 'simple', 'alone', 'number', 'exactly', 'slow', 'god', 'ago', 'shown', 'happen', 'score', 'interest', 'whose', 'brother', 'taken', 'none', 'serious', 'usually', 'hours', 'across', 'annoying', 'cinematography', 'stop', 'running', 'somewhat', 'song', 'known', 'opening', 'ends', 'musical', 'yourself', 'sad', 'usual', 'career', 'finds', 'hit', 'wish', 'released', 'started', 'huge', 'gore', 'possible', 'relationship', 'scary', 'please', 'lets', 'jokes', 'order', 'crap', 'change', 'david', 'saying', 'reality', 'shots', 'english', 'ridiculous', 'hilarious', 'mostly', 'episodes', 'cool', 'novel', 'today', 'ok', 'cut', 'opinion', 'body', 'female', 'seriously', 'major', 'talking', 'taking', 'call', 'robert', 'directors', 'strange', 'due', 'important', 'supporting', 'knows', 'hero', 'documentary', 'knew', 'view', 'events', 'power', 'turned', 'talent', 'husband', 'apparently', 'happy', 'clearly', 'songs', 'level', 'arent', 'room', 'british', 'single', 'king', 'tells', 'local', 'easily', 'attention', 'anyway', 'word', 'basically', 'problems', 'bring', 'words', 'cheap', 'silly', 'disappointed', 'television', 'sequence', 'modern', 'light', 'future', 'falls', 'sets', 'similar', 'four', 'beyond', 'country', 'miss', 'five', 'whether', 'needs', 'appears', 'romantic', 'giving', 'jack', 'earth', 'comic', 'rating', 'viewers', 'predictable', 'upon', 'entertainment', 'talk', 'havent', 'paul', 'whats', 'within', 'review', 'feels', 'george', 'message', 'mention', 'nearly', 'enjoyable', 'bunch', 'lady', 'theater', 'animation', 'richard', 'storyline', 'rock', 'actual', 'points', 'surprised', 'middle', 'moving', 'above', 'named', 'theme', 'using', 'lots', 'herself', 'dull', 'mystery', 'add', 'begins', 'ways', 'sequel', 'ten', 'among', 'fantastic', 'typical', 'showing', 'elements', 'york', 'easy', 'comments', 'stay', 'team', 'thriller', 'tried', 'writer', 'effort', 'clear', 'fall', 'certain', 'near', 'hate', 'release', 'famous', 'french', 'parents', 'tale', 'means', 'leads', 'kept', 'straight', 'dialog', 'greatest', 'buy', 'working', 'soundtrack', 'class', 'somehow', 'form', 'general', 'doubt', 'red', 'editing', 'weak', 'brought', 'sister', 'season', 'figure', 'peter', 'feature', 'oscar', 'minute', 'material', 'hear', 'whos', 'gone', 'particular', 'filmed', 'viewing', 'sorry', 'check', 'learn', 'realistic', 'tom', 'atmosphere', 'move', 'youve', 'reviews', 'th', 'period', 'fast', 'decided', 'sequences', 'imagine', 'eventually', 'possibly', 'lame', 'deal', 'dance', 'became', 'premise', 'follow', 'space', 'de', 'avoid', 'stand', 'eye', 'sit', 'difficult', 'lee', 'wait', 'die', 'expected', 'poorly', 'forget', 'zombie', 'sexual', 'indeed', 'japanese', 'writers', 'nature', 'crime', 'surprise', 'third', 'average', 'subject', 'nor', 'leaves', 'suspense', 'stage', 'killing', 'whatever', 'believable', 'truth', 'needed', 'filmmakers', 'rent', 'screenplay', 'meets', 'meet', 'reading', 'begin', 'question', 'boys', 'romance', 'realize', 'street', 'forced', 'emotional', 'memorable', 'joe', 'dr', 'superb', 'write', 'older', 'keeps', 'earlier', 'baby', 'situation', 'interested', 'weird', 'whom', 'credits', 'footage', 'features', 'beauty', 'dramatic', 'shame', 'otherwise', 'disney', 'dog', 'towards', 'badly', 'note', 'previous', 'ask', 'crazy', 'brings', 'okay', 'hot', 'comment', 'male', 'total', 'personal', 'worked', 'b', 'plenty', 'incredibly', 'society', 'sounds', 'admit', 'directing', 'laughs', 'perfectly', 'result', 'unless', 'cheesy', 'unique', 'quickly', 'free', 'america', 'deep', 'creepy', 'development', 'plus', 'leading', 'appear', 'meant', 'brothers', 'hardly', 'return', 'hands', 'open', 'effect', 'create', 'casting', 'various', 'remake', 'imdb', 'mark', 'christmas', 'setting', 'potential', 'mess', 'background', 'scifi', 'battle', 'dream', 'forward', 'monster', 'powerful', 'portrayed', 'inside', 'business', 'fairly', 'outside', 'ideas', 'manages', 'missing', 'fails', 'expecting', 'bill', 'present', 'political', 'deserves', 'attempts', 'apart', 'la', 'twist', 'secret', 'dumb', 'fire', 'jane', 'joke', 'fantasy', 'fighting', 'air', 'pay', 'gay', 'masterpiece', 'front', 'reasons', 'married', 'rich', 'box', 'recently', 'copy', 'agree', 'nudity', 'break', 'ben', 'odd', 'acted', 'talented', 'success', 'plain', 'cute', 'western', 'william', 'further', 'telling', 'match', 'villain', 'pure', 'missed', 'incredible', 'girlfriend', 'doctor', 'caught', 'crew', 'decides', 'cop', 'large', 'social', 'following', 'mentioned', 'waiting', 'sees', 'sadly', 'unlike', 'members', 'uses', 'flat', 'ended', 'hold', 'popular', 'slightly', 'public', 'wasted', 'considering', 'pace', 'sweet', 'wrote', 'spent', 'suddenly', 'kills', 'compared', 'entirely', 'neither', 'created', 'intelligent', 'rate', 'audiences', 'era', 'cause', 'office', 'familiar', 'convincing', 'tension', 'bored', 'visual', 'escape', 'party', 'clever', 'moves', 'list', 'cartoon', 'biggest', 'credit', 'revenge', 'laughing', 'scott', 'basic', 'fear', 'successful', 'gun', 'recent', 'island', 'positive', 'spirit', 'trouble', 'spend', 'violent', 'consider', 'appreciate', 'books', 'choice', 'cover', 'mary', 'dancing', 'cold', 'water', 'zombies', 'died', 'speak', 'former', 'singing', 'portrayal', 'concept', 'science', 'filled', 'younger', 'value', 'state', 'adult', 'bizarre', 'produced', 'solid', 'common', 'exciting', 'werent', 'focus', 'amount', 'walk', 'ultimately', 'animated', 'band', 'effective', 'german', 'showed', 'language', 'amusing', 'follows', 'italian', 'producers', 'fit', 'runs', 'considered', 'impossible', 'impressive', 'van', 'decide', 'chemistry', 'cat', 'store', 'tone', 'pointless', 'won', 'company', 'depth', 'win', 'barely', 'control', 'situations', 'project', 'mad', 'changed', 'college', 'studio', 'leaving', 'prison', 'respect', 'force', 'sick', 'somewhere', 'hair', 'awesome', 'trip', 'century', 'likes', 'planet', 'longer', 'failed', 'slasher', 'shooting', 'questions', 'involving', 'charming', 'honest', 'surprisingly', 'accent', 'disturbing', 'trash', 'recommended', 'generally', 'starring', 'images', 'literally', 'tony', 'values', 'immediately', 'fake', 'bought', 'south', 'utterly', 'ghost', 'touch', 'pictures', 'steve', 'magic', 'natural', 'west', 'ability', 'pathetic', 'glad', 'aspect', 'sitting', 'adventure', 'adaptation', 'computer', 'thanks', 'culture', 'appearance', 'explain', 'frank', 'normal', 'conclusion', 'fair', 'camp', 'cult', 'alive', 'tough', 'catch', 'stick', 'jim', 'aside', 'remains', 'rare', 'thinks', 'knowing', 'dad', 'appeal', 'meaning', 'army', 'silent', 'genius', 'added', 'detective', 'terms', 'military', 'managed', 'humour', 'taste', 'garbage', 'sam', 'soldiers', 'walking', 'sexy', 'dreams', 'smith', 'twists', 'standard', 'attack', 'subtle', 'loves', 'beautifully', 'comedies', 'london', 'journey', 'yeah', 'personally', 'nowhere', 'touching', 'honestly', 'woods', 'purpose', 'pick', 'complex', 'likely', 'naked', 'harry', 'channel', 'equally', 'excuse', 'wild', 'terrific', 'mood', 'master', 'fully', 'plan', 'chase', 'lovely', 'narrative', 'road', 'cinematic', 'themes', 'central', 'surely', 'fiction', 'constantly', 'contains', 'issues', 'pass', 'slowly', 'self', 'outstanding', 'nobody', 'week', 'unbelievable', 'brain', 'painful', 'innocent', 'batman', 'presented', 'thrown', 'disappointing', 'youd', 'presence', 'date', 'marriage', 'historical', 'animals', 'spoilers', 'thus', 'thank', 'impression', 'stunning', 'laughable', 'shoot', 'critics', 'mysterious', 'places', 'hoping', 'makers', 'stands', 'club', 'costumes', 'details', 'mistake', 'edge', 'photography', 'justice', 'sent', 'indian', 'christopher', 'charm', 'soul', 'chris', 'charles', 'aspects', 'minor', 'door', 'finish', 'brief', 'ride', 'exception', 'makeup', 'law', 'climax', 'heavy', 'stewart', 'manner', 'feelings', 'government', 'suppose', 'color', 'support', 'vampire', 'mainly', 'expectations', 'boss', 'pieces', 'train', 'festival', 'opportunity', 'element', 'scenery', 'gang', 'names', 'acts', 'filming', 'loud', 'paris', 'bother', 'cry', 'victims', 'track', 'puts', 'changes', 'intended', 'serial', 'rated', 'smart', 'award', 'falling', 'drawn', 'fascinating', 'throw', 'available', 'emotions', 'tired', 'disappointment', 'suggest', 'charlie', 'include', 'victim', 'hasnt', 'church', 'twice', 'blue', 'hey', 'building', 'emotion', 'confused', 'likable', 'henry', 'compelling', 'hotel', 'ahead', 'motion', 'appeared', 'followed', 'd', 'green', 'developed', 'dies', 'giant', 'million', 'image', 'pain', 'laughed', 'students', 'lacks', 'mans', 'besides', 'gorgeous', 'approach', 'impact', 'difference', 'everybody', 'share', 'forever', 'offer', 'st', 'wow', 'hurt', 'fellow', 'bruce', 'fresh', 'bed', 'trailer', 'merely', 'happening', 'wondering', 'proves', 'kelly', 'confusing', 'speaking', 'finding', 'bar', 'drive', 'moral', 'answer', 'shock', 'relationships', 'helps', 'supposedly', 'adults', 'system', 'funniest', 'random', 'key', 'jones', 'notice', 'jerry', 'putting', 'creative', 'mix', 'delivers', 'numbers', 'murders', 'lighting', 'noir', 'student', 'christian', 'provides', 'opera', 'billy', 'mediocre', 'paid', 'damn', 'born', 'bottom', 'zero', 'addition', 'absolute', 'event', 'negative', 'park', 'lived', 'impressed', 'content', 'becoming', 'drug', 'gem', 'alien', 'fell', 'thoroughly', 'page', 'tragedy', 'offers', 'summer', 'flying', 'boyfriend', 'land', 'producer', 'childhood', 'flaws', 'lover', 'flicks', 'reminded', 'imagination', 'hospital', 'lose', 'ms', 'attractive', 'seemingly', 'stuck', 'ii', 'race', 'standards', 'tragic', 'rented', 'shouldnt', 'ugly', 'americans', 'extreme', 'agent', 'six', 'held', 'nasty', 'holes', 'intense', 'spot', 'adds', 'williams', 'rape', 'afraid', 'seconds', 'martin', 'beat', 'detail', 'pull', 'hidden', 'artistic', 'faces', 'asks', 'filmmaker', 'porn', 'super', 'turning', 'games', 'folks', 'collection', 'ray', 'industry', 'step', 'arthur', 'therefore', 'al', 'affair', 'states', 'onto', 'shocking', 'latter', 'forgotten', 'describe', 'area', 'angry', 'picked', 'teenage', 'davis', 'alan', 'ready', 'actresses', 'mom', 'grade', 'redeeming', 'favourite', 'led', 'design', 'deliver', 'information', 'allowed', 'wooden', 'count', 'seven', 'soldier', 'dirty', 'struggle', 'compare', 'thin', 'carry', 'queen', 'location', 'inspired', 'helped', 'personality', 'includes', 'chinese', 'brian', 'willing', 'ground', 'apartment', 'news', 'lord', 'moved', 'bond', 'deeply', 'fashion', 'animal', 'wonderfully', 'allen', 'wars', 'desperate', 'intelligence', 'martial', 'quick', 'clich', 'listen', 'direct', 'uncle', 'member', 'criminal', 'food', 'began', 'professional', 'grace', 'stephen', 'captain', 'scientist', 'castle', 'cops', 'creature', 'theatre', 'double', 'todays', 'clothes', 'mental', 'humans', 'jason', 'rarely', 'introduced', 'cgi', 'anymore', 'worthy', 'phone', 'necessary', 'plane', 'spoiler', 'wearing', 'comedic', 'independent', 'realized', 'tears', 'don', 'commentary', 'dying', 'drugs', 'fox', 'apparent', 'trust', 'provide', 'physical', 'superior', 'energy', 'ship', 'treat', 'allow', 'technical', 'wall', 'nightmare', 'continue', 'desire', 'epic', 'sky', 'remarkable', 'arts', 'sight', 'mouth', 'stone', 'unusual', 'filmmaking', 'returns', 'accident', 'limited', 'heroes', 'powers', 'scared', 'ring', 'witch', 'station', 'bloody', 'reminds', 'douglas', 'engaging', 'whatsoever', 'accept', 'pleasure', 'holds', 'suspect', 'wedding', 'danny', 'search', 'actions', 'surprising', 'hated', 'teacher', 'intriguing', 'brutal', 'build', 'disaster', 'clichs', 'tim', 'machine', 'wanting', 'asked', 'academy', 'sleep', 'sat', 'russian', 'unnecessary', 'constant', 'vision', 'grand', 'finished', 'pacing', 'fred', 'bits', 'ie', 'process', 'suicide', 'absurd', 'religious', 'artist', 'johnny', 'passion', 'nicely', 'extra', 'normally', 'lies', 'legend', 'suit', 'anywhere', 'warning', 'monsters', 'roll', 'gotten', 'blame', 'lovers', 'anybody', 'joy', 'media', 'killers', 'dangerous', 'faith', 'growing', 'explanation', 'deserve', 'joan', 'watchable', 'instance', 'toward', 'ladies', 'met', 'ed', 'players', 'memory', 'villains', 'winning', 'unknown', 'skip', 'quiet', 'andy', 'capture', 'torture', 'hadnt', 'heads', 'higher', 'smile', 'accurate', 'eddie', 'pilot', 'jump', 'somebody', 'cars', 'hopes', 'heaven', 'according', 'jr', 'fail', 'jeff', 'community', 'river', 'creating', 'nick', 'exist', 'friendship', 'guns', 'responsible', 'teen', 'fights', 'record', 'featuring', 'vs', 'saved', 'kevin', 'moon', 'pulled', 'england', 'originally', 'worlds', 'dick', 'superman', 'explained', 'months', 'understanding', 'terribly', 'taylor', 'lowbudget', 'whilst', 'starting', 'european', 'keeping', 'jesus', 'dressed', 'hits', 'manage', 'treated', 'kinda', 'reviewers', 'memories', 'radio', 'adam', 'mixed', 'numerous', 'finest', 'c', 'prince', 'judge', 'knowledge', 'loving', 'tarzan', 'officer', 'issue', 'lacking', 'vhs', 'player', 'delightful', 'private', 'unfunny', 'deserved', 'discover', 'pop', 'bland', 'jackson', 'sucks', 'prove', 'horse', 'fat', 'eat', 'price', 'psychological', 'streets', 'regular', 'forces', 'whenever', 'loose', 'floor', 'included', 'screaming', 'peoples', 'japan', 'pretentious', 'ordinary', 'witty', 'loss', 'field', 'jean', 'sign', 'spanish', 'drunk', 'opposite', 'heroine', 'weve', 'driving', 'portray', 'cable', 'empty', 'dated', 'conflict', 'humanity', 'loses', 'broken', 'bright', 'skills', 'noticed', 'mike', 'opens', 'locations', 'cuts', 'gene', 'bigger', 'talents', 'breaks', 'cage', 'aware', 'calls', 'discovered', 'saving', 'mine', 'heres', 'morning', 'continues', 'partner', 'international', 'deals', 'wind', 'scream', 'humorous', 'captured', 'dealing', 'blonde', 'ball', 'curious', 'visit', 'golden', 'length', 'werewolf', 'youth', 'fate', 'theyve', 'plots', 'gags', 'connection', 'traditional', 'magnificent', 'soap', 'gold', 'nonsense', 'results', 'rubbish', 'concerned', 'genuine', 'miles', 'debut', 'current', 'received', 'naturally', 'murdered', 'realism', 'perspective', 'allows', 'shallow', 'advice', 'fathers', 'learned', 'versions', 'satire', 'sing', 'kate', 'behavior', 'below', 'genuinely', 'occasionally', 'blind', 'bank', 'bob', 'proved', 'grew', 'jimmy', 'kong', 'lesson', 'mission', 'stock', 'national', 'context', 'revealed', 'essentially', 'corny', 'segment', 'formula', 'anthony', 'ultimate', 'visuals', 'cameo', 'sheer', 'santa', 'washington', 'unexpected', 'sean', 'vampires', 'morgan', 'unable', 'mrs', 'develop', 'underrated', 'shop', 'remembered', 'favor', 'steal', 'visually', 'frankly', 'owner', 'finale', 'study', 'reach', 'luck', 'window', 'ages', 'ford', 'efforts', 'survive', 'cross', 'jennifer', 'references', 'identity', 'sudden', 'decade', 'keaton', 'albert', 'harris', 'sea', 'village', 'gonna', 'strength', 'program', 'brilliantly', 'discovers', 'passed', 'awkward', 'desert', 'wise', 'singer', 'sisters', 'gary', 'crappy', 'spectacular', 'r', 'majority', 'logic', 'welles', 'existence', 'sake', 'candy', 'awards', 'gangster', 'ice', 'board', 'types', 'leader', 'delivered', 'ann', 'creates', 'standing', 'stereotypes', 'flashbacks', 'bet', 'relate', 'reaction', 'lake', 'insane', 'utter', 'caused', 'sucked', 'gratuitous', 'f', 'graphic', 'ran', 'rob', 'speed', 'meeting', 'pair', 'grant', 'trek', 'daughters', 'foot', 'relief', 'dreadful', 'painfully', 'foreign', 'lucky', 'boat', 'fault', 'edited', 'emotionally', 'practically', 'author', 'families', 'travel', 'eric', 'failure', 'described', 'devil', 'pleasant', 'freedom', 'decision', 'endless', 'robin', 'technology', 'site', 'reviewer', 'overly', 'comparison', 'native', 'combination', 'assume', 'ancient', 'seasons', 'portrays', 'anime', 'feet', 'aka', 'thomas', 'rules', 'president', 'test', 'attitude', 'hearing', 'laughter', 'proper', 'dan', 'treatment', 'vehicle', 'portraying', 'twenty', 'stopped', 'wide', 'asking', 'eating', 'commercial', 'sell', 'range', 'brown', 'choose', 'parody', 'buddy', 'learns', 'chosen', 'executed', 'marry', 'howard', 'uk', 'believes', 'post', 'bear', 'capable', 'simon', 'steven', 'excited', 'largely', 'involves', 'gory', 'classics', 'fill', 'tape', 'recall', 'hitler', 'produce', 'evening', 'barbara', 'grow', 'lynch', 'wood', 'religion', 'broadway', 'product', 'wit', 'unrealistic', 'model', 'contrived', 'levels', 'halloween', 'entertained', 'luke', 'center', 'sheriff', 'round', 'anna', 'clue', 'drew', 'theatrical', 'ruined', 'costs', 'theaters', 'kick', 'irritating', 'rescue', 'depressing', 'strongly', 'haunting', 'contrast', 'sequels', 'claim', 'suffering', 'built', 'handsome', 'appealing', 'sympathetic', 'individual', 'research', 'destroy', 'sports', 'heck', 'rose', 'generation', 'protagonist', 'captures', 'extras', 'embarrassing', 'disgusting', 'shakespeare', 'talks', 'rise', 'clean', 'facts', 'hill', 'evidence', 'losing', 'dry', 'victor', 'appropriate', 'fame', 'tend', 'hunter', 'chick', 'parker', 'woody', 'cares', 'chief', 'joseph', 'asian', 'matters', 'hanging', 'naive', 'daniel', 'grown', 'football', 'bringing', 'voices', 'relatively', 'nevertheless', 'scare', 'thoughts', 'exploitation', 'walks', 'roy', 'training', 'horribly', 'haunted', 'costume', 'freddy', 'canadian', 'france', 'virtually', 'obsessed', 'correct', 'fits', 'priest', 'spoil', 'steals', 'convinced', 'promise', 'matt', 'mask', 'teenagers', 'frame', 'insult', 'safe', 'creatures', 'saturday', 'teenager', 'crowd', 'vote', 'cost', 'dogs', 'fly', 'bomb', 'europe', 'initial', 'yearold', 'till', 'lousy', 'halfway', 'cash', 'excitement', 'pity', 'satisfying', 'remain', 'dubbed', 'send', 'depicted', 'ryan', 'patrick', 'amateurish', 'psycho', 'influence', 'winner', 'hide', 'holding', 'united', 'tiny', 'lower', 'angel', 'bodies', 'alex', 'germany', 'tedious', 'contemporary', 'texas', 'louis', 'gordon', 'substance', 'asleep', 'unfortunate', 'jackie', 'cowboy', 'soft', 'unlikely', 'circumstances', 'nominated', 'oliver', 'touches', 'weekend', 'trilogy', 'danger', 'presents', 'baseball', 'hopefully', 'flesh', 'drag', 'lewis', 'australian', 'lawyer', 'closer', 'max', 'viewed', 'witness', 'continuity', 'provided', 'serves', 'cartoons', 'marie', 'walter', 'handled', 'suffers', 'fool', 'weeks', 'amateur', 'sons', 'meanwhile', 'structure', 'shocked', 'politics', 'fu', 'cinderella', 'source', 'fare', 'category', 'reporter', 'ruin', 'surreal', 'seat', 'repeated', 'brave', 'refreshing', 'nancy', 'chose', 'offensive', 'hunt', 'latest', 'accidentally', 'angles', 'display', 'promising', 'plans', 'africa', 'supernatural', 'pile', 'warm', 'overthetop', 'roger', 'deaths', 'market', 'studios', 'robot', 'wayne', 'north', 'speaks', 'claims', 'previously', 'target', 'qualities', 'realizes', 'colors', 'anne', 'surprises', 'bugs', 'deadly', 'experiences', 'storytelling', 'factor', 'accents', 'adventures', 'harsh', 'convince', 'artists', 'designed', 'covered', 'welcome', 'hall', 'lesbian', 'speech', 'believed', 'skin', 'rental', 'wouldve', 'service', 'draw', 'recognize', 'movement', 'professor', 'mainstream', 'highlight', 'degree', 'hat', 'occasional', 'mistakes', 'uninteresting', 'aliens', 'sinatra', 'routine', 'victoria', 'propaganda', 'columbo', 'rain', 'directly', 'struggling', 'guilty', 'minds', 'walked', 'universal', 'twisted', 'magical', 'explains', 'friday', 'veteran', 'kinds', 'downright', 'focused', 'breaking', 'massive', 'combined', 'nude', 'invisible', 'inner', 'print', 'paper', 'princess', 'committed', 'teens', 'sympathy', 'section', 'edward', 'moore', 'offered', 'narration', 'remotely', 'j', 'ass', 'irish', 'gritty', 'prime', 'sorts', 'universe', 'suspenseful', 'treasure', 'peace', 'experienced', 'enemy', 'featured', 'express', 'multiple', 'lonely', 'x', 'atrocious', 'reveal', 'regret', 'execution', 'sharp', 'whoever', 'legendary', 'kim', 'frightening', 'spends', 'insight', 'dollars', 'performed', 'reputation', 'figures', 'exact', 'figured', 'hong', 'abuse', 'variety', 'birth', 'passing', 'forest', 'rings', 'surface', 'fairy', 'prior', 'fictional', 'forgettable', 'false', 'anger', 'path', 'stolen', 'bothered', 'abandoned', 'theory', 'hired', 'ghosts', 'enter', 'pulls', 'core', 'conversation', 'crash', 'subtitles', 'crying', 'spy', 'darkness', 'dozen', 'statement', 'paced', 'reveals', 'anderson', 'paint', 'erotic', 'russell', 'granted', 'mountain', 'security', 'required', 'donald', 'powell', 'stays', 'blow', 'effectively', 'terror', 'trapped', 'stayed', 'drop', 'significant', 'cutting', 'hed', 'melodrama', 'wilson', 'urban', 'worthwhile', 'paying', 'gas', 'crude', 'eight', 'demons', 'slapstick', 'proud', 'focuses', 'grim', 'von', 'rights', 'everywhere', 'mere', 'buying', 'african', 'quest', 'scale', 'spite', 'lights', 'beach', 'grave', 'account', 'wear', 'mgm', 'necessarily', 'forth', 'heavily', 'jobs', 'listening', 'scares', 'unconvincing', 'department', 'destroyed', 'bmovie', 'emma', 'childrens', 'clichd', 'sir', 'afternoon', 'delivery', 'amazed', 'network', 'andor', 'bus', 'rule', 'device', 'desperately', 'metal', 'vietnam', 'imagery', 'caine', 'facial', 'driven', 'aint', 'scenario', 'titanic', 'cruel', 'sounded', 'sensitive', 'flashback', 'matrix', 'bbc', 'dean', 'idiot', 'fabulous', 'changing', 'reminiscent', 'julia', 'mature', 'favorites', 'position', 'belief', 'driver', 'faithful', 'skill', 'junk', 'revolution', 'placed', 'mothers', 'settings', 'novels', 'code', 'extraordinary', 'blockbuster', 'murphy', 'forgot', 'suffer', 'mexican', 'clark', 'closing', 'sunday', 'beloved', 'lifetime', 'campy', 'happiness', 'deeper', 'ron', 'jon', 'greater', 'helping', 'musicals', 'stereotypical', 'interview', 'views', 'angle', 'california', 'achieve', 'renting', 'criminals', 'prefer', 'ignore', 'court', 'sleeping', 'pitt', 'dude', 'notorious', 'inept', 'san', 'understood', 'seek', 'beast', 'learning', 'mexico', 'alright', 'league', 'examples', 'depiction', 'rolling', 'amazingly', 'sitcom', 'bourne', 'pregnant', 'teeth', 'raw', 'couldve', 'lisa', 'breathtaking', 'blah', 'convey', 'jungle', 'bore', 'encounter', 'picks', 'disbelief', 'midnight', 'format', 'china', 'summary', 'purely', 'table', 'entertain', 'dennis', 'honor', 'cultural', 'quirky', 'status', 'kung', 'mildly', 'rough', 'answers', 'description', 'critical', 'fourth', 'calling', 'expert', 'indie', 'decades', 'complicated', 'starred', 'prepared', 'murderer', 'burns', 'throws', 'serve', 'rip', 'pacino', 'underground', 'touched', 'julie', 'throwing', 'join', 'appreciated', 'dragon', 'friendly', 'drinking', 'initially', 'productions', 'sarah', 'arms', 'basis', 'funnier', 'subplot', 'comical', 'carries', 'regarding', 'everyday', 'alice', 'expression', 'via', 'raised', 'protect', 'introduction', 'base', 'freeman', 'criticism', 'blown', 'succeeds', 'task', 'ned', 'suck', 'intellectual', 'susan', 'bollywood', 'thankfully', 'inspiration', 'extent', 'fallen', 'wears', 'kiss', 'larry', 'leslie', 'caring', 'dress', 'racist', 'usa', 'brad', 'cabin', 'choices', 'causes', 'regard', 'brooks', 'environment', 'raise', 'truck', 'moviethe', 'carried', 'carrying', 'shadow', 'flight', 'handle', 'socalled', 'rachel', 'attempting', 'originality', 'sword', 'lazy', 'itthe', 'experiment', 'challenge', 'related', 'protagonists', 'warned', 'praise', 'cases', 'foster', 'u', 'notable', 'ted', 'cell', 'ripoff', 'embarrassed', 'charge', 'ludicrous', 'enjoying', 'sinister', 'tales', 'spoof', 'writerdirector', 'weapons', 'johnson', 'lie', 'shut', 'locked', 'turkey', 'maria', 'nowadays', 'gruesome', 'ironic', 'hoffman', 'o', 'wins', 'southern', 'replaced', 'rogers', 'properly', 'adding', 'breath', 'angels', 'determined', 'escapes', 'daily', 'sun', 'pet', 'westerns', 'obnoxious', 'interpretation', 'aunt', 'screening', 'amongst', 'sleazy', 'blair', 'clips', 'interviews', 'tradition', 'remote', 'jail', 'obsession', 'wave', 'sold', 'exists', 'tight', 'strangely', 'reference', 'served', 'michelle', 'arrives', 'jumps', 'scripts', 'chilling', 'essential', 'hardy', 'contain', 'stops', 'navy', 'trick', 'burt', 'remind', 'claire', 'attacked', 'lugosi', 'punch', 'warner', 'elizabeth', 'marvelous', 'timing', 'goofy', 'successfully', 'dollar', 'laura', 'balance', 'hills', 'graphics', 'jessica', 'frequently', 'hitchcock', 'ashamed', 'established', 'che', 'rival', 'nonexistent', 'drives', 'term', 'sum', 'revolves', 'india', 'refuses', 'authentic', 'jewish', 'oscars', 'flawed', 'risk', 'mindless', 'mirror', 'flow', 'stylish', 'warn', 'mentally', 'busy', 'nation', 'delight', 'legs', 'par', 'upset', 'struggles', 'h', 'manager', 'comedian', 'horrific', 'albeit', 'sidney', 'lane', 'suspects', 'sides', 'hood', 'n', 'titles', 'overcome', 'tree', 'shower', 'hence', 'greatly', 'intensity', 'stanley', 'intentions', 'wishes', 'retarded', 'cynical', 'inspector', 'madness', 'spoken', 'riding', 'mansion', 'expressions', 'tense', 'gods', 'toy', 'lesser', 'guard', 'attacks', 'bridge', 'mob', 'stomach', 'poignant', 'roberts', 'vacation', 'lion', 'bitter', 'presentation', 'andrews', 'buck', 'controversial', 'topic', 'fbi', 'personalities', 'husbands', 'confusion', 'wealthy', 'thousands', 'cooper', 'wasting', 'demon', 'medical', 'glimpse', 'technically', 'philip', 'bette', 'stranger', 'thrilling', 'suffered', 'stupidity', 'internet', 'opened', 'chan', 'pride', 'shorts', 'storm', 'dinner', 'ratings', 'alas', 'eg', 'guessing', 'bound', 'hundreds', 'broke', 'chair', 'happily', 'adapted', 'corner', 'patient', 'filmthe', 'courage', 'scientists', 'mass', 'holmes', 'perform', 'shines', 'hint', 'dislike', 'seeking', 'uncomfortable', 'nazi', 'separate', 'text', 'advantage', 'lessons', 'chases', 'infamous', 'miscast', 'contact', 'needless', 'countries', 'performers', 'sings', 'gross', 'trite', 'credible', 'horses', 'physically', 'mouse', 'dubbing', 'innocence', 'trial', 'shape', 'east', 'letting', 'suggests', 'atmospheric', 'rocks', 'credibility', 'thief', 'reed', 'jay', 'reunion', 'womans', 'cameos', 'glass', 'millions', 'whereas', 'hundred', 'consists', 'gripping', 'hole', 'lucy', 'sexuality', 'elvis', 'cook', 'tied', 'tracy', 'noble', 'pool', 'portrait', 'crisis', 'technique', 'miller', 'sin', 'develops', 'ensemble', 'steps', 'troubled', 'curse', 'lovable', 'concert', 'exceptional', 'grey', 'bears', 'enjoyment', 'noted', 'oneliners', 'saves', 'holiday', 'idiotic', 'lying', 'racism', 'hanks', 'pg', 'wwii', 'proof', 'gain', 'franchise', 'meaningful', 'neat', 'torn', 'oddly', 'lincoln', 'stretch', 'catholic', 'sentimental', 'weapon', 'accepted', 'screenwriter', 'entry', 'bo', 'drink', 'plastic', 'succeed', 'searching', 'attraction', 'hiding', 'shed', 'connected', 'vincent', 'dialogs', 'imaginative', 'fish', 'host', 'spots', 'belongs', 'dig', 'thrillers', 'unforgettable', 'bettie', 'sends', 'solve', 'aired', 'flaw', 'sandler', 'concerns', 'annoyed', 'hoped', 'kurt', 'object', 'helen', 'pack', 'christ', 'ralph', 'card', 'guts', 'nine', 'hearts', 'nonetheless', 'fortunately', 'achieved', 'assistant', 'endearing', 'arm', 'irony', 'nd', 'closely', 'virgin', 'worry', 'crimes', 'redemption', 'bag', 'repeat', 'nights', 'fortune', 'eerie', 'homeless', 'encounters', 'equal', 'profound', 'andrew', 'cousin', 'snow', 'per', 'striking', 'ourselves', 'dealt', 'aged', 'appearances', 'battles', 'believing', 'teach', 'complaint', 'checking', 'segments', 'tribute', 'library', 'italy', 'neighborhood', 'videos', 'ha', 'dragged', 'factory', 'covers', 'persons', 'hunting', 'colorful', 'tune', 'quote', 'oil', 'dentist', 'miniseries', 'civil', 'mstk', 'sutherland', 'thousand', 'essence', 'bucks', 'bat', 'hang', 'hooked', 'nelson', 'lucas', 'slight', 'pointed', 'jake', 'widmark', 'dancer', 'laid', 'charisma', 'split', 'strikes', 'baker', 'zone', 'countless', 'tour', 'glory', 'expensive', 'pat', 'knife', 'shoots', 'rush', 'cheese', 'stanwyck', 'hamlet', 'colour', 'dare', 'dear', 'surrounded', 'cube', 'competent', 'condition', 'attempted', 'appearing', 'surrounding', 'stood', 'spending', 'workers', 't', 'charismatic', 'incoherent', 'health', 'pitch', 'stronger', 'specific', 'chasing', 'intention', 'stealing', 'crafted', 'theyd', 'dorothy', 'month', 'massacre', 'catherine', 'attached', 'grows', 'unintentionally', 'shall', 'aforementioned', 'lloyd', 'rushed', 'ripped', 'terrifying', 'chances', 'horrendous', 'easier', 'messages', 'setup', 'stunts', 'reactions', 'moviei', 'fx', 'associated', 'iti', 'hip', 'individuals', 'trade', 'curtis', 'seagal', 'wing', 'rochester', 'requires', 'elsewhere', 'sexually', 'perfection', 'tricks', 'birthday', 'tons', 'beating', 'university', 'burning', 'creators', 'magazine', 'arnold', 'sullivan', 'corrupt', 'guilt', 'wake', 'kings', 'gift', 'nose', 'homage', 'drags', 'goal', 'le', 'guest', 'noise', 'identify', 'revelation', 'cats', 'dropped', 'stated', 'gag', 'matthau', 'stunt', 'silver', 'dawn', 'forgive', 'increasingly', 'exercise', 'represents', 'overrated', 'allowing', 'importance', 'boredom', 'neck', 'fired', 'dramas', 'wanna', 'cardboard', 'vague', 'strictly', 'spike', 'stan', 'importantly', 'painting', 'performing', 'commit', 'instantly', 'jeremy', 'contract', 'enters', 'kidnapped', 'walls', 'hype', 'briefly', 'killings', 'kane', 'faced', 'horrors', 'gotta', 'camerawork', 'plague', 'reynolds', 'medium', 'kicks', 'loser', 'fitting', 'mustsee', 'virus', 'pushed', 'disagree', 'techniques', 'row', 'carefully', 'fifteen', 'pie', 'notch', 'basement', 'handful', 'chuck', 'sophisticated', 'branagh', 'gothic', 'barry', 'winter', 'godfather', 'weight', 'denzel', 'packed', 'pleased', 'typically', 'wonders', 'realise', 'ian', 'brand', 'bobby', 'relevant', 'doors', 'nuclear', 'chaplin', 'partly', 'reallife', 'presumably', 'letter', 'strip', 'shining', 'persona', 'admire', 'continued', 'acceptable', 'press', 'flash', 'marks', 'occurs', 'overlooked', 'silence', 'bride', 'jesse', 'talked', 'britain', 'tremendous', 'korean', 'pleasantly', 'frustrated', 'toilet', 'resolution', 'heat', 'wondered', 'superhero', 'hitting', 'hudson', 'comics', 'buried', 'fears', 'worthless', 'evident', 'breasts', 'eva', 'destruction', 'inevitable', 'arrested', 'secretary', 'iii', 'boll', 'prevent', 'lab', 'listed', 'brilliance', 'thumbs', 'competition', 'strike', 'fatal', 'accused', 'flawless', 'larger', 'superbly', 'los', 'canada', 'bush', 'projects', 'spell', 'beings', 'walken', 'boxing', 'derek', 'stiff', 'admittedly', 'guide', 'digital', 'attracted', 'investigation', 'executive', 'bible', 'subplots', 'bullets', 'opposed', 'brando', 'estate', 'shy', 'masters', 'struck', 'jumping', 'appalling', 'carol', 'genres', 'root', 'clues', 'nazis', 'citizen', 'outrageous', 'menacing', 'spiritual', 'closeups', 'directorial', 'someones', 'planning', 'dvds', 'luckily', 'union', 'returning', 'thrills', 'splendid', 'sally', 'mild', 'doc', 'ward', 'souls', 'sole', 'relative', 'subsequent', 'slightest', 'lacked', 'uninspired', 'logical', 'afterwards', 'inspiring', 'ambitious', 'cup', 'creation', 'suits', 'twin', 'mafia', 'jamie', 'precious', 'remaining', 'revealing', 'con', 'useless', 'glover', 'watches', 'neighbor', 'pulling', 'repetitive', 'raped', 'installment', 'characterization', 'elderly', 'reasonably', 'depression', 'ad', 'documentaries', 'aimed', 'convoluted', 'dire', 'savage', 'blob', 'wannabe', 'curiosity', 'notably', 'spooky', 'rd', 'morality', 'mid', 'hire', 'francisco', 'melodramatic', 'picking', 'failing', 'poverty', 'rid', 'minimal', 'non', 'conspiracy', 'insulting', 'drunken', 'push', 'draws', 'territory', 'intrigued', 'response', 'overdone', 'repeatedly', 'theyll', 'photographed', 'border', 'cox', 'smooth', 'burn', 'm', 'notes', 'screams', 'providing', 'cared', 'jerk', 'achievement', 'wicked', 'spoiled', 'accomplished', 'cia', 'ticket', 'wes', 'duke', 'generous', 'mile', 'shadows', 'reduced', 'explore', 'psychiatrist', 'adams', 'timeless', 'ken', 'corpse', 'blows', 'futuristic', 'captivating', 'samurai', 'karloff', 'forbidden', 'bleak', 'alike', 'flynn', 'darker', 'distant', 'tea', 'streisand', 'hatred', 'jealous', 'heston', 'argument', 'spring', 'meat', 'loosely', 'sticks', 'elaborate', 'timothy', 'tall', 'mel', 'goldberg', 'reasonable', 'piano', 'manhattan', 'intent', 'wells', 'ritter', 'nurse', 'thirty', 'shell', 'laurel', 'outcome', 'motivation', 'burton', 'unbelievably', 'gentle', 'mitchell', 'beer', 'beaten', 'et', 'obscure', 'trap', 'highlights', 'grandmother', 'definite', 'rap', 'gradually', 'absence', 'ignored', 'misses', 'emily', 'improved', 'doctors', 'disease', 'childish', 'farce', 'discussion', 'huh', 'carpenter', 'em', 'stole', 'shoes', 'psychotic', 'explicit', 'cruise', 'cried', 'pushing', 'miserably', 'connect', 'throat', 'resembles', 'returned', 'tortured', 'tunes', 'spielberg', 'indians', 'concerning', 'davies', 'hardcore', 'blend', 'prom', 'consequences', 'temple', 'spin', 'norman', 'knock', 'extended', 'reached', 'horrid', 'builds', 'affected', 'string', 'worried', 'fancy', 'neil', 'brazil', 'shortly', 'liberal', 'warrior', 'ranks', 'exaggerated', 'vicious', 'regardless', 'threat', 'displays', 'turner', 'cameras', 'cole', 'sloppy', 'complain', 'purple', 'threw', 'idiots', 'monkey', 'subjects', 'craig', 'pretend', 'arrive', 'eve', 'ought', 'demands', 'sacrifice', 'dancers', 'danes', 'wreck', 'spirits', 'waters', 'fisher', 'houses', 'enjoys', 'alltime', 'shark', 'distance', 'website', 'swedish', 'triumph', 'broad', 'drivel', 'smoking', 'harder', 'duo', 'currently', 'hysterical', 'dave', 'sunshine', 'lou', 'receive', 'areas', 'ridiculously', 'carter', 'blank', 'overacting', 'diamond', 'eyre', 'elvira', 'alexander', 'poster', 'photographer', 'farm', 'restaurant', 'australia', 'conversations', 'groups', 'movements', 'annie', 'dynamic', 'disc', 'progress', 'drawing', 'size', 'argue', 'officers', 'burned', 'landscape', 'modesty', 'beats', 'heroic', 'fever', 'comfortable', 'selfish', 'exposed', 'daring', 'styles', 'matthew', 'brains', 'trio', 'scientific', 'staying', 'involvement', 'scripted', 'ironically', 'upper', 'g', 'investigate', 'ruth', 'murderous', 'load', 'smoke', 'selling', 'incident', 'broadcast', 'empire', 'engaged', 'devoted', 'glenn', 'commercials', 'dignity', 'differences', 'robots', 'popcorn', 'buddies', 'fay', 'warren', 'superficial', 'occur', 'jet', 'critic', 'vivid', 'discovery', 'proceedings', 'existed', 'bands', 'kenneth', 'offering', 'aging', 'mate', 'recognized', 'hollow', 'dinosaurs', 'couples', 'escaped', 'mountains', 'machines', 'newspaper', 'titled', 'translation', 'swear', 'orders', 'rural', 'cusack', 'threatening', 'ireland', 'producing', 'kitchen', 'apes', 'panic', 'symbolism', 'rage', 'secrets', 'uneven', 'merit', 'deliberately', 'innovative', 'kudos', 'winters', 'lips', 'contrary', 'explaining', 'bathroom', 'journalist', 'block', 'detailed', 'unbearable', 'ex', 'bite', 'tame', 'gray', 'cagney', 'greek', 'brosnan', 'thugs', 'choreography', 'carrey', 'lily', 'imagined', 'relies', 'implausible', 'lighthearted', 'unpleasant', 'wealth', 'folk', 'removed', 'staff', 'occurred', 'editor', 'juvenile', 'dawson', 'possibility', 'web', 'adequate', 'holy', 'intrigue', 'nearby', 'felix', 'hollywoods', 'signs', 'ingredients', 'versus', 'soviet', 'causing', 'birds', 'chain', 'generic', 'combat', 'maker', 'onscreen', 'abilities', 'margaret', 'craft', 'damage', 'conventional', 'pays', 'sidekick', 'overwhelming', 'abc', 'sadistic', 'meaningless', 'population', 'mildred', 'focusing', 'resemblance', 'nightmares', 'sadness', 'grab', 'primary', 'defeat', 'audio', 'travels', 'catches', 'astaire', 'joey', 'bell', 'eccentric', 'headed', 'lawrence', 'composed', 'portion', 'dialogues', 'stiller', 'narrator', 'bin', 'lifestyle', 'passes', 'trees', 'hurts', 'explosion', 'disturbed', 'discuss', 'twelve', 'flies', 'perry', 'pulp', 'ships', 'hugh', 'coherent', 'liking', 'afford', 'devoid', 'highest', 'clumsy', 'atlantis', 'exotic', 'giallo', 'shine', 'itll', 'settle', 'backdrop', 'financial', 'glorious', 'scheme', 'dozens', 'dracula', 'w', 'banned', 'clothing', 'chaos', 'winds', 'unintentional', 'primarily', 'hates', 'antics', 'react', 'falk', 'enormous', 'kirk', 'dimensional', 'hitman', 'explored', 'official', 'leg', 'thrill', 'beneath', 'blatant', 'altogether', 'represent', 'doomed', 'surviving', 'reaches', 'mixture', 'consistently', 'survival', 'urge', 'cameron', 'decisions', 'ties', 'models', 'clint', 'undoubtedly', 'bird', 'smaller', 'remarkably', 'roman', 'kapoor', 'karen', 'maggie', 'fond', 'carl', 'butt', 'rank', 'mistaken', 'fighter', 'props', 'bold', 'jeffrey', 'disjointed', 'neighbors', 'errors', 'unwatchable', 'describes', 'distracting', 'odds', 'slap', 'outer', 'notion', 'hints', 'dutch', 'careers', 'clown', 'cheating', 'cuba', 'florida', 'desperation', 'influenced', 'senseless', 'blew', 'mickey', 'seventies', 'kennedy', 'trailers', 'everyones', 'contained', 'garden', 'heartwarming', 'topless', 'spare', 'bedroom', 'freak', 'sport', 'brady', 'yesterday', 'impress', 'matches', 'drops', 'thick', 'dances', 'ups', 'survivors', 'ideal', 'hideous', 'tap', 'vast', 'whale', 'advance', 'instant', 'dating', 'uwe', 'offended', 'toys', 'monkeys', 'directs', 'richards', 'gangsters', 'possessed', 'brooklyn', 'benefit', 'hal', 'explosions', 'weakest', 'relations', 'backgrounds', 'tommy', 'wallace', 'classes', 'dedicated', 'divorce', 'adorable', 'crush', 'rebel', 'tear', 'countryside', 'flop', 'jazz', 'voight', 'specifically', 'guessed', 'gandhi', 'stellar', 'montage', 'rambo', 'loads', 'performer', 'april', 'revolutionary', 'ego', 'sits', 'walker', 'frustration', 'commented', 'introduces', 'simplistic', 'wolf', 'lasted', 'linda', 'tender', 'suited', 'rooms', 'awake', 'occasion', 'depressed', 'coffee', 'judging', 'practice', 'developing', 'saga', 'emphasis', 'principal', 'bare', 'politically', 'arrogant', 'shelf', 'ruthless', 'honesty', 'soccer', 'succeeded', 'philosophy', 'immensely', 'justify', 'illogical', 'doll', 'passionate', 'subtlety', 'hammer', 'satan', 'miserable', 'involve', 'mysteries', 'claimed', 'sellers', 'forms', 'motives', 'unfolds', 'similarities', 'link', 'disappeared', 'transformation', 'endure', 'funeral', 'aid', 'trashy', 'bone', 'kicked', 'amy', 'planned', 'interaction', 'tad', 'considerable', 'l', 'destiny', 'staged', 'solely', 'severe', 'loyal', 'avoided', 'circle', 'cary', 'endings', 'edie', 'command', 'stress', 'lust', 'outfit', 'method', 'measure', 'tracks', 'recorded', 'melting', 'blake', 'chorus', 'disappear', 'leonard', 'wore', 'cards', 'celluloid', 'facing', 'realizing', 'hank', 'menace', 'angeles', 'traveling', 'displayed', 'consistent', 'paulie', 'companion', 'isolated', 'stereotype', 'peters', 'hamilton', 'corruption', 'wrestling', 'synopsis', 'authority', 'todd', 'buffs', 'hbo', 'lyrics', 'eastwood', 'agrees', 'thoughtful', 'ease', 'chased', 'blues', 'photos', 'treats', 'cure', 'quotes', 'anyways', 'represented', 'swimming', 'kidding', 'formulaic', 'yellow', 'dolls', 'waited', 'jonathan', 'report', 'purchase', 'inventive', 'possibilities', 'nervous', 'grasp', 'embarrassment', 'donna', 'carrie', 'dickens', 'eighties', 'madefortv', 'e', 'satisfied', 'switch', 'goodness', 'taught', 'orson', 'preview', 'helicopter', 'enemies', 'riveting', 'ginger', 'surfing', 'colonel', 'defend', 'duty', 'snl', 'hunters', 'oz', 'handed', 'rick', 'ears', 'wished', 'cg', 'delivering', 'harvey', 'widow', 'disappoint', 'moody', 'onedimensional', 'march', 'comparing', 'relation', 'promised', 'myers', 'behave', 'improve', 'celebrity', 'tongue', 'faster', 'voiceover', 'vegas', 'enterprise', 'holly', 'cliff', 'philosophical', 'combine', 'unsettling', 'pages', 'buildings', 'suitable', 'fix', 'horrifying', 'judy', 'crack', 'closet', 'valuable', 'blond', 'parent', 'stinker', 'chess', 'terrorist', 'ignorant', 'diane', 'lemmon', 'bonus', 'solo', 'wives', 'prostitute', 'unhappy', 'hook', 'user', 'shirley', 'rocket', 'reads', 'buff', 'godzilla', 'waves', 'painted', 'kingdom', 'inane', 'scores', 'conflicts', 'corporate', 'closest', 'artificial', 'maintain', 'agents', 'tonight', 'engage', 'affect', 'elegant', 'online', 'humble', 'scottish', 'global', 'destroying', 'blacks', 'secretly', 'stooges', 'mario', 'ellen', 'reflect', 'sappy', 'snake', 'hart', 'education', 'thru', 'racial', 'germans', 'earned', 'lately', 'iron', 'miracle', 'slave', 'rotten', 'motivations', 'fooled', 'sentence', 'wed', 'pretending', 'scope', 'stinks', 'useful', 'furthermore', 'understandable', 'coach', 'reaching', 'abysmal', 'transfer', 'v', 'seed', 'staring', 'letters', 'safety', 'amanda', 'similarly', 'plant', 'shake', 'airplane', 'airport', 'museum', 'potentially', 'access', 'charlotte', 'centers', 'armed', 'stevens', 'questionable', 'remarks', 'jumped', 'alongside', 'womens', 'blade', 'inferior', 'intentionally', 'wet', 'arguably', 'channels', 'poetic', 'dub', 'exploration', 'nomination', 'wandering', 'bullet', 'concern', 'americas', 'purchased', 'depicts', 'dinosaur', 'faults', 'amounts', 'illegal', 'advise', 'filmi', 'blunt', 'rex', 'yelling', 'elephant', 'alcoholic', 'provoking', 'brutally', 'francis', 'finger', 'guarantee', 'nicholson', 'lay', 'tiresome', 'scarecrow', 'nostalgic', 'hung', 'communist', 'survived', 'civilization', 'virginia', 'trained', 'miike', 'arrived', 'punk', 'robbery', 'patients', 'homosexual', 'slick', 'showcase', 'campbell', 'splatter', 'floating', 'vulnerable', 'rising', 'lol', 'understated', 'beliefs', 'lengthy', 'greedy', 'proceeds', 'porno', 'spoke', 'bath', 'lees', 'tie', 'diana', 'joined', 'lena', 'edgar', 'convincingly', 'september', 'advanced', 'plight', 'namely', 'troops', 'rendition', 'mini', 'steel', 'pig', 'wizard', 'k', 'abusive', 'cleverly', 'confidence', 'grinch', 'terry', 'willis', 'familys', 'beatty', 'cinematographer', 'ah', 'downhill', 'nonstop', 'lit', 'relatives', 'wrapped', 'ballet', 'fascinated', 'spread', 'balls', 'visits', 'mall', 'sub', 'resort', 'bottle', 'careful', 'species', 'cake', 'advertising', 'attitudes', 'streep', 'carradine', 'ape', 'designs', 'construction', 'agreed', 'stilted', 'gadget', 'pokemon', 'morris', 'complexity', 'intimate', 'compelled', 'pops', 'frequent', 'taxi', 'inappropriate', 'june', 'wound', 'latin', 'classical', 'simplicity', 'foul', 'demented', 'babe', 'disneys', 'chicago', 'berlin', 'capturing', 'satisfy', 'lowest', 'cave', 'recognition', 'sandra', 'shirt', 'witches', 'cities', 'transition', 'christians', 'heartbreaking', 'niro', 'catchy', 'copies', 'limits', 'ruby', 'worker', 'macy', 'aids', 'nyc', 'hopper', 'damon', 'eager', 'opinions', 'parallel', 'raising', 'mars', 'grandfather', 'illness', 'chicks', 'li', 'akshay', 'lively', 'tends', 'alternate', 'lone', 'sue', 'losers', 'cheated', 'challenging', 'prisoner', 'hilariously', 'robinson', 'exceptionally', 'equivalent', 'edition', 'madonna', 'suspicious', 'junior', 'awe', 'accompanied', 'devils', 'dreary', 'bang', 'fonda', 'prequel', 'square', 'wellknown', 'jenny', 'khan', 'gundam', 'mundane', 'molly', 'manipulative', 'cinemas', 'ethan', 'incomprehensible', 'nonsensical', 'misery', 'seeks', 'olivier', 'conservative', 'wishing', 'nostalgia', 'writes', 'paltrow', 'mm', 'crucial', 'rat', 'da', 'choreographed', 'scooby', 'montana', 'witnesses', 'eaten', 'boot', 'prisoners', 'chooses', 'ocean', 'daddy', 'widely', 'twilight', 'tomatoes', 'homer', 'georges', 'poetry', 'del', 'chest', 'pursuit', 'der', 'overlook', 'ya', 'smiling', 'pearl', 'demand', 'schools', 'capital', 'remakes', 'crocodile', 'assault', 'suspend', 'kicking', 'appreciation', 'elm', 'wisdom', 'opportunities', 'awfully', 'belong', 'constructed', 'enthusiasm', 'vengeance', 'signed', 'nicholas', 'paranoia', 'basketball', 'resources', 'desired', 'plausible', 'progresses', 'phantom', 'domestic', 'laws', 'excessive', 'vaguely', 'methods', 'calm', 'likewise', 'restored', 'invasion', 'nations', 'messed', 'literature', 'legal', 'sincere', 'dalton', 'experiments', 'leo', 'shelley', 'performs', 'blowing', 'royal', 'incompetent', 'prize', 'bumbling', 'bakshi', 'unit', 'franco', 'witnessed', 'masterful', 'ps', 'trademark', 'showdown', 'climactic', 'borrowed', 'generations', 'promises', 'cd', 'assigned', 'responsibility', 'creativity', 'robbins', 'distinct', 'earl', 'randomly', 'resist', 'simmons', 'petty', 'richardson', 'doubts', 'mentions', 'masterpieces', 'polished', 'mechanical', 'wacky', 'recording', 'feed', 'arrival', 'mummy', 'tag', 'nuts', 'landscapes', 'introduce', 'mayor', 'descent', 'viewings', 'mann', 'map', 'operation', 'solution', 'stones', 'parties', 'justin', 'spirited', 'simpson', 'raymond', 'improvement', 'punishment', 'bela', 'gifted', 'wholly', 'strangers', 'fields', 'scrooge', 'ruins', 'instinct', 'receives', 'dust', 'underlying', 'terrorists', 'greed', 'resident', 'pit', 'craven', 'sneak', 'heights', 'conceived', 'mighty', 'attorney', 'icon', 'attend', 'sink', 'fury', 'unaware', 'bacall', 'gerard', 'jaws', 'assumed', 'rangers', 'visible', 'poem', 'marty', 'laughably', 'irrelevant', 'chapter', 'edgy', 'warmth', 'wounded', 'slaughter', 'quit', 'pot', 'troubles', 'activities', 'muslim', 'expressed', 'mentioning', 'businessman', 'contest', 'louise', 'gabriel', 'rocky', 'testament', 'warriors', 'acid', 'property', 'straightforward', 'educational', 'waitress', 'females', 'willie', 'closed', 'inevitably', 'historically', 'unoriginal', 'iran', 'equipment', 'kay', 'loaded', 'iraq', 'popularity', 'teaching', 'imitation', 'tiger', 'rats', 'swim', 'household', 'overlong', 'exposure', 'voiced', 'wouldbe', 'survivor', 'hello', 'alert', 'pants', 'pink', 'mistress', 'tooth', 'definition', 'depicting', 'fashioned', 'ashley', 'palace', 'empathy', 'omen', 'minimum', 'catching', 'middleaged', 'psychic', 'button', 'keith', 'stunned', 'twins', 'merits', 'grabs', 'rolled', 'brenda', 'bull', 'christy', 'metaphor', 'peak', 'spain', 'uplifting', 'supported', 'suggested', 'unreal', 'tribe', 'lumet', 'timon', 'confrontation', 'garbo', 'alfred', 'boom', 'cannibal', 'randy', 'immediate', 'accuracy', 'exchange', 'abraham', 'whoopi', 'significance', 'rabbit', 'championship', 'cringe', 'astonishing', 'fought', 'bergman', 'cliche', 'compassion', 'domino', 'pamela', 'interests', 'integrity', 'invented', 'rubber', 'stale', 'unseen', 'ramones', 'doom', 'heartfelt', 'roots', 'standout', 'masses', 'pressure', 'landing', 'resulting', 'shaky', 'despair', 'valley', 'marketing', 'moronic', 'sid', 'resemble', 'phony', 'disliked', 'eugene', 'noone', 'betty', 'bay', 'sounding', 'furious', 'retired', 'loyalty', 'wendy', 'ambiguous', 'greg', 'verhoeven', 'analysis', 'stretched', 'feelgood', 'shaw', 'subjected', 'teachers', 'wifes', 'trail', 'replace', 'lackluster', 'austin', 'creep', 'romero', 'comfort', 'biography', 'p', 'simultaneously', 'fulci', 'wretched', 'sopranos', 'inability', 'patience', 'defense', 'unexpectedly', 'gather', 'package', 'checked', 'monk', 'kubrick', 'watson', 'fascination', 'pierce', 'suffice', 'distribution', 'angela', 'unpredictable', 'adaptations', 'butler', 'defined', 'directions', 'josh', 'reflection', 'dolph', 'remained', 'expedition', 'orleans', 'confess', 'stumbled', 'drake', 'ollie', 'album', 'spock', 'technicolor', 'difficulties', 'hears', 'hopeless', 'reel', 'companies', 'stargate', 'polanski', 'closeup', 'newly', 'musicians', 'composer', 'deceased', 'roommate', 'phil', 'firm', 'israel', 'kyle', 'refused', 'travesty', 'require', 'nicole', 'sums', 'costar', 'objective', 'conditions', 'seldom', 'raises', 'roth', 'eastern', 'nail', 'unfair', 'rave', 'mankind', 'primitive', 'frightened', 'victory', 'ww', 'creator', 'legacy', 'claus', 'grayson', 'blast', 'sixties', 'frustrating', 'bud', 'dee', 'remade', 'amused', 'tastes', 'unlikable', 'interactions', 'min', 'dixon', 'experimental', 'favour', 'stark', 'awhile', 'vulgar', 'precisely', 'rates', 'farrell', 'respected', 'quietly', 'glasses', 'deranged', 'clip', 'flair', 'subpar', 'dreck', 'underneath', 'christianity', 'desires', 'casts', 'screens', 'shanghai', 'dimension', 'kissing', 'scotland', 'yard', 'raines', 'joins', 'darren', 'passable', 'owen', 'buffalo', 'presenting', 'maid', 'daniels', 'milk', 'secondly', 'discovering', 'abused', 'meryl', 'teaches', 'wakes', 'rises', 'pan', 'coast', 'pal', 'photo', 'softcore', 'reid', 'maniac', 'andre', 'spacey', 'encourage', 'examination', 'dresses', 'rude', 'dysfunctional', 'provocative', 'tank', 'exposition', 'joel', 'electric', 'amitabh', 'graham', 'literary', 'assassin', 'warming', 'widescreen', 'lands', 'othello', 'ninja', 'muddled', 'behaviour', 'fingers', 'framed', 'inexplicably', 'gender', 'matched', 'rely', 'walsh', 'specially', 'nerd', 'barrymore', 'comedians', 'alcohol', 'adopted', 'brutality', 'lundgren', 'les', 'dose', 'positively', 'deaf', 'shared', 'sunny', 'credited', 'lock', 'aspiring', 'nathan', 'complaining', 'karl', 'parade', 'automatically', 'purposes', 'choppy', 'grotesque', 'ss', 'mode', 'prepare', 'amusement', 'preposterous', 'filling', 'alternative', 'correctly', 'invites', 'ordered', 'appropriately', 'phrase', 'visiting', 'frankenstein', 'sharon', 'mtv', 'generated', 'knocked', 'premiere', 'wildly', 'julian', 'fest', 'tacky', 'senses', 'sentiment', 'alec', 'tomorrow', 'teams', 'bunny', 'wrap', 'referred', 'emperor', 'musician', 'shoddy', 'chicken', 'charged', 'femme', 'griffith', 'masks', 'paradise', 'roof', 'shouldve', 'connery', 'rifle', 'absent', 'reeves', 'marshall', 'hopkins', 'sentinel', 'marion', 'posters', 'fantasies', 'relax', 'ladder', 'tube', 'morbid', 'topnotch', 'counts', 'respective', 'romp', 'babies', 'citizens', 'gentleman', 'items', 'murdering', 'stuart', 'accomplish', 'translated', 'downey', 'complaints', 'abrupt', 'absurdity', 'spark', 'sissy', 'vice', 'function', 'carell', 'poison', 'tracking', 'vance', 'hopelessly', 'greatness', 'hackneyed', 'guests', 'rooney', 'releases', 'refer', 'cattle', 'sung', 'ross', 'preston', 'mclaglen', 'ustinov', 'demise', 'insurance', 'realised', 'uncut', 'loneliness', 'unfold', 'hawke', 'ignorance', 'thoughtprovoking', 'realm', 'costars', 'infected', 'deserted', 'glowing', 'eternal', 'affection', 'dana', 'wellwritten', 'challenges', 'misleading', 'russia', 'naughty', 'shoulders', 'kansas', 'towns', 'weakness', 'bernard', 'invited', 'pitiful', 'youngest', 'mins', 'additional', 'trend', 'corpses', 'fed', 'gambling', 'shares', 'celebration', 'bargain', 'ensues', 'skull', 'biko', 'silliness', 'nephew', 'indication', 'swing', 'leon', 'antwone', 'regarded', 'objects', 'imaginable', 'beverly', 'harm', 'hyde', 'pun', 'caricatures', 'singers', 'region', 'accepts', 'sabrina', 'laurence', 'asylum', 'wang', 'macarthur', 'handling', 'fi', 'drove', 'receiving', 'devices', 'active', 'reflects', 'admirable', 'recycled', 'cruelty', 'iconic', 'pro', 'threatens', 'oldest', 'lush', 'wilderness', 'cope', 'prey', 'phillips', 'secondary', 'grief', 'jews', 'recommendation', 'address', 'respectively', 'noises', 'promote', 'servant', 'conveys', 'nod', 'chills', 'coincidence', 'hitlers', 'puppet', 'owners', 'skits', 'ho', 'chainsaw', 'partners', 'minded', 'crystal', 'heros', 'hammy', 'palance', 'din', 'muppets', 'canyon', 'records', 'understands', 'disappears', 'prejudice', 'kumar', 'strongest', 'outing', 'heading', 'stores', 'weaknesses', 'squad', 'authors', 'obligatory', 'conscience', 'portrayals', 'occasions', 'acclaimed', 'posted', 'mill', 'reluctant', 'acceptance', 'belushi', 'sympathize', 'visited', 'cassidy', 'freaks', 'alicia', 'investigating', 'severely', 'crawford', 'fianc', 'rejected', 'industrial', 'insipid', 'burst', 'hk', 'affairs', 'standup', 'lifted', 'nolan', 'underworld', 'tyler', 'aim', 'conventions', 'outfits', 'forty', 'baldwin', 'inconsistent', 'depending', 'conviction', 'damme', 'venture', 'caliber', 'sci', 'deniro', 'prominent', 'filler', 'profanity', 'suitably', 'previews', 'priceless', 'difficulty', 'policeman', 'designer', 'predict', 'sketch', 'redeem', 'heist', 'demonstrates', 'dates', 'guaranteed', 'evidently', 'bros', 'frankie', 'hughes', 'shakespeares', 'murray', 'explores', 'phenomenon', 'rita', 'terrified', 'ear', 'selection', 'gems', 'palma', 'suspension', 'steady', 'thread', 'locals', 'emerges', 'elses', 'morally', 'fog', 'tripe', 'tasteless', 'shades', 'patricia', 'entitled', 'studying', 'malone', 'attract', 'darn', 'labor', 'psychology', 'misguided', 'ants', 'stages', 'paramount', 'muppet', 'wwe', 'mccoy', 'fishing', 'physics', 'vital', 'michaels', 'rod', 'feminist', 'marries', 'co', 'kungfu', 'lois', 'billed', 'slimy', 'hapless', 'mids', 'banal', 'sooner', 'cue', 'conclude', 'shouting', 'anticipation', 'snakes', 'reign', 'programs', 'hers', 'clock', 'eats', 'vibrant', 'betrayal', 'beatles', 'spinal', 'soup', 'reader', 'sht', 'forcing', 'marvel', 'diehard', 'representation', 'communicate', 'despicable', 'clarke', 'worn', 'firstly', 'orange', 'harmless', 'hippie', 'discussing', 'cream', 'alison', 'vein', 'filth', 'bridget', 'commander', 'basinger', 'insists', 'sending', 'iv', 'visions', 'cancer', 'deleted', 'agenda', 'kolchak', 'unexplained', 'bread', 'guitar', 'clueless', 'el', 'welldone', 'slice', 'claustrophobic', 'studies', 'tierney', 'shootout', 'housewife', 'transformed', 'rhythm', 'champion', 'renaissance', 'nicolas', 'harold', 'immature', 'assuming', 'claiming', 'rome', 'buster', 'tempted', 'blatantly', 'flowers', 'danish', 'clan', 'mirrors', 'soso', 'delicate', 'route', 'jacksons', 'befriends', 'considerably', 'millionaire', 'mentality', 'cannon', 'dud', 'minus', 'comparisons', 'option', 'depends', 'biased', 'ingenious', 'pounds', 'circus', 'crazed', 'ratso', 'moreover', 'bike', 'vader', 'springer', 'knight', 'sox', 'fido', 'casual', 'recognizable', 'shortcomings', 'exploring', 'someday', 'minority', 'bacon', 'gear', 'height', 'agency', 'glamorous', 'inhabitants', 'beside', 'kitty', 'hokey', 'wellmade', 'ethnic', 'tail', 'symbolic', 'detectives', 'fluff', 'nemesis', 'smiles', 'addicted', 'quinn', 'riot', 'repeating', 'ton', 'dressing', 'dukes', 'edit', 'limit', 'drivein', 'inexplicable', 'challenged', 'stumbles', 'connections', 'voted', 'remove', 'meg', 'gregory', 'campaign', 'historic', 'boston', 'adolescent', 'iq', 'schlock', 'unrelated', 'grainy', 'sassy', 'flashy', 'towers', 'melody', 'wings', 'paxton', 'defeated', 'legends', 'fontaine', 'grudge', 'lifeless', 'departure', 'paintings', 'handles', 'outright', 'shopping', 'exceptions', 'childs', 'tunnel', 'static', 'offbeat', 'backs', 'novak', 'bend', 'continually', 'independence', 'trials', 'token', 'uniformly', 'chuckle', 'fifty', 'ambition', 'feeding', 'disgusted', 'vocal', 'thompson', 'praised', 'computers', 'disguise', 'firing', 'surgery', 'bars', 'institution', 'coupled', 'martha', 'rapist', 'screwed', 'assassination', 'satirical', 'keen', 'stairs', 'partially', 'coup', 'couch', 'gina', 'pete', 'penny', 'controlled', 'trivia', 'foxx', 'charms', 'las', 'sorely', 'hangs', 'parsons', 'inspire', 'shoulder', 'threatened', 'cheer', 'hilarity', 'girlfriends', 'camcorder', 'newer', 'deserving', 'preferred', 'macho', 'dylan', 'disastrous', 'employed', 'centre', 'preachy', 'bowl', 'commenting', 'bully', 'destroys', 'thrilled', 'neurotic', 'pacific', 'earn', 'dirt', 'accurately', 'firmly', 'debate', 'feat', 'natives', 'sugar', 'artsy', 'gate', 'artwork', 'posey', 'arthouse', 'nails', 'northern', 'altman', 'stalker', 'serving', 'boxer', 'duck', 'hearted', 'audrey', 'bondage', 'outdated', 'hack', 'farfetched', 'wax', 'messy', 'kathryn', 'sirk', 'swept', 'bates', 'ace', 'mercy', 'yeti', 'organized', 'rukh', 'ripping', 'allens', 'cartoonish', 'europa', 'info', 'leigh', 'mutual', 'freddys', 'predecessor', 'speeches', 'toronto', 'completed', 'demonic', 'unlikeable', 'triangle', 'excess', 'sharing', 'doo', 'hides', 'melissa', 'steele', 'kidman', 'obtain', 'marlon', 'subtly', 'bridges', 'windows', 'elite', 'vile', 'brooding', 'strings', 'rooting', 'insightful', 'curly', 'vain', 'interestingly', 'males', 'layers', 'boasts', 'disorder', 'suggestion', 'uma', 'describing', 'healthy', 'topics', 'concepts', 'liners', 'garner', 'harrison', 'ta', 'mayhem', 'boyle', 'evolution', 'bent', 'audition', 'refuse', 'centered', 'destined', 'pole', 'screenwriters', 'entered', 'neatly', 'esther', 'lindsay', 'dj', 'fuller', 'winchester', 'duration', 'brendan', 'sleeps', 'fade', 'originals', 'refers', 'sincerely', 'skit', 'stopping', 'helpless', 'fist', 'colin', 'seedy', 'item', 'newman', 'weaker', 'deny', 'raj', 'guards', 'reruns', 'containing', 'traffic', 'tip', 'punches', 'undead', 'mannerisms', 'norm', 'readers', 'affects', 'woo', 'gal', 'shaking', 'saint', 'cassavetes', 'weather', 'kline', 'leaders', 'hires', 'rope', 'dazzling', 'masterfully', 'injured', 'charlton', 'des', 'anyones', 'mesmerizing', 'hungry', 'cliches', 'wig', 'elevator', 'exquisite', 'damaged', 'helpful', 'chavez', 'engrossing', 'rendered', 'relentless', 'christine', 'bulk', 'applaud', 'authorities', 'sometime', 'wanders', 'carla', 'politician', 'bogus', 'zombi', 'exploits', 'restrained', 'tower', 'akin', 'unsuspecting', 'lasting', 'proving', 'rides', 'statue', 'racing', 'emerge', 'jess', 'knightley', 'hugely', 'alley', 'quaid', 'activity', 'error', 'cbs', 'critique', 'motive', 'internal', 'crashes', 'contempt', 'publicity', 'users', 'triple', 'fifties', 'boris', 'frances', 'galaxy', 'luis', 'sleaze', 'jared', 'myth', 'lifes', 'owes', 'detract', 'breed', 'gained', 'behold', 'preparing', 'duvall', 'residents', 'excellently', 'stare', 'fastpaced', 'scariest', 'dudley', 'backwards', 'storys', 'stack', 'carey', 'wheres', 'passengers', 'shorter', 'hulk', 'advertised', 'candidate', 'chronicles', 'anton', 'demanding', 'lift', 'nut', 'genie', 'startling', 'goodbye', 'profession', 'tarantino', 'tenant', 'strengths', 'hartley', 'compete', 'wardrobe', 'expertly', 'located', 'suburban', 'net', 'factors', 'grounds', 'mail', 'heels', 'mixing', 'casino', 'origin', 'justified', 'insults', 'tops', 'misfortune', 'banter', 'breakfast', 'eleven', 'gimmick', 'origins', 'approaches', 'modest', 'insights', 'vastly', 'minister', 'mutant', 'stunningly', 'confront', 'kent', 'gillian', 'spree', 'bitch', 'netflix', 'youthful', 'servants', 'disguised', 'inaccurate', 'label', 'poker', 'conrad', 'promptly', 'votes', 'buys', 'cracking', 'convinces', 'authenticity', 'sg', 'rapidly', 'confronted', 'dubious', 'globe', 'giants', 'carmen', 'miami', 'choosing', 'insanity', 'highway', 'fools', 'joker', 'radical', 'jaw', 'ol', 'cerebral', 'abruptly', 'bow', 'realities', 'entering', 'cents', 'macabre', 'ingrid', 'limitations', 'lasts', 'belt', 'dropping', 'contribution', 'referring', 'tokyo', 'stallone', 'sf', 'depths', 'supply', 'approaching', 'antonio', 'biblical', 'lend', 'definitive', 'differently', 'landed', 'endlessly', 'fifth', 'derivative', 'tossed', 'perception', 'jarring', 'sticking', 'unsure', 'sinking', 'nope', 'interact', 'expects', 'reward', 'salt', 'undeniably', 'growth', 'puppets', 'dandy', 'salvation', 'tormented', 'jordan', 'formed', 'pale', 'accessible', 'homes', 'principals', 'gates', 'owns', 'heavyhanded', 'guinness', 'grateful', 'lukas', 'eventual', 'incidentally', 'bitten', 'rampage', 'fords', 'phillip', 'wander', 'beware', 'lowkey', 'painter', 'braveheart', 'confident', 'underwater', 'colours', 'inherent', 'lauren', 'alexandre', 'vividly', 'alvin', 'election', 'convicted', 'repulsive', 'conan', 'nina', 'rookie', 'mitch', 'bachelor', 'soylent', 'mol', 'austen', 'thunderbirds', 'puerto', 'eternity', 'incapable', 'concentrate', 'flashes', 'simpsons', 'nominations', 'published', 'pc', 'sniper', 'bruno', 'devastating', 'runner', 'barrel', 'stranded', 'evelyn', 'altered', 'bronson', 'glued', 'outline', 'immortal', 'dismal', 'spies', 'exploit', 'caricature', 'adore', 'flimsy', 'zane', 'letdown', 'gere', 'identical', 'survives', 'dragons', 'unattractive', 'homicide', 'depict', 'damned', 'vehicles', 'screw', 'exit', 'continuing', 'cries', 'sale', 'meandering', 'fatale', 'hats', 'overblown', 'mice', 'irene', 'siblings', 'ham', 'angst', 'playboy', 'ally', 'judd', 'goodlooking', 'decidedly', 'jedi', 'wendigo', 'godawful', 'assured', 'buzz', 'photographs', 'exterior', 'conveyed', 'monty', 'regards', 'janes', 'energetic', 'sensible', 'frames', 'separated', 'attenborough', 'cemetery', 'repressed', 'yokai', 'pray', 'ariel', 'respectable', 'intricate', 'cultures', 'homosexuality', 'enhanced', 'crossing', 'handheld', 'crippled', 'fragile', 'walt', 'crisp', 'unimaginative', 'toni', 'appeals', 'characteristics', 'butch', 'reviewing', 'enthusiastic', 'owned', 'cecil', 'heavens', 'pleasing', 'possess', 'colleagues', 'hindi', 'nerves', 'oldfashioned', 'psychopath', 'uniform', 'judgment', 'arguing', 'swallow', 'payoff', 'reports', 'contribute', 'principle', 'reminder', 'dread', 'jules', 'cleaning', 'ensure', 'reliable', 'sublime', 'divine', 'demonstrate', 'terminator', 'penn', 'imo', 'bones', 'bmovies', 'niece', 'inspirational', 'africanamerican', 'quantum', 'ohara', 'improbable', 'butcher', 'subway', 'chopped', 'promoted', 'filthy', 'delicious', 'addict', 'decline', 'lex', 'stalking', 'entirety', 'severed', 'combines', 'ebert', 'rivers', 'papers', 'antonioni', 'arab', 'tapes', 'randolph', 'witchcraft', 'implied', 'sand', 'disgrace', 'longest', 'farmer', 'pattern', 'peck', 'accounts', 'expose', 'disabled', 'wisely', 'assembled', 'loretta', 'excruciatingly', 'drinks', 'creek', 'bloom', 'ronald', 'volume', 'moe', 'mermaid', 'divorced', 'kidnapping', 'switched', 'ominous', 'natalie', 'sidewalk', 'pin', 'cushing', 'juliet', 'timberlake', 'wagner', 'senior', 'experiencing', 'collect', 'distract', 'remembering', 'whining', 'wonderland', 'attacking', 'aided', 'nightclub', 'holocaust', 'sentimentality', 'budgets', 'ny', 'missile', 'habit', 'parallels', 'email', 'fairbanks', 'reeve', 'pirate', 'immense', 'absorbing', 'lester', 'hippies', 'soderbergh', 'leather', 'ultimatum', 'jacket', 'lighter', 'tremendously', 'mobile', 'popping', 'steam', 'scarface', 'escaping', 'errol', 'vanessa', 'harriet', 'embrace', 'deer', 'itthis', 'answered', 'mathieu', 'scratch', 'pursue', 'rainy', 'packs', 'zizek', 'astounding', 'beowulf', 'lance', 'dustin', 'whiny', 'tara', 'bsg', 'mitchum', 'tendency', 'youtube', 'morals', 'bug', 'pickup', 'estranged', 'pound', 'selected', 'followup', 'wellacted', 'brainless', 'clara', 'rounded', 'jaded', 'theories', 'chill', 'subtext', 'werewolves', 'deliberate', 'corporation', 'alleged', 'noticeable', 'voyage', 'postwar', 'resulted', 'glaring', 'deliverance', 'begging', 'magician', 'lola', 'victorian', 'peaceful', 'downs', 'aiming', 'disgust', 'forgiven', 'ghetto', 'approached', 'rescued', 'reviewed', 'longing', 'copied', 'conveniently', 'sergeant', 'spectacle', 'rebellious', 'collective', 'earnest', 'miranda', 'asia', 'virtual', 'unsatisfying', 'amazon', 'polly', 'whites', 'cheaply', 'sucker', 'goldblum', 'demonstrated', 'seymour', 'lavish', 'isolation', 'wire', 'denis', 'crown', 'contestants', 'updated', 'literal', 'havoc', 'adrian', 'clash', 'knocks', 'sophie', 'bach', 'christie', 'turmoil', 'amrita', 'stardom', 'seeming', 'paula', 'sought', 'exorcist', 'classy', 'marc', 'dame', 'ritchie', 'fills', 'peculiar', 'cyborg', 'yours', 'resolved', 'messing', 'dashing', 'kurosawa', 'dilemma', 'expectation', 'garland', 'gunga', 'boyer', 'longtime', 'stewarts', 'grass', 'quentin', 'revolt', 'coat', 'admired', 'sydney', 'arriving', 'poses', 'contributed', 'dump', 'celebrated', 'bills', 'wilder', 'frontier', 'odyssey', 'dealer', 'snuff', 'aussie', 'karate', 'settled', 'vanilla', 'scotts', 'indiana', 'bw', 'enhance', 'goods', 'bittersweet', 'taped', 'liu', 'define', 'affleck', 'canceled', 'addiction', 'pocket', 'spit', 'jealousy', 'pickford', 'bombs', 'trains', 'skilled', 'debt', 'vince', 'foolish', 'slapped', 'arc', 'wartime', 'crashing', 'climb', 'liveaction', 'planets', 'dramatically', 'accepting', 'vega', 'establish', 'rehash', 'swearing', 'laurie', 'acquired', 'suspected', 'bravo', 'casper', 'gentlemen', 'hackman', 'wounds', 'christina', 'diverse', 'potter', 'plotting', 'achieves', 'excuses', 'salman', 'cal', 'judged', 'valentine', 'traits', 'avoiding', 'pad', 'slaves', 'morons', 'slip', 'spaghetti', 'pirates', 'executives', 'serials', 'thieves', 'rear', 'mystical', 'lightning', 'span', 'commits', 'nolte', 'kellys', 'borders', 'tourist', 'worms', 'burke', 'rowlands', 'quarter', 'gamera', 'stella', 'feast', 'ritual', 'predictably', 'horny', 'sarcastic', 'bounty', 'lunch', 'headache', 'ranch', 'pumbaa', 'btw', 'breakdown', 'cookie', 'exploding', 'cape', 'commitment', 'suggesting', 'posing', 'mum', 'defies', 'comprehend', 'graveyard', 'seductive', 'cuban', 'overboard', 'delightfully', 'leap', 'populated', 'ultra', 'rewarding', 'strict', 'wiped', 'furniture', 'insist', 'planes', 'wine', 'readily', 'moron', 'fluid', 'pause', 'covering', 'yawn', 'hayworth', 'incorrect', 'attending', 'immigrant', 'pedestrian', 'introducing', 'circles', 'redundant', 'flavor', 'samantha', 'romeo', 'remembers', 'cliched', 'delighted', 'wtf', 'courtroom', 'tool', 'vintage', 'mason', 'races', 'europeans', 'psychologist', 'spice', 'nbc', 'anil', 'tax', 'intentional', 'dads', 'relentlessly', 'truman', 'axe', 'seasoned', 'phenomenal', 'explosive', 'cher', 'informed', 'cheek', 'juliette', 'cliffhanger', 'jersey', 'novelty', 'deliciously', 'drab', 'korea', 'underwear', 'romances', 'inmates', 'gable', 'expense', 'tolerable', 'taboo', 'jodie', 'loy', 'spencer', 'firstrate', 'slugs', 'corbett', 'scoop', 'vanity', 'legitimate', 'logan', 'freaky', 'tonys', 'mouths', 'lends', 'trace', 'franklin', 'unsympathetic', 'stroke', 'mysteriously', 'festivals', 'wider', 'encountered', 'pans', 'sells', 'optimistic', 'bachchan', 'newcomer', 'carnage', 'jury', 'cigarette', 'groundbreaking', 'debbie', 'parking', 'attended', 'consist', 'clive', 'deanna', 'precode', 'themthe', 'ricky', 'poe', 'shockingly', 'instincts', 'apply', 'clerk', 'politicians', 'deciding', 'medieval', 'barbra', 'gielgud', 'respects', 'hepburn', 'polish', 'cypher', 'produces', 'ira', 'slide', 'pushes', 'arrest', 'jacques', 'beg', 'establishing', 'wastes', 'jill', 'gilbert', 'thirties', 'possession', 'dominated', 'timethe', 'liam', 'awakening', 'stylized', 'anxious', 'mortal', 'shepherd', 'phase', 'nuances', 'cohen', 'lean', 'caron', 'lethal', 'tongueincheek', 'counter', 'toby', 'likeable', 'melvyn', 'consideration', 'kinnear', 'arranged', 'sixth', 'possesses', 'symbol', 'robbers', 'pilots', 'july', 'foundation', 'passage', 'redneck', 'einstein', 'guinea', 'unusually', 'thelma', 'incidents', 'abandon', 'scored', 'sarandon', 'misunderstood', 'anthology', 'indicate', 'anticipated', 'exploited', 'verdict', 'preminger', 'obsessive', 'motions', 'keys', 'sgt', 'en', 'longoria', 'aftermath', 'pursued', 'erika', 'duel', 'informative', 'porter', 'keatons', 'sources', 'mute', 'rejects', 'serum', 'ordeal', 'controlling', 'breathing', 'hateful', 'viewpoint', 'invention', 'xfiles', 'flock', 'queens', 'rational', 'unanswered', 'huston', 'screwball', 'begs', 'compliment', 'feminine', 'neglected', 'meal', 'degrees', 'jewel', 'hop', 'distracted', 'psyche', 'distress', 'freaking', 'anytime', 'tvs', 'clone', 'tactics', 'stabbed', 'mens', 'mama', 'routines', 'yep', 'armstrong', 'obstacles', 'explodes', 'lucille', 'feeble', 'dumbest', 'turd', 'horrified', 'session', 'embarrassingly', 'document', 'daisy', 'sparks', 'blandings', 'stephanie', 'bye', 'invite', 'excruciating', 'tickets', 'stating', 'hybrid', 'daylewis', 'haines', 'crosby', 'pfeiffer', 'adaption', 'casablanca', 'dumped', 'indifferent', 'reverse', 'gypo', 'mcqueen', 'milo', 'olivia', 'daylight', 'roughly', 'pathos', 'cannes', 'convention', 'monologue', 'tcm', 'alot', 'meantime', 'otto', 'gwyneth', 'rambling', 'translate', 'frantic', 'instances', 'verbal', 'niven', 'enigmatic', 'freeze', 'august', 'void', 'grandma', 'corman', 'afterward', 'puzzle', 'belly', 'begun', 'forties', 'flower', 'hannah', 'uncanny', 'marilyn', 'noteworthy', 'gloria', 'mormon', 'distraction', 'salesman', 'arguments', 'grabbed', 'rosemarys', 'upcoming', 'narrow', 'depictions', 'martian', 'warns', 'biopic', 'ches', 'varied', 'arty', 'sickening', 'aggressive', 'whore', 'agony', 'spiderman', 'amidst', 'cindy', 'uh', 'inaccuracies', 'pointing', 'bubble', 'sanders', 'stations', 'goals', 'participants', 'thurman', 'targets', 'cooking', 'kathy', 'basket', 'sundance', 'gangs', 'products', 'busey', 'veterans', 'regularly', 'columbia', 'iranian', 'mythology', 'darth', 'centuries', 'predator', 'un', 'diary', 'rider', 'fright', 'relevance', 'fiance', 'charlies', 'pixar', 'generate', 'corn', 'q', 'murky', 'brides', 'glance', 'services', 'sunrise', 'paths', 'realistically', 'juan', 'starters', 'seats', 'intro', 'parks', 'lurking', 'overbearing', 'masterson', 'eagerly', 'z', 'employee', 'kidnap', 'deed', 'relating', 'manners', 'flames', 'hoot', 'click', 'paints', 'lip', 'midst', 'tuned', 'fishburne', 'fanatic', 'mates', 'jose', 'inclusion', 'nerve', 'coffin', 'funding', 'tomei', 'county', 'realization', 'anyhow', 'carpenters', 'shifts', 'battlestar', 'jolie', 'debra', 'shift', 'admitted', 'replies', 'policy', 'exclusively', 'stance', 'arquette', 'statements', 'spine', 'combs', 'glimpses', 'grip', 'motorcycle', 'phones', 'swinging', 'dismiss', 'minnelli', 'blamed', 'angie', 'releasing', 'intensely', 'forgetting', 'criticize', 'economic', 'scarecrows', 'discussed', 'controversy', 'herbert', 'jenna', 'rounds', 'resembling', 'upside', 'dynamics', 'scorsese', 'launch', 'herman', 'corey', 'suspicion', 'lowe', 'followers', 'ambitions', 'wong', 'plodding', 'traps', 'denise', 'syndrome', 'sang', 'moss', 'bogart', 'gallery', 'hadley', 'berkeley', 'skinny', 'substantial', 'sweden', 'enchanted', 'evans', 'goldie', 'capacity', 'idol', 'fleshed', 'reunite', 'platform', 'kazan', 'comeback', 'snowman', 'periods', 'offscreen', 'branaghs', 'maintains', 'apt', 'selfindulgent', 'maureen', 'gap', 'dumber', 'sketches', 'scripting', 'ample', 'applies', 'sentences', 'avid', 'chamber', 'scenarios', 'saloon', 'popped', 'cycle', 'hinted', 'imaginary', 'gloomy', 'bosses', 'shore', 'consequence', 'frontal', 'deputy', 'lionel', 'stalked', 'hines', 'uniforms', 'ignores', 'angelina', 'qualify', 'haunt', 'widowed', 'itit', 'reiser', 'surroundings', 'sondra', 'smash', 'extensive', 'gigantic', 'murderers', 'necessity', 'penelope', 'gestures', 'ambiguity', 'factual', 'educated', 'abortion', 'shepard', 'pains', 'naschy', 'moms', 'foil', 'biker', 'foremost', 'knights', 'hyped', 'frog', 'assignment', 'dreamy', 'narrated', 'warden', 'stiles', 'ignoring', 'somethings', 'insomnia', 'applied', 'fried', 'linked', 'rewarded', 'reflected', 'campus', 'envy', 'claude', 'backed', 'sterling', 'mabel', 'edith', 'denouement', 'gooding', 'ruining', 'smell', 'anita', 'october', 'bleed', 'witnessing', 'pornography', 'tones', 'rodriguez', 'arkin', 'frozen', 'sights', 'nuanced', 'valid', 'invested', 'lions', 'observe', 'stereotyped', 'alliance', 'israeli', 'gus', 'moviegoers', 'protest', 'assure', 'sheets', 'observations', 'stream', 'bc', 'clay', 'delirious', 'reunited', 'unfolding', 'medicine', 'investigator', 'momentum', 'curiously', 'homicidal', 'babes', 'safely', 'sins', 'schedule', 'kathleen', 'collins', 'rips', 'mick', 'resume', 'blaise', 'gaps', 'bonnie', 'eli', 'precise', 'slim', 'georgia', 'unstable', 'cap', 'cheadle', 'benefits', 'revival', 'cunningham', 'repeats', 'bikini', 'soprano', 'robertson', 'muslims', 'diner', 're', 'sailor', 'biting', 'cab', 'daytime', 'therapy', 'beckinsale', 'intact', 'replacement', 'breast', 'characterizations', 'array', 'zorro', 'trier', 'clunky', 'dominic', 'acknowledge', 'arrow', 'tho', 'harlow', 'paranoid', 'kris', 'bats', 'islands', 'resistance', 'graduate', 'wheel', 'blockbusters', 'schneider', 'characterisation', 'pose', 'laputa', 'moviemaking', 'troma', 'phantasm', 'kubricks', 'miyazaki', 'jacks', 'du', 'kells', 'dillinger', 'shaggy', 'entrance', 'displaying', 'hysterically', 'chamberlain', 'retelling', 'commanding', 'sensibility', 'artistry', 'sour', 'shotgun', 'famed', 'sherlock', 'collette', 'steer', 'russ', 'consequently', 'joking', 'tomb', 'spider', 'seduce', 'talky', 'fleet', 'mustve', 'marked', 'pm', 'studied', 'rosario', 'gathering', 'sufficient', 'similarity', 'tire', 'cow', 'rebels', 'balanced', 'networks', 'omar', 'bauer', 'sitcoms', 'pegg', 'landmark', 'sarcasm', 'needing', 'supreme', 'enchanting', 'raging', 'villainous', 'stadium', 'childlike', 'interrupted', 'revolving', 'playwright', 'bait', 'abound', 'inadvertently', 'skeptical', 'snipes', 'admits', 'clooney', 'sheen', 'customers', 'bias', 'weekly', 'johns', 'prophecy', 'meteor', 'boundaries', 'reserved', 'hooker', 'coke', 'iturbi', 'waking', 'fundamental', 'offend', 'additionally', 'wayans', 'detroit', 'parrot', 'realises', 'thereby', 'fuzzy', 'fortunate', 'brooke', 'colored', 'crushed', 'deemed', 'shocks', 'relying', 'stern', 'rightly', 'hayes', 'laboratory', 'hostel', 'questioning', 'silverman', 'baddies', 'chiba', 'substitute', 'samuel', 'criticized', 'fruit', 'ala', 'janet', 'roses', 'spotlight', 'progressed', 'evokes', 'courtesy', 'marisa', 'ernie', 'chew', 'enduring', 'northam', 'vargas', 'maximum', 'epics', 'beckham', 'hardened', 'announced', 'cheerful', 'handicapped', 'trauma', 'diversity', 'stake', 'addressed', 'se', 'finishing', 'visitor', 'unnatural', 'puppy', 'pivotal', 'arrogance', 'disco', 'confined', 'reluctantly', 'understandably', 'rupert', 'scheming', 'shred', 'hitchcocks', 'charges', 'olsen', 'unclear', 'bust', 'commendable', 'convent', 'district', 'interviewed', 'psychedelic', 'sly', 'despise', 'lynchs', 'lo', 'boogie', 'stumble', 'rolls', 'truths', 'gackt', 'geisha', 'awareness', 'subgenre', 'finishes', 'smug', 'sincerity', 'divided', 'lunatic', 'sunset', 'forgets', 'jude', 'wash', 'complications', 'nauseating', 'shameless', 'coworker', 'trivial', 'vignettes', 'rice', 'determination', 'caretaker', 'phoenix', 'drowned', 'worldwide', 'penned', 'sammo', 'fuel', 'boots', 'egyptian', 'interior', 'madeleine', 'upstairs', 'lopez', 'heath', 'professionals', 'washed', 'mandy', 'favourites', 'unfamiliar', 'fairytale', 'controls', 'demille', 'itbut', 'quintessential', 'sweat', 'howling', 'lil', 'unhinged', 'galactica', 'sebastian', 'sonny', 'lens', 'burial', 'dynamite', 'backstory', 'kindly', 'accompanying', 'whimsical', 'composition', 'olds', 'whod', 'outlandish', 'targeted', 'chaotic', 'earliest', 'injury', 'blackandwhite', 'laying', 'guardian', 'titular', 'recover', 'celebrities', 'programme', 'sanity', 'hiphop', 'affecting', 'shannon', 'verge', 'bonds', 'monotonous', 'orchestra', 'thrust', 'gut', 'wholesome', 'relaxed', 'randall', 'interpretations', 'cain', 'fart', 'kirsten', 'owl', 'harrowing', 'brat', 'license', 'hunted', 'bonanza', 'semblance', 'chuckles', 'brett', 'engine', 'meadows', 'monks', 'magically', 'antagonist', 'hostile', 'camping', 'gorilla', 'cutter', 'fassbinder', 'perverted', 'update', 'yell', 'temper', 'annoy', 'um', 'surround', 'insert', 'participate', 'hallmark', 'devotion', 'republic', 'summed', 'captivated', 'reminding', 'traditions', 'satisfaction', 'flows', 'considers', 'martians', 'allthe', 'thailand', 'testing', 'clouds', 'winners', 'file', 'convenient', 'transparent', 'mccarthy', 'tide', 'bakshis', 'infinitely', 'python', 'deeds', 'colleague', 'cameraman', 'carlos', 'brent', 'accidental', 'characteristic', 'sylvia', 'explode', 'beard', 'entries', 'unnecessarily', 'johansson', 'obscurity', 'comparable', 'resolve', 'madsen', 'inserted', 'seth', 'occult', 'destination', 'vomit', 'fascist', 'krueger', 'dafoe', 'admission', 'ghastly', 'salvage', 'implies', 'slashers', 'dragging', 'almighty', 'filmit', 'robbed', 'ugh', 'underdeveloped', 'hostage', 'flashing', 'committing', 'nightmarish', 'recreate', 'blazing', 'sholay', 'preaching', 'dahmer', 'turkish', 'sporting', 'excels', 'distributed', 'borrow', 'rampant', 'elephants', 'pigs', 'clarity', 'searched', 'protection', 'whove', 'achievements', 'taut', 'bearing', 'kinski', 'coma', 'complained', 'sane', 'compensate', 'portuguese', 'nun', 'wright', 'article', 'pizza', 'bs', 'inclined', 'remark', 'exploitative', 'scoobydoo', 'thunder', 'subsequently', 'philo', 'toxic', 'melancholy', 'intend', 'vivian', 'plate', 'crossed', 'elsa', 'mei', 'dangerously', 'deathtrap', 'crosses', 'spoiling', 'stepmother', 'variation', 'dallas', 'novelist', 'adapt', 'aesthetic', 'drift', 'baron', 'ruled', 'unappealing', 'toned', 'understatement', 'wherever', 'jagger', 'misty', 'wrestler', 'macdonald', 'communication', 'battlefield', 'elliott', 'drowning', 'counting', 'mister', 'openly', 'adele', 'avoids', 'stuffed', 'cancelled', 'rivals', 'cocaine', 'fetish', 'listened', 'gypsy', 'awaiting', 'herd', 'unconventional', 'faded', 'fraud', 'judges', 'sunk', 'finney', 'sales', 'creasy', 'suzanne', 'myrna', 'outrageously', 'scarlett', 'caprica', 'flag', 'cena', 'rea', 'constraints', 'takashi', 'chong', 'motel', 'marcel', 'incestuous', 'hooper', 'miikes', 'timmy', 'upbeat', 'crooks', 'sho', 'transport', 'permanent', 'hawn', 'palm', 'impending', 'deepest', 'avenge', 'betrayed', 'creations', 'henchmen', 'nutshell', 'practical', 'apple', 'fritz', 'distinction', 'ajay', 'conductor', 'fairness', 'choir', 'observation', 'screened', 'prop', 'assumes', 'noting', 'badness', 'stabbing', 'enormously', 'cheering', 'ghostly', 'proceed', 'frat', 'oblivious', 'juice', 'bashing', 'facility', 'lennon', 'restraint', 'sergio', 'apocalypse', 'warrant', 'vcr', 'serbian', 'movieit', 'coolest', 'vapid', 'cmon', 'celebrate', 'riff', 'desk', 'circa', 'drivers', 'lookalike', 'courageous', 'burnt', 'spiral', 'remainder', 'confuse', 'shoe', 'fires', 'manipulation', 'fashions', 'aunts', 'sinks', 'uneasy', 'locke', 'encouraged', 'voyager', 'watcher', 'seattle', 'mock', 'overtones', 'sexist', 'hometown', 'awarded', 'evoke', 'mentor', 'classmates', 'excellence', 'rendering', 'overshadowed', 'beers', 'contestant', 'irritated', 'sections', 'advised', 'pretends', 'presidential', 'glossy', 'robotic', 'progression', 'traumatic', 'admiration', 'dwight', 'cedric', 'walmart', 'absorbed', 'grin', 'sophia', 'climbing', 'shah', 'wesley', 'voodoo', 'sharks', 'jar', 'clad', 'orphan', 'garfield', 'duh', 'raunchy', 'tools', 'wheelchair', 'dreaming', 'aaron', 'zodiac', 'bernsen', 'isabelle', 'abundance', 'slower', 'epitome', 'senator', 'battling', 'mole', 'banks', 'satanic', 'plug', 'miraculously', 'smiths', 'chops', 'submarine', 'capote', 'defending', 'employees', 'jj', 'qualifies', 'rivalry', 'ambiance', 'hobgoblins', 'distinctive', 'masked', 'electronic', 'meyer', 'warehouse', 'organization', 'shameful', 'storythe', 'bimbo', 'candle', 'fades', 'dc', 'superstar', 'boobs', 'caper', 'frost', 'auto', 'screenplays', 'dominate', 'incest', 'everett', 'beforehand', 'incidental', 'meek', 'demeanor', 'notices', 'joining', 'carlitos', 'sheep', 'labeled', 'unleashed', 'rourke', 'sickness', 'ealing', 'greene', 'eagle', 'goat', 'respond', 'transforms', 'failures', 'prologue', 'diego', 'paz', 'espionage', 'theodore', 'solved', 'shaped', 'garage', 'saints', 'riders', 'brazilian', 'effortlessly', 'selfcentered', 'conveying', 'gig', 'hum', 'colony', 'moores', 'tits', 'giovanna', 'marines', 'cursed', 'deadpan', 'linear', 'experts', 'filmography', 'magazines', 'stab', 'chloe', 'secure', 'reported', 'bout', 'razor', 'convict', 'blondell', 'gilliam', 'carpet', 'ernest', 'marijuana', 'doug', 'quaint', 'spontaneous', 'principles', 'priests', 'runaway', 'peggy', 'automatic', 'jackman', 'raid', 'meredith', 'stardust', 'pursuing', 'je', 'projected', 'plotline', 'suave', 'assistance', 'roller', 'macmurray', 'buttons', 'cons', 'informer', 'feinstone', 'occupied', 'slater', 'coburn', 'myrtle', 'brashear', 'himthe', 'uncertain', 'middleclass', 'conscious', 'admirer', 'ongoing', 'spoofs', 'torment', 'gena', 'cheech', 'jigsaw', 'antihero', 'pros', 'sober', 'mills', 'prostitution', 'detached', 'bless', 'disappearance', 'rebellion', 'dreyfuss', 'worrying', 'cells', 'discipline', 'playful', 'ram', 'prostitutes', 'geek', 'prank', 'fiend', 'combining', 'vigilante', 'pompous', 'ninety', 'sandy', 'associate', 'lampoon', 'bloodbath', 'edges', 'monroe', 'er', 'lifelong', 'economy', 'symbols', 'highschool', 'signature', 'informs', 'liberty', 'barnes', 'closure', 'tended', 'budding', 'madison', 'dunst', 'sensual', 'ads', 'annoyance', 'strung', 'blames', 'manipulated', 'lara', 'artemisia', 'crashed', 'theatres', 'sites', 'predecessors', 'timei', 'confines', 'influential', 'socially', 'weirdness', 'yells', 'davids', 'chip', 'reject', 'nest', 'slept', 'gretchen', 'tolerance', 'mae', 'policemen', 'responds', 'woefully', 'offense', 'shahid', 'clyde', 'inform', 'englund', 'govinda', 'ideals', 'sensitivity', 'snap', 'sustain', 'joint', 'motivated', 'officially', 'influences', 'patty', 'disregard', 'turtle', 'bean', 'slavery', 'switching', 'bodyguard', 'tackle', 'investment', 'travis', 'interiors', 'managing', 'clinic', 'doyle', 'jo', 'tashan', 'outset', 'cohesive', 'warhols', 'harron', 'farmers', 'obrien', 'tech', 'croc', 'ferrell', 'bennett', 'ninjas', 'pornographic', 'abomination', 'pauline', 'benjamin', 'busby', 'shrek', 'starship', 'boards', 'mustache', 'digging', 'diving', 'concentration', 'midget', 'paycheck', 'functions', 'dern', 'stabs', 'grating', 'idealistic', 'flowing', 'pressed', 'vincenzo', 'directtovideo', 'parodies', 'criticisms', 'bites', 'surrender', 'malden', 'cannibals', 'norris', 'echoes', 'throwaway', 'rewrite', 'standpoint', 'shoved', 'fixed', 'russo', 'dictator', 'acclaim', 'sailors', 'nearest', 'marine', 'spade', 'lingering', 'damsel', 'cody', 'cheers', 'val', 'counterparts', 'dish', 'blessed', 'warners', 'cracks', 'cringing', 'drawings', 'padding', 'sacrifices', 'consciousness', 'scratching', 'berenger', 'vet', 'programming', 'protective', 'identified', 'tess', 'polar', 'believability', 'asset', 'advances', 'depend', 'manic', 'fabric', 'jewelry', 'animations', 'pairing', 'thereafter', 'groove', 'egg', 'forgiveness', 'barney', 'tolerate', 'existing', 'lays', 'scriptwriter', 'marrying', 'justification', 'sensational', 'peers', 'spaceship', 'framing', 'forrest', 'happenings', 'division', 'varying', 'superfluous', 'ali', 'perverse', 'gadgets', 'gruff', 'unravel', 'anguish', 'mythical', 'mines', 'lurid', 'reagan', 'waynes', 'cravens', 'breathe', 'determine', 'irving', 'transported', 'seriousness', 'connie', 'fodder', 'shootouts', 'goodman', 'lindy', 'waythe', 'tramp', 'crowded', 'pen', 'collector', 'chans', 'holt', 'mixes', 'inconsistencies', 'morse', 'reasoning', 'captive', 'merry', 'systems', 'perspectives', 'ang', 'seuss', 'maintaining', 'spelling', 'palmas', 'burgess', 'interplay', 'theirs', 'distorted', 'boyfriends', 'britney', 'collapse', 'brandon', 'peril', 'stink', 'inexperienced', 'cunning', 'dim', 'gershwin', 'awry', 'emphasize', 'hallucinations', 'imitate', 'conclusions', 'griffiths', 'shield', 'slam', 'beetle', 'bert', 'troopers', 'cowardly', 'drummer', 'elected', 'officials', 'halfhour', 'heap', 'bastard', 'staging', 'gasp', 'portions', 'identities', 'switches', 'lifts', 'natali', 'censorship', 'gathered', 'temptation', 'buffy', 'mobster', 'henchman', 'hairy', 'profoundly', 'rousing', 'downfall', 'plagued', 'inhabit', 'faint', 'tightly', 'borrows', 'bartender', 'locale', 'sammy', 'steaming', 'alarm', 'villa', 'marvin', 'representing', 'slut', 'mack', 'allan', 'grossly', 'paired', 'monologues', 'representative', 'filmthis', 'outlaw', 'torturing', 'locate', 'lords', 'spelled', 'hardboiled', 'strained', 'ostensibly', 'tsui', 'duchovny', 'federal', 'examine', 'reese', 'overwrought', 'genetic', 'simons', 'gandolfini', 'categories', 'continuously', 'liberties', 'dedication', 'monica', 'stares', 'yarn', 'heroines', 'uptight', 'showcases', 'correctness', 'entertains', 'disappoints', 'coward', 'transplant', 'decency', 'jan', 'egypt', 'fiery', 'confronts', 'gibson', 'flew', 'regime', 'trigger', 'bart', 'coworkers', 'sorrow', 'subtitled', 'russians', 'jurassic', 'widower', 'flavia', 'denying', 'romania', 'manga', 'pals', 'abu', 'deck', 'engineer', 'melbourne', 'dash', 'kidnaps', 'earns', 'vertigo', 'grease', 'czech', 'youngsters', 'opposition', 'luxury', 'surf', 'graces', 'structured', 'drastically', 'weary', 'butchered', 'brush', 'reckless', 'animators', 'lightweight', 'revolver', 'dom', 'replacing', 'loren', 'keanu', 'shelter', 'depardieu', 'communism', 'sensibilities', 'han', 'pierre', 'placement', 'stoned', 'airing', 'altmans', 'amid', 'orlando', 'foreboding', 'cloak', 'mcadams', 'booth', 'drum', 'contributes', 'mercifully', 'marcus', 'derived', 'cages', 'cheesiness', 'radiation', 'cousins', 'hartleys', 'gino', 'underused', 'accomplishment', 'boost', 'lars', 'fence', 'allies', 'optimism', 'ensue', 'data', 'alter', 'modernday', 'methe', 'preferably', 'intellectually', 'boogeyman', 'impressions', 'dealers', 'glow', 'knocking', 'brit', 'undercover', 'sensation', 'significantly', 'massey', 'abstract', 'condemned', 'threads', 'satisfactory', 'latino', 'shrill', 'prefers', 'billing', 'intelligently', 'emmy', 'anchors', 'shelves', 'aircraft', 'stirring', 'thug', 'straighttovideo', 'register', 'crooked', 'geoffrey', 'dreamlike', 'romanian', 'sweeping', 'confirmed', 'lds', 'ledger', 'hans', 'consumed', 'retirement', 'wielding', 'fierce', 'rapes', 'tricked', 'subdued', 'apollo', 'faye', 'languages', 'sykes', 'distinctly', 'anti', 'defy', 'funky', 'movieits', 'countrys', 'owe', 'prolific', 'snowy', 'ceiling', 'cockney', 'fewer', 'geniuses', 'developments', 'tasty', 'freed', 'establishment', 'rockets', 'imho', 'gently', 'ebay', 'ceremony', 'client', 'downbeat', 'aura', 'injustice', 'seduction', 'shiny', 'expresses', 'surgeon', 'transitions', 'scattered', 'atrocity', 'chemical', 'capitalism', 'byron', 'nora', 'loner', 'shaun', 'sucking', 'knees', 'cloth', 'grandpa', 'clarence', 'conniving', 'spells', 'adultery', 'fuss', 'clutter', 'supportive', 'mira', 'hypnotic', 'collaboration', 'golf', 'bleeding', 'visconti', 'edison', 'increase', 'pleasures', 'il', 'muni', 'eyed', 'eh', 'madman', 'illusion', 'clockwork', 'haha', 'oscarwinning', 'sophistication', 'benny', 'nuns', 'supermarket', 'echo', 'edmund', 'zu', 'mediocrity', 'liotta', 'fanning', 'sasquatch', 'virtue', 'ewoks', 'spotted', 'uninspiring', 'deservedly', 'rogue', 'icons', 'hurry', 'lawn', 'sleeper', 'dodgy', 'belle', 'travolta', 'illustrate', 'taime', 'sara', 'engagement', 'darkly', 'premiered', 'aboard', 'atlantic', 'loony', 'laser', 'bothers', 'puzzled', 'colman', 'crypt', 'pia', 'katie', 'presume', 'coop', 'ogre', 'hanzo', 'fighters', 'analyze', 'shout', 'barton', 'willingly', 'bon', 'maturity', 'extraordinarily', 'liar', 'sleepy', 'thereof', 'fleeting', 'scarier', 'romeros', 'grisly', 'trendy', 'cynicism', 'hugo', 'astronauts', 'gladiator', 'lorre', 'exgirlfriend', 'lesbians', 'elder', 'maurice', 'retrieve', 'manipulate', 'roommates', 'promoting', 'comprised', 'amoral', 'harilal', 'christensen', 'redford', 'rant', 'kilmer', 'proudly', 'grandparents', 'doris', 'imprisoned', 'protecting', 'leaps', 'bloke', 'breakthrough', 'simpler', 'fetched', 'farrah', 'deborah', 'fulfilling', 'fellini', 'relates', 'mutants', 'launched', 'proportions', 'limp', 'armor', 'mishmash', 'potent', 'inch', 'abroad', 'fulfill', 'shocker', 'brick', 'strain', 'henderson', 'elisha', 'operating', 'lists', 'nerdy', 'attic', 'mastermind', 'roads', 'zany', 'associates', 'predicted', 'lure', 'ballroom', 'oneill', 'defining', 'attributes', 'electricity', 'imply', 'unwilling', 'gi', 'backdrops', 'attendant', 'rhyme', 'godard', 'luthor', 'blackmail', 'photograph', 'icy', 'chevy', 'behaving', 'brennan', 'operate', 'ravishing', 'autobiography', 'pepper', 'myra', 'slaughtered', 'denver', 'robbing', 'slips', 'dunne', 'verhoevens', 'cowrote', 'notwithstanding', 'applause', 'legion', 'alexandra', 'oprah', 'kalifornia', 'forbes', 'judgement', 'conflicted', 'forsythe', 'rapid', 'prone', 'perceived', 'appalled', 'movieand', 'tina', 'bitchy', 'censors', 'traveled', 'goldsworthy', 'lawyers', 'anxiety', 'rodney', 'trusted', 'heartless', 'overtly', 'wrongly', 'drain', 'freaked', 'pecker', 'kristofferson', 'succession', 'fur', 'cradle', 'cinematographic', 'muriel', 'flamboyant', 'muscular', 'baddie', 'governments', 'astonishingly', 'ursula', 'zhang', 'vaughn', 'peterson', 'taker', 'predictability', 'nifty', 'slowmotion', 'shady', 'mud', 'reportedly', 'fleeing', 'plummer', 'harbor', 'artistically', 'springs', 'della', 'darius', 'encourages', 'preacher', 'mockery', 'zelah', 'gardens', 'supports', 'alcoholism', 'sematary', 'visceral', 'arnie', 'knives', 'lindsey', 'daria', 'lt', 'sibling', 'behaves', 'virginity', 'hunky', 'compassionate', 'nutty', 'chop', 'kareena', 'bliss', 'unnerving', 'crass', 'prolonged', 'ridden', 'passions', 'bloodshed', 'interspersed', 'needlessly', 'civilians', 'inhabited', 'mcdermott', 'treating', 'continuous', 'largest', 'borderline', 'recovering', 'patriotic', 'jolly', 'heavenly', 'irresistible', 'increasing', 'quirks', 'mandatory', 'worship', 'jam', 'percent', 'stumbling', 'cheat', 'relaxing', 'inducing', 'wee', 'gusto', 'notions', 'wrath', 'gravity', 'unconscious', 'irresponsible', 'enthralling', 'hale', 'temporary', 'herrings', 'upbringing', 'throne', 'overwhelmed', 'replay', 'dive', 'lansbury', 'antichrist', 'overused', 'fagin', 'fitzgerald', 'wwi', 'cassie', 'imitating', 'dukakis', 'concentrated', 'pour', 'fiasco', 'vibe', 'fastforward', 'supremacy', 'dangers', 'feared', 'diaz', 'bombed', 'ecstasy', 'sixteen', 'scarlet', 'eastwoods', 'rene', 'sm', 'moderately', 'athletic', 'padded', 'semi', 'tables', 'hector', 'confession', 'expressing', 'curtain', 'redgrave', 'heather', 'recurring', 'tango', 'helmet', 'levy', 'innuendo', 'urgency', 'castro', 'expand', 'natasha', 'pertwee', 'shawn', 'ossessione', 'illustrated', 'tourists', 'steamy', 'aztec', 'gays', 'brunette', 'superiors', 'flame', 'assortment', 'disasters', 'happier', 'clubs', 'archer', 'placing', 'peaks', 'distinguished', 'bullies', 'missions', 'lin', 'cheung', 'shamelessly', 'grendel', 'auteur', 'itd', 'management', 'sheridan', 'overacts', 'destructive', 'bigfoot', 'doses', 'immigrants', 'glenda', 'burden', 'pistol', 'paragraph', 'hilton', 'shatner', 'violently', 'vaudeville', 'prejudices', 'observed', 'giggle', 'benoit', 'booker', 'seventh', 'payne', 'tacked', 'neverending', 'counted', 'alienation', 'jerky', 'denial', 'heir', 'recreation', 'scandal', 'wolves', 'climbs', 'rudd', 'hazzard', 'terrorism', 'sammi', 'tobe', 'climate', 'sore', 'reno', 'tasks', 'miyazakis', 'unlucky', 'dwarf', 'dillon', 'marx', 'counterpart', 'academic', 'kenny', 'dodge', 'swords', 'ranger', 'poke', 'chandler', 'coal', 'ratio', 'consisted', 'vulnerability', 'princes', 'vienna', 'gimmicks', 'annoyingly', 'grady', 'stalks', 'liz', 'beth', 'casually', 'enhances', 'richly', 'aniston', 'penis', 'inherited', 'existential', 'intellect', 'concludes', 'darling', 'featurelength', 'cocktail', 'sack', 'stupidest', 'everybodys', 'lubitsch', 'chocolate', 'coverage', 'opponents', 'melt', 'lowbrow', 'spitting', 'meyers', 'lang', 'compositions', 'posh', 'disappearing', 'celine', 'yearning', 'btk', 'firsttime', 'bishop', 'embarrass', 'traumatized', 'aweigh', 'rko', 'companions', 'crowds', 'psychiatric', 'seal', 'concentrates', 'nailed', 'ma', 'goofs', 'custody', 'joshua', 'montages', 'vets', 'stretches', 'afghanistan', 'practices', 'caution', 'dani', 'gosh', 'hopeful', 'bursts', 'idiocy', 'purse', 'screamed', 'discernible', 'alienate', 'hesitate', 'neglect', 'stripper', 'penalty', 'pond', 'dickinson', 'spinning', 'improvised', 'expanded', 'roach', 'farnsworth', 'stereotyping', 'cortez', 'thumb', 'outs', 'versa', 'slew', 'worm', 'torch', 'footsteps', 'rapture', 'bearable', 'valerie', 'swiss', 'midler', 'whip', 'prices', 'rusty', 'martino', 'coppola', 'mindset', 'bothering', 'drugged', 'sessions', 'honeymoon', 'buildup', 'gannon', 'flipping', 'anonymous', 'approximately', 'exwife', 'bald', 'customs', 'muted', 'knack', 'lastly', 'y', 'finely', 'frenzy', 'sinatras', 'relied', 'holland', 'reincarnation', 'collecting', 'theo', 'perceive', 'nerds', 'keitel', 'meanings', 'unemployed', 'truthful', 'mechanic', 'incompetence', 'restless', 'camps', 'elevate', 'awfulness', 'volumes', 'compromise', 'hmm', 'skipping', 'monday', 'bonding', 'disdain', 'midway', 'profile', 'poet', 'regrets', 'irrational', 'lecture', 'vault', 'thorn', 'dogma', 'neeson', 'hustler', 'prophet', 'mcdowell', 'zabriskie', 'maguire', 'herethe', 'alba', 'honey', 'rotting', 'guru', 'woke', 'coaster', 'astronaut', 'fallon', 'marathon', 'crenna', 'whipped', 'smarmy', 'izzard', 'contemplate', 'connor', 'transformers', 'segal', 'adequately', 'architecture', 'efficient', 'fable', 'pub', 'kornbluth', 'dopey', 'bing', 'elmer', 'billion', 'azumi', 'noam', 'palestinian', 'sarne', 'braindead', 'chock', 'hug', 'slipped', 'daphne', 'chapters', 'healing', 'immersed', 'dreadfully', 'hitchhiker', 'wisecracking', 'diabolical', 'assist', 'conquest', 'duryea', 'dyke', 'creeps', 'saddest', 'metropolis', 'citys', 'strikingly', 'preteen', 'apartheid', 'fatherson', 'tensions', 'daisies', 'sparse', 'farewell', 'thankful', 'norton', 'lyrical', 'flip', 'murphys', 'walters', 'fulllength', 'marred', 'ripoffs', 'rosenstrasse', 'mourning', 'alternately', 'pranks', 'premises', 'looney', 'shootings', 'kerr', 'suspended', 'profit', 'revive', 'babysitter', 'coleman', 'sloane', 'limbs', 'postmodern', 'islam', 'insanely', 'slows', 'victorias', 'subtleties', 'locales', 'stubborn', 'lange', 'choke', 'stepped', 'bury', 'backwoods', 'durbin', 'fanatics', 'ella', 'versatile', 'throats', 'snippets', 'listing', 'surpasses', 'grain', 'believer', 'thatll', 'harlem', 'acknowledged', 'adopt', 'guided', 'jock', 'goers', 'bombing', 'shaolin', 'chewing', 'goodthe', 'rebecca', 'rests', 'tedium', 'undeveloped', 'oddball', 'submit', 'bolivia', 'planted', 'stature', 'zealand', 'sleuth', 'graves', 'passenger', 'plants', 'pauses', 'brink', 'suggestive', 'impeccable', 'association', 'vengeful', 'luzhin', 'architect', 'corridors', 'micheal', 'tenants', 'weaver', 'cowritten', 'squeeze', 'welcomed', 'hmmm', 'supporters', 'prevented', 'apologize', 'penguin', 'regain', 'insects', 'waits', 'maverick', 'january', 'december', 'garnered', 'converted', 'recipe', 'lightly', 'eliminate', 'explanations', 'conception', 'delve', 'balloon', 'lung', 'snappy', 'harrys', 'shakespearean', 'candidates', 'downtown', 'naval', 'dusty', 'bucket', 'mostel', 'rizzo', 'rehearsal', 'spectacularly', 'rushes', 'monstrous', 'kramer', 'barbarian', 'tested', 'empathize', 'betrays', 'bash', 'proverbial', 'rack', 'italians', 'condescending', 'conduct', 'wipe', 'loop', 'elliot', 'insignificant', 'continent', 'albums', 'moviethis', 'uncredited', 'atomic', 'corbin', 'dental', 'keeler', 'documents', 'regal', 'outrage', 'discussions', 'lovingly', 'kiddie', 'mold', 'apprentice', 'adventurous', 'cocky', 'oppressive', 'capt', 'gage', 'wits', 'examined', 'smarter', 'prevalent', 'collar', 'friendships', 'lucio', 'carole', 'melinda', 'horn', 'vera', 'rico', 'maiden', 'branch', 'confronting', 'democracy', 'stoic', 'callahan', 'fugitive', 'floriane', 'platoon', 'sentenced', 'dimwitted', 'insulted', 'assassins', 'toss', 'spectrum', 'distributors', 'telly', 'achieving', 'smoothly', 'comicbook', 'sciencefiction', 'glee', 'philadelphia', 'voiceovers', 'mischievous', 'variations', 'harmony', 'equals', 'connecting', 'holidays', 'cillian', 'lizard', 'grips', 'societies', 'carnival', 'practicing', 'obscene', 'tucker', 'presumed', 'granger', 'wondrous', 'backyard', 'darkest', 'retain', 'hardest', 'mocking', 'swamp', 'gesture', 'michel', 'exposing', 'janitor', 'rugged', 'duties', 'allison', 'expertise', 'duff', 'locks', 'organs', 'admirably', 'lineup', 'revelations', 'nineties', 'universally', 'palette', 'jessie', 'sacrificed', 'exhibit', 'millennium', 'entertainer', 'partial', 'render', 'garcia', 'guevara', 'evolved', 'wheels', 'allegedly', 'mining', 'gamut', 'stimulating', 'connolly', 'soulless', 'joanna', 'benson', 'vanishing', 'grumpy', 'andersons', 'eponymous', 'anchor', 'desolate', 'kinky', 'matching', 'witless', 'hockey', 'carson', 'chore', 'intruder', 'welch', 'hurting', 'heroin', 'disgruntled', 'gen', 'fireworks', 'prototype', 'november', 'smitten', 'moonstruck', 'administration', 'cathy', 'sorvino', 'unborn', 'episodic', 'gaining', 'overt', 'thisthe', 'spielbergs', 'mutated', 'strangest', 'lotr', 'irs', 'rainer', 'kindness', 'haired', 'kentucky', 'requisite', 'straw', 'hungarian', 'snatch', 'cheaper', 'cloud', 'intestines', 'satellite', 'seinfeld', 'misplaced', 'illiterate', 'ahmad', 'oriental', 'rollercoaster', 'bets', 'thatthe', 'cruella', 'pita', 'hating', 'celebrating', 'shouts', 'dense', 'illustrates', 'til', 'prehistoric', 'layered', 'switzerland', 'nuance', 'rightfully', 'ash', 'ranging', 'norwegian', 'woven', 'rigid', 'psychologically', 'plotted', 'amok', 'untrue', 'flee', 'lamas', 'caroline', 'forgivable', 'undertaker', 'outtakes', 'edits', 'hisher', 'kaufman', 'batwoman', 'hi', 'outta', 'singin', 'villagers', 'hoods', 'hispanic', 'confirm', 'goodnatured', 'barker', 'classified', 'recalls', 'carlito', 'weirdo', 'unimpressive', 'casted', 'marquis', 'therein', 'pauls', 'interpreted', 'shack', 'culkin', 'overseas', 'floors', 'norma', 'fs', 'surrogate', 'hogan', 'siege', 'surfers', 'morgana', 'austens', 'blaxploitation', 'twodimensional', 'undertones', 'participation', 'logo', 'napoleon', 'exhausted', 'spoton', 'secluded', 'usage', 'patch', 'grounded', 'goo', 'dripping', 'extremes', 'cbc', 'exudes', 'voters', 'greta', 'lieutenant', 'ensuing', 'exceedingly', 'll', 'monstrosity', 'unfairly', 'colourful', 'weaves', 'clumsily', 'coarse', 'unsuccessful', 'spaces', 'pursues', 'shakes', 'alli', 'operas', 'draft', 'bgrade', 'chat', 'malcolm', 'miracles', 'emerged', 'redeemed', 'handy', 'brits', 'deathstalker', 'wills', 'stir', 'hawaii', 'jackass', 'retrospect', 'breathless', 'blink', 'badass', 'texture', 'indulge', 'soles', 'addressing', 'hiring', 'smalltown', 'employ', 'olympic', 'capitalize', 'gee', 'drums', 'existent', 'chains', 'hg', 'crop', 'poppins', 'pokes', 'orphanage', 'virtues', 'streisands', 'spreading', 'lap', 'bravery', 'owning', 'sacred', 'answering', 'hosts', 'faux', 'orgy', 'polite', 'documented', 'unnamed', 'reception', 'insisted', 'integrated', 'drifter', 'preserved', 'tepid', 'irwin', 'capsule', 'puzzling', 'monastery', 'frenchman', 'criminally', 'hedy', 'unfinished', 'request', 'instruments', 'smallest', 'prevents', 'gilligans', 'supplies', 'stills', 'dw', 'bathing', 'swat', 'booze', 'flamenco', 'inc', 'bogdanovich', 'gladly', 'stripped', 'hamill', 'ounce', 'itits', 'directorwriter', 'honorable', 'beau', 'helena', 'bonham', 'voting', 'transform', 'acquire', 'viggo', 'atrocities', 'jew', 'pavarotti', 'forum', 'rerun', 'aiello', 'jed', 'crawl', 'adapting', 'ferry', 'transcends', 'corky', 'allied', 'attributed', 'kisses', 'mac', 'hammerhead', 'affections', 'lambs', 'rewatch', 'arizona', 'underdog', 'culminating', 'tasteful', 'gifts', 'wtc', 'itchy', 'interpret', 'slowmoving', 'shrink', 'sans', 'badthe', 'imdbs', 'anchorman', 'aims', 'wicker', 'chef', 'positions', 'teddy', 'pets', 'leia', 'onesided', 'marvellous', 'corporations', 'slug', 'aristocrat', 'campers', 'deception', 'swift', 'bruckheimer', 'shadowy', 'employs', 'wb', 'addresses', 'consisting', 'hardships', 'historians', 'dane', 'rabid', 'zatoichi', 'wellthe', 'geeks', 'coincidences', 'phyllis', 'bryan', 'pam', 'schemes', 'motif', 'spears', 'decapitated', 'unrated', 'behalf', 'societal', 'skimpy', 'onethe', 'tearjerker', 'monumental', 'exposes', 'transferred', 'stealth', 'mj', 'crow', 'kingsley', 'streak', 'compound', 'cracker', 'plantation', 'alligator', 'darkman', 'mastroianni', 'mamet', 'caruso', 'pronounced', 'occurring', 'diver', 'rewind', 'jovi', 'greats', 'menu', 'retains', 'raping', 'textbook', 'pacinos', 'choreographer', 'beef', 'eggs', 'virgins', 'showtime', 'mpaa', 'complains', 'conceit', 'fulcis', 'seduced', 'adored', 'somber', 'heritage', 'bicycle', 'osullivan', 'pinup', 'minions', 'uniquely', 'talentless', 'abominable', 'actorsactresses', 'blessing', 'shoestring', 'warped', 'slash', 'joyous', 'upsetting', 'cos', 'misfire', 'recreated', 'yourselves', 'revolting', 'blends', 'onenote', 'departments', 'fleming', 'cowriter', 'visitors', 'sealed', 'scriptwriters', 'uneducated', 'drained', 'awakens', 'passive', 'kerry', 'tigerland', 'crook', 'shenanigans', 'stable', 'mismatched', 'sabu', 'stretching', 'tanks', 'staple', 'enthralled', 'heshe', 'marginally', 'halt', 'astonished', 'turgid', 'iowa', 'reanimator', 'fantastically', 'delia', 'heiress', 'defines', 'hesitation', 'stalwart', 'teamed', 'boyish', 'perfected', 'olympia', 'backing', 'toro', 'tent', 'radar', 'risks', 'runofthemill', 'technological', 'dreamed', 'maintained', 'lampoons', 'nielsen', 'historian', 'crummy', 'giggles', 'guarded', 'oblivion', 'horizon', 'allegory', 'renders', 'blackie', 'sync', 'speechless', 'insecure', 'masturbation', 'grieving', 'downward', 'chairman', 'travelling', 'basil', 'dares', 'portman', 'liza', 'vivah', 'ate', 'ladys', 'declares', 'unforgivable', 'rumors', 'beta', 'teds', 'pbs', 'decoration', 'picnic', 'stevenson', 'starving', 'evolve', 'announces', 'loudly', 'formidable', 'inspires', 'differ', 'detracts', 'patton', 'hoover', 'mannered', 'winston', 'laden', 'leno', 'orchestral', 'approval', 'praying', 'subconscious', 'reeks', 'fiennes', 'bathtub', 'romano', 'connects', 'punished', 'carface', 'creepiness', 'integral', 'gym', 'jameson', 'recognise', 'keyboard', 'excesses', 'sr', 'aspirations', 'competing', 'iceberg', 'sheila', 'infidelity', 'skywalker', 'therethe', 'competently', 'fosters', 'untalented', 'outbreak', 'endured', 'stray', 'diamonds', 'frenetic', 'macbeth', 'vonnegut', 'hightech', 'downside', 'blinded', 'flood', 'arbitrary', 'herein', 'sweetheart', 'madly', 'rub', 'grants', 'cafe', 'recruits', 'otoole', 'keeper', 'observing', 'topped', 'chimney', 'compares', 'materials', 'lombard', 'calculated', 'kamal', 'thinner', 'hayden', 'claw', 'excrement', 'edwards', 'lanza', 'ethics', 'eddy', 'rohmer', 'manor', 'botched', 'willem', 'knox', 'jeep', 'trumpet', 'zoom', 'anniversary', 'recognised', 'runtime', 'stepfather', 'housing', 'harp', 'ewan', 'mcgregor', 'howards', 'inherently', 'unbearably', 'ponder', 'simba', 'stepping', 'malta', 'raiders', 'cowboys', 'intimacy', 'abducted', 'tenderness', 'ideology', 'operatic', 'brash', 'invent', 'familiarity', 'blending', 'denied', 'overact', 'allstar', 'closes', 'trips', 'restore', 'mcgavin', 'occupation', 'accompany', 'implication', 'apartments', 'marital', 'outlook', 'byrne', 'amuse', 'spades', 'toothe', 'boarding', 'primal', 'sabretooth', 'pianist', 'aristocratic', 'funds', 'townspeople', 'danced', 'housewives', 'reversed', 'willy']\n"
          ],
          "name": "stdout"
        }
      ]
    },
    {
      "cell_type": "code",
      "metadata": {
        "id": "gKBRgc4UYfjf"
      },
      "source": [
        "def vectorize(review_string, vocab):\n",
        "  arr = np.zeros(shape = (len(vocab),))\n",
        "  words = review_string.split();\n",
        "  for w in words:\n",
        "    try:\n",
        "      arr[vocab.index(w)] = 1\n",
        "    except ValueError:\n",
        "      continue\n",
        "  #for i, w_i in enumerate(vocab):\n",
        "  #  if w_i in review_string.split():\n",
        "  #    arr[i] = 1\n",
        "  return arr"
      ],
      "execution_count": 17,
      "outputs": []
    },
    {
      "cell_type": "markdown",
      "metadata": {
        "id": "A7UHbv8SLiz7"
      },
      "source": [
        "Test your function with the following input. The vector should have four \"1\"s."
      ]
    },
    {
      "cell_type": "code",
      "metadata": {
        "id": "7ohyWmFCeknM",
        "colab": {
          "base_uri": "https://localhost:8080/"
        },
        "outputId": "8e70c4f4-33a2-4f82-d760-51cdf5eb760e"
      },
      "source": [
        "vector = vectorize(\"the and a of zyxw\", vocabulary)\n",
        "print(vector)\n",
        "print(sum(vector))"
      ],
      "execution_count": 18,
      "outputs": [
        {
          "output_type": "stream",
          "text": [
            "[1. 1. 1. ... 0. 0. 0.]\n",
            "4.0\n"
          ],
          "name": "stdout"
        }
      ]
    },
    {
      "cell_type": "markdown",
      "metadata": {
        "id": "Nn4UER2SL96P"
      },
      "source": [
        "Now, vectorize the whole dataset."
      ]
    },
    {
      "cell_type": "code",
      "metadata": {
        "id": "gUU0n_zsMvfv",
        "colab": {
          "base_uri": "https://localhost:8080/"
        },
        "outputId": "307e1968-67fd-4470-908a-587d73d4939b"
      },
      "source": [
        "print(datetime.now().strftime(\"%H:%M:%S.%f\"))\n",
        "X_train_vect = []\n",
        "for x in X_train:\n",
        "  X_train_vect.append(vectorize(x, vocabulary))\n",
        "\n",
        "print(datetime.now().strftime(\"%H:%M:%S.%f\"))"
      ],
      "execution_count": 19,
      "outputs": [
        {
          "output_type": "stream",
          "text": [
            "15:00:44.572298\n",
            "15:03:31.433900\n"
          ],
          "name": "stdout"
        }
      ]
    },
    {
      "cell_type": "code",
      "metadata": {
        "id": "N4U6rj0PQUjE",
        "colab": {
          "base_uri": "https://localhost:8080/"
        },
        "outputId": "e5d5cbf8-1bb2-4c9a-94a4-e9cedff108d6"
      },
      "source": [
        "for i in range(5):\n",
        "  print_review(X_train_vect[i], y_train[i])"
      ],
      "execution_count": 20,
      "outputs": [
        {
          "output_type": "stream",
          "text": [
            "--------------- Review with score of -1 ---------------\n",
            "[1. 1. 1. ... 0. 0. 0.]\n",
            "------------------------------------------------------\n",
            "\n",
            "--------------- Review with score of 1 ---------------\n",
            "[1. 1. 1. ... 0. 0. 0.]\n",
            "------------------------------------------------------\n",
            "\n",
            "--------------- Review with score of -1 ---------------\n",
            "[1. 1. 1. ... 0. 0. 0.]\n",
            "------------------------------------------------------\n",
            "\n",
            "--------------- Review with score of -1 ---------------\n",
            "[1. 1. 1. ... 0. 0. 0.]\n",
            "------------------------------------------------------\n",
            "\n",
            "--------------- Review with score of 1 ---------------\n",
            "[1. 1. 1. ... 0. 0. 0.]\n",
            "------------------------------------------------------\n",
            "\n"
          ],
          "name": "stdout"
        }
      ]
    },
    {
      "cell_type": "markdown",
      "metadata": {
        "id": "hzNo-5oNRXz6"
      },
      "source": [
        "For convenience, we will write a function called `preprocess_sample_point` which takes as input a single raw review and ouputs its binary bag-of-words representation."
      ]
    },
    {
      "cell_type": "code",
      "metadata": {
        "id": "BO9Ge_lwMwEP"
      },
      "source": [
        "def preprocess_sample_point(review, vocab):\n",
        "  return vectorize(clean(review), vocab)"
      ],
      "execution_count": 21,
      "outputs": []
    },
    {
      "cell_type": "code",
      "metadata": {
        "id": "4-Wg-6UKrH8t",
        "colab": {
          "base_uri": "https://localhost:8080/"
        },
        "outputId": "ac50272e-161d-4d47-ba4b-d6a4f5ebf4b3"
      },
      "source": [
        "vectorized_review = preprocess_sample_point(\n",
        "    'The movie was not bad, it was really good!', vocabulary)\n",
        "print(sum(vectorized_review))\n",
        "print(vectorized_review)"
      ],
      "execution_count": 22,
      "outputs": [
        {
          "output_type": "stream",
          "text": [
            "8.0\n",
            "[1. 0. 0. ... 0. 0. 0.]\n"
          ],
          "name": "stdout"
        }
      ]
    },
    {
      "cell_type": "markdown",
      "metadata": {
        "id": "co54Ubd5QJDN"
      },
      "source": [
        "### Question 2.3 Preparing the test set\n",
        "\n",
        "Now that we have defined a cleaning function and extracted the features from the train set, we are ready to preprocess the test set. Implement the `preprocess` function below such that it:\n",
        "\n",
        "1. Loads the raw data from a csv file \n",
        "2. Cleans and vectorizes the reviews\n",
        "3. Converts the scores to `int`\n",
        "4. Returns the data into a  `(X_test, y_test)` tuple"
      ]
    },
    {
      "cell_type": "code",
      "metadata": {
        "id": "TBoumQUSMvXD"
      },
      "source": [
        "def preprocess(csv_filename, vocab):\n",
        "  with open(csv_filename) as csv_file:\n",
        "    csv_reader = csv.reader(csv_file)\n",
        "    colnames = next(csv_reader)  # skip column names\n",
        "    data = list(csv_reader)\n",
        "\n",
        "  #X_test = [preprocess_sample_point(review, vocabulary) for review, score in data]\n",
        "  #y_test = [int(score) for review, score in data]\n",
        "  X_test = []\n",
        "  y_test = []\n",
        "  for review, score in data:\n",
        "    X_test.append(preprocess_sample_point(review, vocabulary))\n",
        "    y_test.append(int(score))\n",
        "\n",
        "  return (X_test,y_test)"
      ],
      "execution_count": 23,
      "outputs": []
    },
    {
      "cell_type": "code",
      "metadata": {
        "id": "t84s9ir_ekgA",
        "colab": {
          "base_uri": "https://localhost:8080/"
        },
        "outputId": "75e7d69d-b5ec-4240-8ac5-5921910f4820"
      },
      "source": [
        "!wget https://raw.githubusercontent.com/McGillAISociety/BootcampAssignmentDatasets/master/data/assignment2/test_reviews.csv"
      ],
      "execution_count": 24,
      "outputs": [
        {
          "output_type": "stream",
          "text": [
            "--2021-03-03 15:03:31--  https://raw.githubusercontent.com/McGillAISociety/BootcampAssignmentDatasets/master/data/assignment2/test_reviews.csv\n",
            "Resolving raw.githubusercontent.com (raw.githubusercontent.com)... 185.199.108.133, 185.199.109.133, 185.199.110.133, ...\n",
            "Connecting to raw.githubusercontent.com (raw.githubusercontent.com)|185.199.108.133|:443... connected.\n",
            "HTTP request sent, awaiting response... 200 OK\n",
            "Length: 32551850 (31M) [text/plain]\n",
            "Saving to: ‘test_reviews.csv’\n",
            "\n",
            "test_reviews.csv    100%[===================>]  31.04M  57.0MB/s    in 0.5s    \n",
            "\n",
            "2021-03-03 15:03:33 (57.0 MB/s) - ‘test_reviews.csv’ saved [32551850/32551850]\n",
            "\n"
          ],
          "name": "stdout"
        }
      ]
    },
    {
      "cell_type": "code",
      "metadata": {
        "id": "FYdinHq9UYWU",
        "colab": {
          "base_uri": "https://localhost:8080/"
        },
        "outputId": "b6170b93-71d9-4c4f-e7b9-03e98b95d8e1"
      },
      "source": [
        "print(datetime.now().strftime(\"%H:%M:%S.%f\"))\n",
        "X_test, y_test = preprocess('test_reviews.csv', vocabulary)\n",
        "print(datetime.now().strftime(\"%H:%M:%S.%f\"))"
      ],
      "execution_count": 25,
      "outputs": [
        {
          "output_type": "stream",
          "text": [
            "15:03:33.169546\n",
            "15:06:22.540899\n"
          ],
          "name": "stdout"
        }
      ]
    },
    {
      "cell_type": "code",
      "metadata": {
        "id": "x9iREwezzNnz",
        "colab": {
          "base_uri": "https://localhost:8080/"
        },
        "outputId": "07c50c12-da1e-4833-b9c2-d9473ae40583"
      },
      "source": [
        "for i in range(5):\n",
        "  print_review(X_test[i], y_test[i])"
      ],
      "execution_count": 26,
      "outputs": [
        {
          "output_type": "stream",
          "text": [
            "--------------- Review with score of -1 ---------------\n",
            "[1. 1. 1. ... 0. 0. 0.]\n",
            "------------------------------------------------------\n",
            "\n",
            "--------------- Review with score of -1 ---------------\n",
            "[1. 0. 1. ... 0. 0. 0.]\n",
            "------------------------------------------------------\n",
            "\n",
            "--------------- Review with score of 1 ---------------\n",
            "[1. 1. 1. ... 0. 0. 0.]\n",
            "------------------------------------------------------\n",
            "\n",
            "--------------- Review with score of -1 ---------------\n",
            "[1. 1. 1. ... 0. 0. 0.]\n",
            "------------------------------------------------------\n",
            "\n",
            "--------------- Review with score of 1 ---------------\n",
            "[1. 1. 1. ... 0. 0. 0.]\n",
            "------------------------------------------------------\n",
            "\n"
          ],
          "name": "stdout"
        }
      ]
    },
    {
      "cell_type": "markdown",
      "metadata": {
        "id": "hEIhyms7N3oo"
      },
      "source": [
        "## 3. Naive Bayes\n",
        "\n",
        "Later in this assignment, we will use pre-existing implementations of two types of models: random forests and support vector machines. However, we will start first by implementing from scratch a third type of classifier: naive Bayes classifers. \n",
        "\n",
        "Naive Bayes classifiers are part of a larger family of classifiers which are called 'probabilistic classifiers': not only do they try to predict classes given features, but they also estimate probability distributions over a set of classes.\n",
        "\n",
        "First, let's will go over some definitions:\n",
        "\n",
        "**Definition:** A *prior probability* is the likelihood of an event given no further assumptions. For instance, the probability that it's raining is relatively low.\n",
        "\n",
        "**Definiton:** A *posterior probability* or *conditional probability* is the likelihood of an event given that some other event has occurred. For instance, the probability that it's raining given that there are clouds is higher than if we don't make that assumption.\n",
        "\n",
        "Now we will go over some motivation:\n",
        "\n",
        "For the purpose of argument, imagine we had access to the probability distribution $\\Pr$. That is, we know how likely features and classes are. For example, $\\Pr(x_1 = 1)$ is the probability that the most common word, i.e. \"the\" (represented by the feature $x_1$), is in a random movie review. Presumably, this probability is relatively high. As a second example, $\\Pr(y = 1)$ is the probability that a random movie review is 'good'. \n",
        "\n",
        "Since we hypothetically have access to the whole probability distribution, we also know conditional probabilities. For instance, we would know $\\Pr(y = -1 \\; \\vert \\; x_1 = 0)$, which is the probability that a random review is 'bad', given that it does **not** contain the word \"the\".\n",
        "\n",
        "Given a probability distribution, we can find an optimal classifier which simply picks the class which maximizes the probability that we will see the chosen class given the observed features. In other words our classifier $f: \\B^n \\to \\B$ is given by:\n",
        "\n",
        "$$ f(x_1, \\ldots, x_n) = \\argmax_{c \\in \\B} \\Pr(y = c \\given x_1, \\ldots, x_n ).$$\n",
        "\n",
        "Where $\\argmax$ returns the element $c$ in $\\B$ which maximizes the right-hand side expression, and $\\B$ is the set with two elements: $\\{-1, 1\\}$. For example, we have:\n",
        "$$ \\argmax_{x \\in \\R} (x - x^2) = \\frac 1 2, $$\n",
        "since $\\frac 1 2$ maximizes the expression $x - x^2$.\n",
        "\n",
        "It would be great if we had access to the probability distribution $\\Pr$, but unfortunately we don't in almost every case. This means we wish to try to estimate it given some samples, i.e. the training data.\n",
        "\n",
        "However, we run into another issue: estimating the probability distribution is computionally expensive. Therefore, we assume that the different features are independent from one another. This is called the *naive conditional independence assumption*. In other words, we assume that\n",
        "\n",
        "$$ \\forall i \\in \\{1, \\ldots, n\\} : \\Pr (x_i \\given y, x_1, \\ldots, x_{i-1}, x_{i+1}, \\ldots, x_n) = \\Pr(x_i \\given y).$$\n",
        "\n",
        "Using Bayes' Theorem, we can simplify the conditional independence assumption to:\n",
        "\n",
        "$$\\Pr(y \\given x_1, \\ldots, x_n) = \\frac{\\Pr(y) \\prod_{i=1}^n \\Pr(x_i \\given y)}{\\Pr(x_1, \\ldots, x_n)}.$$\n",
        "\n",
        "However, we can observe that the denominator is constant for a given input, so it's not actually necesarry to estimate it if all we want is to find the class with the maximum posterior probability. In other words,\n",
        "\n",
        "$$ \\Pr(y \\given x_1, \\ldots, x_n) \\propto \\Pr(y) \\prod_{i=1}^n \\Pr(x_i \\given y), $$\n",
        "\n",
        "wso, our classification rule becomes\n",
        "\n",
        "$$ f(x_1, \\ldots, x_n) = \\argmax_{y \\in \\B} \\Pr(y) \\prod _{i=1}^n \\Pr(x_i \\given y).$$\n",
        "\n",
        "Where $\\propto$ means \"proportional to\" and  $\\prod_{i = 1}^n g(i)$ is like summation $\\left(\\sum_{i=1}^n g(i)\\right)$, except that addition is replaced with multiplication. For example,\n",
        "\n",
        "$$\\prod_{i = 1}^5 i^2 = 1^2 \\cdot 2^2 \\cdot 3^2 \\cdot 4^2 \\cdot 5^2.$$\n",
        "\n",
        "**Note**: To estimate prior and conditional probabilities, we use the ratios of occurence counts found in the dataset. For example, to estimate $\\Pr(x_1 = 0 \\; \\vert \\; y = -1)$ i.e. the probability that the word \"the\" is NOT in the review given that the review is negative, we have to calculate the number of instances of class -1 for which $x_1 = 0$ and divide them by the number of instances of class -1.\n",
        "\n",
        "**Note**: The naive independence assumption is usually false in practice for most features. Therefore, the resulting estimated probability distribution is usually a bad approximation of the true distribution. However, the resulting classifier often has a good performance, depending on the dataset."
      ]
    },
    {
      "cell_type": "markdown",
      "metadata": {
        "id": "fN-dse1NBQnk"
      },
      "source": [
        "### Quesiton 3.1 Estimating the Probability Distribution\n",
        "\n",
        "It would be expensive to re-estimate prior and posterior probabilities every time, so we should save probabilities in memory.\n",
        "\n",
        "Thus, you will need to save\n",
        "1. $\\Pr(y)$ for each $y \\in \\B$, and\n",
        "2. $\\Pr(x_i = u \\; \\vert \\; y)$ for each $ i \\in \\{1, \\ldots, n\\}$, $u \\in \\{0,1\\}$ and $y \\in \\mathbb{B}$.\n",
        "\n",
        "Remember that you are *estimating* the probabilities using the training set only."
      ]
    },
    {
      "cell_type": "code",
      "metadata": {
        "id": "9-KrWs3DER_R"
      },
      "source": [
        "# calculate Pr(𝑦)  for each 𝑦 ∈ 𝔹 \n",
        "# get the total number of ones, and negative ones\n",
        "total = len(y_train)\n",
        "ones, nones = y_train.count(1), y_train.count(-1)\n",
        "# Pr(1) = ones/ total \n",
        "P_positive = ones/ total\n",
        "# Pr(-1) = nones/ total \n",
        "P_negative = nones / total\n",
        "\n",
        "\n",
        "# calculate Pr(𝑥𝑖=𝑢|𝑦)  for each 𝑖∈{1,…,𝑛}, 𝑢 ∈ {0,1} and 𝑦 ∈ 𝔹.\n",
        "positive_indices = [i for i, y in enumerate(y_train) if y == 1]\n",
        "negative_indices = [i for i, y in enumerate(y_train) if y == -1]\n",
        "Pr_notin_pos, Pr_in_pos = np.zeros(shape = 10000), np.zeros(shape = 10000) # initialize numpy arrays to store the probablity \n",
        "Pr_notin_neg, Pr_in_neg = np.zeros(shape = 10000), np.zeros(shape = 10000) # initialize numpy arrays to store the probablity \n",
        "for i in range(10000):\n",
        "  \n",
        "  for n in positive_indices:\n",
        "    if X_train_vect[n][i] == 0:\n",
        "      Pr_notin_pos[i] += 1\n",
        "    else:\n",
        "      Pr_in_pos[i] += 1\n",
        "  \n",
        "  for m in negative_indices:\n",
        "    if X_train_vect[m][i] == 0:\n",
        "      Pr_notin_neg[i] += 1\n",
        "    else:\n",
        "      Pr_in_neg[i] += 1\n",
        "\n",
        "Pr_notin_pos = Pr_notin_pos / ones\n",
        "Pr_in_pos = Pr_in_pos / ones\n",
        "Pr_notin_neg = Pr_notin_neg / nones\n",
        "Pr_in_neg = Pr_in_neg / nones\n",
        "\n",
        "\n",
        " \n"
      ],
      "execution_count": 33,
      "outputs": []
    },
    {
      "cell_type": "markdown",
      "metadata": {
        "id": "wfCjr-JrEJya"
      },
      "source": [
        "### Question 3.2 Creating the Naive Bayes Classifier\n",
        "\n",
        "Create a function called `naive_bayes` which will take as input a list of features $x_1, \\ldots, x_n$ and outputs the class with the largest posterior probability given the input features."
      ]
    },
    {
      "cell_type": "code",
      "metadata": {
        "id": "sfKW9cZs4x-N"
      },
      "source": [
        "def naive_bayes(vec):\n",
        "  p_pos = np.zeros(shape = 10000)\n",
        "  p_neg = np.zeros(shape = 10000)\n",
        "  for i, x_i in enumerate(vec):\n",
        "    if x_i == 1:\n",
        "      p_pos[i] = Pr_in_pos[i]\n",
        "      p_neg[i] = Pr_in_neg[i]\n",
        "    else:\n",
        "      p_pos[i] = Pr_notin_pos[i]\n",
        "      p_neg[i] = Pr_notin_neg[i]\n",
        "  \n",
        "  pos = P_positive * np.prod(p_pos)\n",
        "  neg = P_negative * np.prod(p_neg)\n",
        "\n",
        "  if pos > neg:\n",
        "    return 1\n",
        "  elif pos < neg:\n",
        "    return -1\n",
        "  else:\n",
        "    return random.choice([-1,1])\n",
        "\n",
        "\n",
        "\n",
        "\n"
      ],
      "execution_count": 30,
      "outputs": []
    },
    {
      "cell_type": "markdown",
      "metadata": {
        "id": "l1iGVZtkE5fF"
      },
      "source": [
        "### Question 3.3 Measuring Performance\n",
        "\n",
        "Using the naive Bayes classifier, predict the classes for each sample point in the training set as well as the test set and print accuracies.\n",
        "\n",
        "**Note:** You should get train and test accuracies in the 80-85% range.\n",
        "\n",
        "**Hint:** You can use the `accuracy_score` function provided by `sklearn.metrics`"
      ]
    },
    {
      "cell_type": "code",
      "metadata": {
        "id": "7SjmIjYPSW10",
        "colab": {
          "base_uri": "https://localhost:8080/"
        },
        "outputId": "55505564-0d16-4f55-bc70-993169a8bbbc"
      },
      "source": [
        "train_pred = [naive_bayes(x_i) for x_i in X_train_vect]\n",
        "print(\"The train accuracy is {}\".format(accuracy_score(y_train, train_pred)))\n",
        "test_pred = [naive_bayes(x_i) for x_i in X_test]\n",
        "print(\"The test accuracy is {}\".format(accuracy_score(y_test, test_pred)))\n"
      ],
      "execution_count": 35,
      "outputs": [
        {
          "output_type": "stream",
          "text": [
            "The train accuracy is 0.8252330093203728\n",
            "The test accuracy is 0.8046321852874115\n"
          ],
          "name": "stdout"
        }
      ]
    },
    {
      "cell_type": "code",
      "metadata": {
        "id": "s2ZbGmYj2WnZ",
        "colab": {
          "base_uri": "https://localhost:8080/"
        },
        "outputId": "032b8895-f225-4cfa-af0f-ffa4df4e1146"
      },
      "source": [
        "print(naive_bayes(preprocess_sample_point(\n",
        "    'Terrible. Horrible. Boring. This movie is bad', vocabulary)))\n",
        "\n",
        "print(naive_bayes(preprocess_sample_point(\n",
        "    'This movie was pretty good', vocabulary)))"
      ],
      "execution_count": 34,
      "outputs": [
        {
          "output_type": "stream",
          "text": [
            "-1\n",
            "1\n"
          ],
          "name": "stdout"
        }
      ]
    },
    {
      "cell_type": "markdown",
      "metadata": {
        "id": "D-azU55RKk-s"
      },
      "source": [
        "## 4. Support Vector Machines\n",
        "\n",
        "Quick recap of SVM: A support vector classifier tries to find the best hyperplane(s) separating the data into different classes. If the data is linearly separable, it finds a hyperplane that maximizes the margin. If it isn't, the classifier tries to minimize the cost associated with misclassifying points.\n",
        "\n"
      ]
    },
    {
      "cell_type": "markdown",
      "metadata": {
        "id": "YKLBuWjmAKoJ"
      },
      "source": [
        "### Question 4.1 Creating a Support Vector Classifier\n",
        "Using `scikit-learn`, create a support vector classifier for our review data.\n",
        "\n",
        "**Note:** `scikit-learn` provides a couple of SVC classes. Make sure you select the one adapted to large datasets\n",
        "\n",
        "1. Use `scikit-learn` to create a linear support vector classifer (name it `svm_clf`)\n",
        "2. Fit the model to our training set\n",
        "3. Print training accuracy\n",
        "4. Print test accuracy"
      ]
    },
    {
      "cell_type": "code",
      "metadata": {
        "id": "11h5qZgArCLb",
        "colab": {
          "base_uri": "https://localhost:8080/"
        },
        "outputId": "17c0e893-2b17-47a9-b7b7-ffb52f2eb63d"
      },
      "source": [
        "print(datetime.now().strftime(\"%H:%M:%S.%f\"))\n",
        "svm_clf = LinearSVC(random_state=0)\n",
        "svm_clf.fit(X_train_vect, y_train)\n",
        "print(\"The training accuracy is {}\".format(svm_clf.score(X_train_vect,y_train)))\n",
        "print(\"The test accuracy is {}\".format(svm_clf.score(X_test,y_test)))\n",
        "print(datetime.now().strftime(\"%H:%M:%S.%f\"))"
      ],
      "execution_count": null,
      "outputs": [
        {
          "output_type": "stream",
          "text": [
            "08:26:35.698185\n"
          ],
          "name": "stdout"
        },
        {
          "output_type": "stream",
          "text": [
            "/usr/local/lib/python3.7/dist-packages/sklearn/svm/_base.py:947: ConvergenceWarning: Liblinear failed to converge, increase the number of iterations.\n",
            "  \"the number of iterations.\", ConvergenceWarning)\n"
          ],
          "name": "stderr"
        },
        {
          "output_type": "stream",
          "text": [
            "The training accuracy is 0.999879995199808\n",
            "The test accuracy is 0.8302332093283732\n",
            "08:26:44.232628\n"
          ],
          "name": "stdout"
        }
      ]
    },
    {
      "cell_type": "code",
      "metadata": {
        "id": "SRk2DxHptzmE",
        "colab": {
          "base_uri": "https://localhost:8080/"
        },
        "outputId": "6ef0c63a-4f5c-4475-e072-3f0e47cce82b"
      },
      "source": [
        "print(svm_clf.predict([preprocess_sample_point(\n",
        "    'Boring. Such a bad movie. It was terrible and predictable', vocabulary)]))\n",
        "\n",
        "print(svm_clf.predict([preprocess_sample_point(\n",
        "    'I really liked this movie, it\\'s great!', vocabulary)]))"
      ],
      "execution_count": null,
      "outputs": [
        {
          "output_type": "stream",
          "text": [
            "[-1]\n",
            "[1]\n"
          ],
          "name": "stdout"
        }
      ]
    },
    {
      "cell_type": "markdown",
      "metadata": {
        "id": "z_9sFSUNKscM"
      },
      "source": [
        "## 5. Random Forests\n",
        "\n",
        "Random forests are a type of ensemble classifier, i.e. they are made of a number of 'weak' learners (smaller models) where the final classification is a combination of the classifications of each learner (i.e. a majority vote). \n",
        "\n"
      ]
    },
    {
      "cell_type": "markdown",
      "metadata": {
        "id": "Myn-42J9ACsH"
      },
      "source": [
        "### Question 5.1 Creating a Random Forest Classifier\n",
        "Using `scikit-learn`, create a radom forest classifier for our review data.\n",
        "\n",
        "1. Use `scikit-learn` to create a random forest classifier (name it `rfc`)\n",
        "2. Fit the model to our training set\n",
        "3. Print training accuracy\n",
        "4. Print test accuracy\n",
        "\n",
        "\n",
        "\n",
        "Be sure to check the [documentation](http://scikit-learn.org/stable/modules/generated/sklearn.ensemble.RandomForestClassifier.html). Try to play around with the hyperparameters to see if you can get higher accuracy. Specifically, try finding good values for `n_estimators`, `min_samples_split`, `max_depth` and `max_features`. Try to get accuracies close to the SVM's!"
      ]
    },
    {
      "cell_type": "code",
      "metadata": {
        "colab": {
          "base_uri": "https://localhost:8080/"
        },
        "id": "TEUh2A6g3GJ8",
        "outputId": "9b66a407-7826-49ed-c7da-e96de4af4bf4"
      },
      "source": [
        "rfc = RandomForestClassifier(max_depth=2, random_state=0)\n",
        "rfc.fit(X_train_vect, y_train)\n",
        "print(\"default:\")\n",
        "print(\"The training accuracy is {}\".format(rfc.score(X_train_vect, y_train)))\n",
        "print(\"The test accuracy is {}\".format(rfc.score(X_test, y_test)))"
      ],
      "execution_count": null,
      "outputs": [
        {
          "output_type": "stream",
          "text": [
            "default:\n",
            "The training accuracy is 0.78083123324933\n",
            "The test accuracy is 0.7750310012400496\n"
          ],
          "name": "stdout"
        }
      ]
    },
    {
      "cell_type": "code",
      "metadata": {
        "colab": {
          "base_uri": "https://localhost:8080/",
          "height": 537
        },
        "id": "Dy6g-KDkFEp5",
        "outputId": "9a5d70d9-8e83-4edf-dff7-de8cefe82415"
      },
      "source": [
        "print(\"tuning n_estimators ...\")\n",
        "x = [2, 10, 100, 1000, 10000]\n",
        "y1, y2 = [], []\n",
        "for i in x:\n",
        "  rfc = RandomForestClassifier(n_estimators = i, max_depth=2,random_state=0)\n",
        "  rfc.fit(X_train_vect, y_train)\n",
        "  print(\"n_estimator = {}\".format(i))\n",
        "  strain = rfc.score(X_train_vect, y_train)\n",
        "  stest = rfc.score(X_test, y_test)\n",
        "  y1.append(strain)\n",
        "  y2.append(stest)\n",
        "  print(\"The training accuracy is {}\".format(strain))\n",
        "  print(\"The test accuracy is {}\".format(stest))\n",
        "\n",
        "plt.plot(x,y1)\n",
        "plt.plot(x,y2)\n",
        "plt.show()"
      ],
      "execution_count": null,
      "outputs": [
        {
          "output_type": "stream",
          "text": [
            "tuning n_estimators ...\n",
            "n_estimator = 2\n",
            "The training accuracy is 0.5225009000360015\n",
            "The test accuracy is 0.5240609624384975\n",
            "n_estimator = 10\n",
            "The training accuracy is 0.6650266010640425\n",
            "The test accuracy is 0.6668666746669867\n",
            "n_estimator = 100\n",
            "The training accuracy is 0.78083123324933\n",
            "The test accuracy is 0.7750310012400496\n",
            "n_estimator = 1000\n",
            "The training accuracy is 0.8195527821112845\n",
            "The test accuracy is 0.8133125325013001\n",
            "n_estimator = 10000\n",
            "The training accuracy is 0.8211528461138445\n",
            "The test accuracy is 0.8161126445057802\n"
          ],
          "name": "stdout"
        },
        {
          "output_type": "display_data",
          "data": {
            "image/png": "[encoded data removed]",
            "text/plain": [
              "<Figure size 432x288 with 1 Axes>"
            ]
          },
          "metadata": {
            "tags": [],
            "needs_background": "light"
          }
        }
      ]
    },
    {
      "cell_type": "code",
      "metadata": {
        "colab": {
          "base_uri": "https://localhost:8080/",
          "height": 554
        },
        "id": "y0RO3tcEBI7l",
        "outputId": "0a5b85ef-e4fb-4e6c-ae3e-54e371bb8a77"
      },
      "source": [
        "print(\"tuning min_sample_split ...\")\n",
        "x = [0.01, 0.1, 10, 100, 1000]\n",
        "y1, y2 = [], []\n",
        "for i in x:\n",
        "  rfc = RandomForestClassifier(min_samples_split = i, max_depth=2, random_state=0)\n",
        "  rfc.fit(X_train_vect, y_train)\n",
        "  print(\"min_sample_split = {}\".format(i))\n",
        "  strain = rfc.score(X_train_vect, y_train)\n",
        "  stest = rfc.score(X_test, y_test)\n",
        "  y1.append(strain)\n",
        "  y2.append(stest)\n",
        "  print(\"The training accuracy is {}\".format(strain))\n",
        "  print(\"The test accuracy is {}\".format(stest))\n",
        "\n",
        "plt.plot(x,y1)\n",
        "plt.plot(x,y2)\n",
        "plt.show\n",
        "  "
      ],
      "execution_count": null,
      "outputs": [
        {
          "output_type": "stream",
          "text": [
            "tuning min_sample_split ...\n",
            "min_sample_split = 0.01\n",
            "The training accuracy is 0.78063122524901\n",
            "The test accuracy is 0.7749109964398576\n",
            "min_sample_split = 0.1\n",
            "The training accuracy is 0.7793111724468978\n",
            "The test accuracy is 0.7744709788391536\n",
            "min_sample_split = 10\n",
            "The training accuracy is 0.78083123324933\n",
            "The test accuracy is 0.7750310012400496\n",
            "min_sample_split = 100\n",
            "The training accuracy is 0.780791231649266\n",
            "The test accuracy is 0.7749909996399856\n",
            "min_sample_split = 1000\n",
            "The training accuracy is 0.7797911916476659\n",
            "The test accuracy is 0.7749109964398576\n"
          ],
          "name": "stdout"
        },
        {
          "output_type": "execute_result",
          "data": {
            "text/plain": [
              "<function matplotlib.pyplot.show>"
            ]
          },
          "metadata": {
            "tags": []
          },
          "execution_count": 82
        },
        {
          "output_type": "display_data",
          "data": {
            "image/png": "[encoded data removed]",
            "text/plain": [
              "<Figure size 432x288 with 1 Axes>"
            ]
          },
          "metadata": {
            "tags": [],
            "needs_background": "light"
          }
        }
      ]
    },
    {
      "cell_type": "code",
      "metadata": {
        "colab": {
          "base_uri": "https://localhost:8080/",
          "height": 554
        },
        "id": "S5mIbVskCK1I",
        "outputId": "3b68dbbc-d40f-4f42-e5e4-e79c036c4ee4"
      },
      "source": [
        "print(\"tuning max_depth ...\")\n",
        "x = [1, 2, 5, 10, 20]\n",
        "y1, y2 = [], []\n",
        "for i in x:\n",
        "  rfc = RandomForestClassifier(max_depth=i, random_state=0)\n",
        "  rfc.fit(X_train_vect, y_train)\n",
        "  print(\"max_depth = {}\".format(i))\n",
        "  strain = rfc.score(X_train_vect, y_train)\n",
        "  stest = rfc.score(X_test, y_test)\n",
        "  y1.append(strain)\n",
        "  y2.append(stest)\n",
        "  print(\"The training accuracy is {}\".format(strain))\n",
        "  print(\"The test accuracy is {}\".format(stest))\n",
        "\n",
        "plt.plot(x,y1)\n",
        "plt.plot(x,y2)\n",
        "plt.show"
      ],
      "execution_count": null,
      "outputs": [
        {
          "output_type": "stream",
          "text": [
            "tuning max_depth ...\n",
            "max_depth = 1\n",
            "The training accuracy is 0.748829953198128\n",
            "The test accuracy is 0.7429897195887836\n",
            "max_depth = 2\n",
            "The training accuracy is 0.78083123324933\n",
            "The test accuracy is 0.7750310012400496\n",
            "max_depth = 5\n",
            "The training accuracy is 0.8239929597183887\n",
            "The test accuracy is 0.813592543701748\n",
            "max_depth = 10\n",
            "The training accuracy is 0.859634385375415\n",
            "The test accuracy is 0.8230329213168527\n",
            "max_depth = 20\n",
            "The training accuracy is 0.9329573182927318\n",
            "The test accuracy is 0.8348333933357335\n"
          ],
          "name": "stdout"
        },
        {
          "output_type": "execute_result",
          "data": {
            "text/plain": [
              "<function matplotlib.pyplot.show>"
            ]
          },
          "metadata": {
            "tags": []
          },
          "execution_count": 85
        },
        {
          "output_type": "display_data",
          "data": {
            "image/png": "[encoded data removed]",
            "text/plain": [
              "<Figure size 432x288 with 1 Axes>"
            ]
          },
          "metadata": {
            "tags": [],
            "needs_background": "light"
          }
        }
      ]
    },
    {
      "cell_type": "code",
      "metadata": {
        "colab": {
          "base_uri": "https://localhost:8080/",
          "height": 503
        },
        "id": "o8e85cSUC8Xg",
        "outputId": "8e617751-6c7d-4141-f82f-0364aa7a7007"
      },
      "source": [
        "print(\"tuning max_features ...\")\n",
        "x = [10, 200, 500, 1000]\n",
        "y1, y2 = [], []\n",
        "for i in x:\n",
        "  rfc = RandomForestClassifier(max_features=i, max_depth = 2, random_state=0)\n",
        "  rfc.fit(X_train_vect, y_train)\n",
        "  print(\"max_features = {}\".format(i))\n",
        "  strain = rfc.score(X_train_vect, y_train)\n",
        "  stest = rfc.score(X_test, y_test)\n",
        "  y1.append(strain)\n",
        "  y2.append(stest)\n",
        "  print(\"The training accuracy is {}\".format(strain))\n",
        "  print(\"The test accuracy is {}\".format(stest))\n",
        "\n",
        "plt.plot(x,y1)\n",
        "plt.plot(x,y2)\n",
        "plt.show"
      ],
      "execution_count": null,
      "outputs": [
        {
          "output_type": "stream",
          "text": [
            "tuning max_features ...\n",
            "max_features = 10\n",
            "The training accuracy is 0.7408696347853914\n",
            "The test accuracy is 0.7219488779551182\n",
            "max_features = 200\n",
            "The training accuracy is 0.7925117004680188\n",
            "The test accuracy is 0.7911516460658427\n",
            "max_features = 500\n",
            "The training accuracy is 0.766430657226289\n",
            "The test accuracy is 0.766990679627185\n",
            "max_features = 1000\n",
            "The training accuracy is 0.7392295691827673\n",
            "The test accuracy is 0.7437897515900636\n"
          ],
          "name": "stdout"
        },
        {
          "output_type": "execute_result",
          "data": {
            "text/plain": [
              "<function matplotlib.pyplot.show>"
            ]
          },
          "metadata": {
            "tags": []
          },
          "execution_count": 87
        },
        {
          "output_type": "display_data",
          "data": {
            "image/png": "[encoded data removed]",
            "text/plain": [
              "<Figure size 432x288 with 1 Axes>"
            ]
          },
          "metadata": {
            "tags": [],
            "needs_background": "light"
          }
        }
      ]
    },
    {
      "cell_type": "code",
      "metadata": {
        "colab": {
          "base_uri": "https://localhost:8080/"
        },
        "id": "yGENYns9EAVz",
        "outputId": "183fe592-d83d-44ea-e8ec-17d7cbc4102b"
      },
      "source": [
        "rfc = RandomForestClassifier(max_depth=20,n_estimators=1000,min_samples_split=10,max_features=200, random_state=0)\n",
        "rfc.fit(X_train_vect, y_train)\n",
        "print(\"The training accuracy is {}\".format(rfc.score(X_train_vect, y_train)))\n",
        "print(\"The test accuracy is {}\".format(rfc.score(X_test, y_test)))"
      ],
      "execution_count": null,
      "outputs": [
        {
          "output_type": "stream",
          "text": [
            "The training accuracy is 0.9198767950718029\n",
            "The test accuracy is 0.8317532701308052\n"
          ],
          "name": "stdout"
        }
      ]
    },
    {
      "cell_type": "code",
      "metadata": {
        "id": "hPcnt6mI2g5e",
        "colab": {
          "base_uri": "https://localhost:8080/"
        },
        "outputId": "3f947dce-0111-448d-8f37-a8360b15f27e"
      },
      "source": [
        "print(rfc.predict([preprocess_sample_point(\n",
        "    'Boring. This movie is terrible', vocabulary)]))\n",
        "\n",
        "print(rfc.predict([preprocess_sample_point(\n",
        "    'This movie was pretty good', vocabulary)]))"
      ],
      "execution_count": null,
      "outputs": [
        {
          "output_type": "stream",
          "text": [
            "[-1]\n",
            "[1]\n"
          ],
          "name": "stdout"
        }
      ]
    },
    {
      "cell_type": "markdown",
      "metadata": {
        "id": "6nfQUUDG9B20"
      },
      "source": [
        ""
      ]
    },
    {
      "cell_type": "markdown",
      "metadata": {
        "id": "1LAqa9be_3vR"
      },
      "source": [
        "### Question 5.2 Manual hyperparameter tuning\n",
        "\n",
        "Tell us about your hyperparamter tuning in a few sentences! What was your approach? Which paramters did you try changing? Were you able to improve your accuracies? (no right answer, just tell us what you experiemented with!)\n",
        "\n",
        "I started with the default parameters and the training accuracy was 0.7808 and the test accuracy was 0.7750.\n",
        "Then I changed one parameter at a time. I tried values that were smaller than the default values and values that were greater than the default values and plot the result to determine which value to use. The results were shown in the graphs above. \\\\\n",
        "Based on the graphs, I decided to use max_depth=20,n_estimators=1000,min_samples_split=10,max_features=200 and get 0.920 as the training accuracy and 0.832 as the test accuracy, which is close to the accuracies given the SVM.\n",
        "\n",
        "\n",
        "\n",
        "\n",
        "\n",
        "\n"
      ]
    },
    {
      "cell_type": "markdown",
      "metadata": {
        "id": "TP4D-1PjSVfA"
      },
      "source": [
        "## 6. [Optional] Tuning hyperparameters with GridSearchCV\n",
        "In this **optional** section, we will explore how to exhaustively tune the hyperparameters of a new classifier using `sklearn's` [GridSearchCV](https://scikit-learn.org/stable/modules/generated/sklearn.model_selection.GridSearchCV.html)."
      ]
    },
    {
      "cell_type": "markdown",
      "metadata": {
        "id": "C144CYOeYPca"
      },
      "source": [
        "### Question 6.1 Creating an Adaboost classifier\n",
        "In this section, we will be tuning the hyperparameters of an `adaboost` model. \n",
        "\n",
        "As its `sklearn` [documentation](https://scikit-learn.org/stable/modules/generated/sklearn.ensemble.AdaBoostClassifier.html) mentions, this classifier \"begins by fitting a classifier on the original dataset and then fits additional copies of the classifier on the same dataset but where the weights of incorrectly classified instances are adjusted such that subsequent classifiers focus more on difficult cases.\" \n",
        "\n",
        "For this question, simply create an instance of the classifer and name it `abc`."
      ]
    },
    {
      "cell_type": "code",
      "metadata": {
        "id": "rhuzkrzfZitf"
      },
      "source": [
        "abc = AdaBoostClassifier(n_estimators=100, random_state=0)"
      ],
      "execution_count": 22,
      "outputs": []
    },
    {
      "cell_type": "markdown",
      "metadata": {
        "id": "rnIbpGe-Z52z"
      },
      "source": [
        "### Question 6.2 Finding the best parameters\n",
        "In order to use GridSearchCV, we need to provide it with a classifier (here, `abc`) and lists of different values for the hyperparameters we want to tune. GridSearchCV will run a fit using each possible parameter and get crossvalidation scores. \n",
        "\n",
        "For this question, use the GridSearchCV documentation to:\n",
        "1. Create a dict of parameters to tune with their respective list of values\n",
        "2. Create an instance of GridSearchCV with `abc` as the estimator and the following arguments: `cv=5, refit=False, verbose=3`\n",
        "3. Print the resulting scores and determine which parameters are best!\n"
      ]
    },
    {
      "cell_type": "code",
      "metadata": {
        "id": "1CZJsxsqa1bC",
        "colab": {
          "base_uri": "https://localhost:8080/"
        },
        "outputId": "210fc7d6-fef8-419f-8a9c-657fe5ecb2e0"
      },
      "source": [
        "parameters = { 'n_estimators': [10, 50, 100],\n",
        "    'learning_rate': [0.01, 1.0, 10.0],\n",
        " 'algorithm': ['SAMME', 'SAMME.R']}\n",
        "clf = GridSearchCV(abc, param_grid=parameters,cv=5, refit=False, verbose=3)\n",
        "clf.fit(X_train_vect, y_train)\n",
        "print(clf.best_params_)\n",
        "print(classification_report(y_test, clf.predict(X_train_vect))) "
      ],
      "execution_count": null,
      "outputs": [
        {
          "output_type": "stream",
          "text": [
            "Fitting 5 folds for each of 18 candidates, totalling 90 fits\n",
            "[CV] algorithm=SAMME, learning_rate=0.01, n_estimators=10 ............\n"
          ],
          "name": "stdout"
        },
        {
          "output_type": "stream",
          "text": [
            "[Parallel(n_jobs=1)]: Using backend SequentialBackend with 1 concurrent workers.\n"
          ],
          "name": "stderr"
        },
        {
          "output_type": "stream",
          "text": [
            "[CV]  algorithm=SAMME, learning_rate=0.01, n_estimators=10, score=0.613, total=  41.9s\n",
            "[CV] algorithm=SAMME, learning_rate=0.01, n_estimators=10 ............\n"
          ],
          "name": "stdout"
        },
        {
          "output_type": "stream",
          "text": [
            "[Parallel(n_jobs=1)]: Done   1 out of   1 | elapsed:   41.9s remaining:    0.0s\n"
          ],
          "name": "stderr"
        },
        {
          "output_type": "stream",
          "text": [
            "[CV]  algorithm=SAMME, learning_rate=0.01, n_estimators=10, score=0.617, total=  40.3s\n",
            "[CV] algorithm=SAMME, learning_rate=0.01, n_estimators=10 ............\n"
          ],
          "name": "stdout"
        },
        {
          "output_type": "stream",
          "text": [
            "[Parallel(n_jobs=1)]: Done   2 out of   2 | elapsed:  1.4min remaining:    0.0s\n"
          ],
          "name": "stderr"
        },
        {
          "output_type": "stream",
          "text": [
            "[CV]  algorithm=SAMME, learning_rate=0.01, n_estimators=10, score=0.615, total=  40.3s\n",
            "[CV] algorithm=SAMME, learning_rate=0.01, n_estimators=10 ............\n",
            "[CV]  algorithm=SAMME, learning_rate=0.01, n_estimators=10, score=0.609, total=  40.4s\n",
            "[CV] algorithm=SAMME, learning_rate=0.01, n_estimators=10 ............\n",
            "[CV]  algorithm=SAMME, learning_rate=0.01, n_estimators=10, score=0.613, total=  38.2s\n",
            "[CV] algorithm=SAMME, learning_rate=0.01, n_estimators=50 ............\n",
            "[CV]  algorithm=SAMME, learning_rate=0.01, n_estimators=50, score=0.613, total= 3.3min\n",
            "[CV] algorithm=SAMME, learning_rate=0.01, n_estimators=50 ............\n",
            "[CV]  algorithm=SAMME, learning_rate=0.01, n_estimators=50, score=0.617, total= 3.3min\n",
            "[CV] algorithm=SAMME, learning_rate=0.01, n_estimators=50 ............\n",
            "[CV]  algorithm=SAMME, learning_rate=0.01, n_estimators=50, score=0.615, total= 3.3min\n",
            "[CV] algorithm=SAMME, learning_rate=0.01, n_estimators=50 ............\n",
            "[CV]  algorithm=SAMME, learning_rate=0.01, n_estimators=50, score=0.609, total= 3.3min\n",
            "[CV] algorithm=SAMME, learning_rate=0.01, n_estimators=50 ............\n",
            "[CV]  algorithm=SAMME, learning_rate=0.01, n_estimators=50, score=0.613, total= 3.1min\n",
            "[CV] algorithm=SAMME, learning_rate=0.01, n_estimators=100 ...........\n",
            "[CV]  algorithm=SAMME, learning_rate=0.01, n_estimators=100, score=0.649, total= 6.6min\n",
            "[CV] algorithm=SAMME, learning_rate=0.01, n_estimators=100 ...........\n",
            "[CV]  algorithm=SAMME, learning_rate=0.01, n_estimators=100, score=0.648, total= 6.6min\n",
            "[CV] algorithm=SAMME, learning_rate=0.01, n_estimators=100 ...........\n",
            "[CV]  algorithm=SAMME, learning_rate=0.01, n_estimators=100, score=0.615, total= 6.6min\n",
            "[CV] algorithm=SAMME, learning_rate=0.01, n_estimators=100 ...........\n",
            "[CV]  algorithm=SAMME, learning_rate=0.01, n_estimators=100, score=0.644, total= 6.6min\n",
            "[CV] algorithm=SAMME, learning_rate=0.01, n_estimators=100 ...........\n",
            "[CV]  algorithm=SAMME, learning_rate=0.01, n_estimators=100, score=0.613, total= 6.2min\n",
            "[CV] algorithm=SAMME, learning_rate=1.0, n_estimators=10 .............\n",
            "[CV]  algorithm=SAMME, learning_rate=1.0, n_estimators=10, score=0.681, total=  40.5s\n",
            "[CV] algorithm=SAMME, learning_rate=1.0, n_estimators=10 .............\n",
            "[CV]  algorithm=SAMME, learning_rate=1.0, n_estimators=10, score=0.662, total=  40.4s\n",
            "[CV] algorithm=SAMME, learning_rate=1.0, n_estimators=10 .............\n",
            "[CV]  algorithm=SAMME, learning_rate=1.0, n_estimators=10, score=0.622, total=  40.2s\n",
            "[CV] algorithm=SAMME, learning_rate=1.0, n_estimators=10 .............\n",
            "[CV]  algorithm=SAMME, learning_rate=1.0, n_estimators=10, score=0.676, total=  40.2s\n",
            "[CV] algorithm=SAMME, learning_rate=1.0, n_estimators=10 .............\n",
            "[CV]  algorithm=SAMME, learning_rate=1.0, n_estimators=10, score=0.681, total=  37.7s\n",
            "[CV] algorithm=SAMME, learning_rate=1.0, n_estimators=50 .............\n",
            "[CV]  algorithm=SAMME, learning_rate=1.0, n_estimators=50, score=0.765, total= 3.3min\n",
            "[CV] algorithm=SAMME, learning_rate=1.0, n_estimators=50 .............\n",
            "[CV]  algorithm=SAMME, learning_rate=1.0, n_estimators=50, score=0.752, total= 3.3min\n",
            "[CV] algorithm=SAMME, learning_rate=1.0, n_estimators=50 .............\n",
            "[CV]  algorithm=SAMME, learning_rate=1.0, n_estimators=50, score=0.758, total= 3.3min\n",
            "[CV] algorithm=SAMME, learning_rate=1.0, n_estimators=50 .............\n",
            "[CV]  algorithm=SAMME, learning_rate=1.0, n_estimators=50, score=0.742, total= 3.3min\n",
            "[CV] algorithm=SAMME, learning_rate=1.0, n_estimators=50 .............\n",
            "[CV]  algorithm=SAMME, learning_rate=1.0, n_estimators=50, score=0.749, total= 3.1min\n",
            "[CV] algorithm=SAMME, learning_rate=1.0, n_estimators=100 ............\n",
            "[CV]  algorithm=SAMME, learning_rate=1.0, n_estimators=100, score=0.780, total= 6.6min\n",
            "[CV] algorithm=SAMME, learning_rate=1.0, n_estimators=100 ............\n",
            "[CV]  algorithm=SAMME, learning_rate=1.0, n_estimators=100, score=0.768, total= 6.6min\n",
            "[CV] algorithm=SAMME, learning_rate=1.0, n_estimators=100 ............\n",
            "[CV]  algorithm=SAMME, learning_rate=1.0, n_estimators=100, score=0.779, total= 6.6min\n",
            "[CV] algorithm=SAMME, learning_rate=1.0, n_estimators=100 ............\n",
            "[CV]  algorithm=SAMME, learning_rate=1.0, n_estimators=100, score=0.762, total= 6.6min\n",
            "[CV] algorithm=SAMME, learning_rate=1.0, n_estimators=100 ............\n",
            "[CV]  algorithm=SAMME, learning_rate=1.0, n_estimators=100, score=0.763, total= 6.2min\n",
            "[CV] algorithm=SAMME, learning_rate=10.0, n_estimators=10 ............\n"
          ],
          "name": "stdout"
        },
        {
          "output_type": "stream",
          "text": [
            "/usr/local/lib/python3.7/dist-packages/sklearn/ensemble/_weight_boosting.py:604: RuntimeWarning: overflow encountered in exp\n",
            "  (sample_weight > 0))\n",
            "/usr/local/lib/python3.7/dist-packages/sklearn/ensemble/_weight_boosting.py:163: RuntimeWarning: invalid value encountered in true_divide\n",
            "  sample_weight /= sample_weight_sum\n",
            "/usr/local/lib/python3.7/dist-packages/sklearn/model_selection/_validation.py:536: FitFailedWarning: Estimator fit failed. The score on this train-test partition for these parameters will be set to nan. Details: \n",
            "ValueError: Input contains NaN, infinity or a value too large for dtype('float64').\n",
            "\n",
            "  FitFailedWarning)\n"
          ],
          "name": "stderr"
        },
        {
          "output_type": "stream",
          "text": [
            "[CV]  algorithm=SAMME, learning_rate=10.0, n_estimators=10, score=nan, total=  16.6s\n",
            "[CV] algorithm=SAMME, learning_rate=10.0, n_estimators=10 ............\n"
          ],
          "name": "stdout"
        },
        {
          "output_type": "stream",
          "text": [
            "/usr/local/lib/python3.7/dist-packages/sklearn/ensemble/_weight_boosting.py:604: RuntimeWarning: overflow encountered in exp\n",
            "  (sample_weight > 0))\n",
            "/usr/local/lib/python3.7/dist-packages/sklearn/ensemble/_weight_boosting.py:163: RuntimeWarning: invalid value encountered in true_divide\n",
            "  sample_weight /= sample_weight_sum\n",
            "/usr/local/lib/python3.7/dist-packages/sklearn/model_selection/_validation.py:536: FitFailedWarning: Estimator fit failed. The score on this train-test partition for these parameters will be set to nan. Details: \n",
            "ValueError: Input contains NaN, infinity or a value too large for dtype('float64').\n",
            "\n",
            "  FitFailedWarning)\n"
          ],
          "name": "stderr"
        },
        {
          "output_type": "stream",
          "text": [
            "[CV]  algorithm=SAMME, learning_rate=10.0, n_estimators=10, score=nan, total=  16.4s\n",
            "[CV] algorithm=SAMME, learning_rate=10.0, n_estimators=10 ............\n"
          ],
          "name": "stdout"
        },
        {
          "output_type": "stream",
          "text": [
            "/usr/local/lib/python3.7/dist-packages/sklearn/ensemble/_weight_boosting.py:604: RuntimeWarning: overflow encountered in exp\n",
            "  (sample_weight > 0))\n",
            "/usr/local/lib/python3.7/dist-packages/sklearn/ensemble/_weight_boosting.py:163: RuntimeWarning: invalid value encountered in true_divide\n",
            "  sample_weight /= sample_weight_sum\n",
            "/usr/local/lib/python3.7/dist-packages/sklearn/model_selection/_validation.py:536: FitFailedWarning: Estimator fit failed. The score on this train-test partition for these parameters will be set to nan. Details: \n",
            "ValueError: Input contains NaN, infinity or a value too large for dtype('float64').\n",
            "\n",
            "  FitFailedWarning)\n"
          ],
          "name": "stderr"
        },
        {
          "output_type": "stream",
          "text": [
            "[CV]  algorithm=SAMME, learning_rate=10.0, n_estimators=10, score=nan, total=  16.4s\n",
            "[CV] algorithm=SAMME, learning_rate=10.0, n_estimators=10 ............\n"
          ],
          "name": "stdout"
        },
        {
          "output_type": "stream",
          "text": [
            "/usr/local/lib/python3.7/dist-packages/sklearn/ensemble/_weight_boosting.py:604: RuntimeWarning: overflow encountered in exp\n",
            "  (sample_weight > 0))\n",
            "/usr/local/lib/python3.7/dist-packages/sklearn/ensemble/_weight_boosting.py:163: RuntimeWarning: invalid value encountered in true_divide\n",
            "  sample_weight /= sample_weight_sum\n",
            "/usr/local/lib/python3.7/dist-packages/sklearn/model_selection/_validation.py:536: FitFailedWarning: Estimator fit failed. The score on this train-test partition for these parameters will be set to nan. Details: \n",
            "ValueError: Input contains NaN, infinity or a value too large for dtype('float64').\n",
            "\n",
            "  FitFailedWarning)\n"
          ],
          "name": "stderr"
        },
        {
          "output_type": "stream",
          "text": [
            "[CV]  algorithm=SAMME, learning_rate=10.0, n_estimators=10, score=nan, total=  16.3s\n",
            "[CV] algorithm=SAMME, learning_rate=10.0, n_estimators=10 ............\n"
          ],
          "name": "stdout"
        },
        {
          "output_type": "stream",
          "text": [
            "/usr/local/lib/python3.7/dist-packages/sklearn/ensemble/_weight_boosting.py:604: RuntimeWarning: overflow encountered in exp\n",
            "  (sample_weight > 0))\n",
            "/usr/local/lib/python3.7/dist-packages/sklearn/ensemble/_weight_boosting.py:163: RuntimeWarning: invalid value encountered in true_divide\n",
            "  sample_weight /= sample_weight_sum\n",
            "/usr/local/lib/python3.7/dist-packages/sklearn/model_selection/_validation.py:536: FitFailedWarning: Estimator fit failed. The score on this train-test partition for these parameters will be set to nan. Details: \n",
            "ValueError: Input contains NaN, infinity or a value too large for dtype('float64').\n",
            "\n",
            "  FitFailedWarning)\n"
          ],
          "name": "stderr"
        },
        {
          "output_type": "stream",
          "text": [
            "[CV]  algorithm=SAMME, learning_rate=10.0, n_estimators=10, score=nan, total=  15.5s\n",
            "[CV] algorithm=SAMME, learning_rate=10.0, n_estimators=50 ............\n"
          ],
          "name": "stdout"
        },
        {
          "output_type": "stream",
          "text": [
            "/usr/local/lib/python3.7/dist-packages/sklearn/ensemble/_weight_boosting.py:604: RuntimeWarning: overflow encountered in exp\n",
            "  (sample_weight > 0))\n",
            "/usr/local/lib/python3.7/dist-packages/sklearn/ensemble/_weight_boosting.py:163: RuntimeWarning: invalid value encountered in true_divide\n",
            "  sample_weight /= sample_weight_sum\n",
            "/usr/local/lib/python3.7/dist-packages/sklearn/model_selection/_validation.py:536: FitFailedWarning: Estimator fit failed. The score on this train-test partition for these parameters will be set to nan. Details: \n",
            "ValueError: Input contains NaN, infinity or a value too large for dtype('float64').\n",
            "\n",
            "  FitFailedWarning)\n"
          ],
          "name": "stderr"
        },
        {
          "output_type": "stream",
          "text": [
            "[CV]  algorithm=SAMME, learning_rate=10.0, n_estimators=50, score=nan, total=  16.3s\n",
            "[CV] algorithm=SAMME, learning_rate=10.0, n_estimators=50 ............\n"
          ],
          "name": "stdout"
        },
        {
          "output_type": "stream",
          "text": [
            "/usr/local/lib/python3.7/dist-packages/sklearn/ensemble/_weight_boosting.py:604: RuntimeWarning: overflow encountered in exp\n",
            "  (sample_weight > 0))\n",
            "/usr/local/lib/python3.7/dist-packages/sklearn/ensemble/_weight_boosting.py:163: RuntimeWarning: invalid value encountered in true_divide\n",
            "  sample_weight /= sample_weight_sum\n",
            "/usr/local/lib/python3.7/dist-packages/sklearn/model_selection/_validation.py:536: FitFailedWarning: Estimator fit failed. The score on this train-test partition for these parameters will be set to nan. Details: \n",
            "ValueError: Input contains NaN, infinity or a value too large for dtype('float64').\n",
            "\n",
            "  FitFailedWarning)\n"
          ],
          "name": "stderr"
        },
        {
          "output_type": "stream",
          "text": [
            "[CV]  algorithm=SAMME, learning_rate=10.0, n_estimators=50, score=nan, total=  16.4s\n",
            "[CV] algorithm=SAMME, learning_rate=10.0, n_estimators=50 ............\n"
          ],
          "name": "stdout"
        },
        {
          "output_type": "stream",
          "text": [
            "/usr/local/lib/python3.7/dist-packages/sklearn/ensemble/_weight_boosting.py:604: RuntimeWarning: overflow encountered in exp\n",
            "  (sample_weight > 0))\n",
            "/usr/local/lib/python3.7/dist-packages/sklearn/ensemble/_weight_boosting.py:163: RuntimeWarning: invalid value encountered in true_divide\n",
            "  sample_weight /= sample_weight_sum\n",
            "/usr/local/lib/python3.7/dist-packages/sklearn/model_selection/_validation.py:536: FitFailedWarning: Estimator fit failed. The score on this train-test partition for these parameters will be set to nan. Details: \n",
            "ValueError: Input contains NaN, infinity or a value too large for dtype('float64').\n",
            "\n",
            "  FitFailedWarning)\n"
          ],
          "name": "stderr"
        },
        {
          "output_type": "stream",
          "text": [
            "[CV]  algorithm=SAMME, learning_rate=10.0, n_estimators=50, score=nan, total=  16.4s\n",
            "[CV] algorithm=SAMME, learning_rate=10.0, n_estimators=50 ............\n"
          ],
          "name": "stdout"
        },
        {
          "output_type": "stream",
          "text": [
            "/usr/local/lib/python3.7/dist-packages/sklearn/ensemble/_weight_boosting.py:604: RuntimeWarning: overflow encountered in exp\n",
            "  (sample_weight > 0))\n",
            "/usr/local/lib/python3.7/dist-packages/sklearn/ensemble/_weight_boosting.py:163: RuntimeWarning: invalid value encountered in true_divide\n",
            "  sample_weight /= sample_weight_sum\n",
            "/usr/local/lib/python3.7/dist-packages/sklearn/model_selection/_validation.py:536: FitFailedWarning: Estimator fit failed. The score on this train-test partition for these parameters will be set to nan. Details: \n",
            "ValueError: Input contains NaN, infinity or a value too large for dtype('float64').\n",
            "\n",
            "  FitFailedWarning)\n"
          ],
          "name": "stderr"
        },
        {
          "output_type": "stream",
          "text": [
            "[CV]  algorithm=SAMME, learning_rate=10.0, n_estimators=50, score=nan, total=  16.4s\n",
            "[CV] algorithm=SAMME, learning_rate=10.0, n_estimators=50 ............\n"
          ],
          "name": "stdout"
        },
        {
          "output_type": "stream",
          "text": [
            "/usr/local/lib/python3.7/dist-packages/sklearn/ensemble/_weight_boosting.py:604: RuntimeWarning: overflow encountered in exp\n",
            "  (sample_weight > 0))\n",
            "/usr/local/lib/python3.7/dist-packages/sklearn/ensemble/_weight_boosting.py:163: RuntimeWarning: invalid value encountered in true_divide\n",
            "  sample_weight /= sample_weight_sum\n",
            "/usr/local/lib/python3.7/dist-packages/sklearn/model_selection/_validation.py:536: FitFailedWarning: Estimator fit failed. The score on this train-test partition for these parameters will be set to nan. Details: \n",
            "ValueError: Input contains NaN, infinity or a value too large for dtype('float64').\n",
            "\n",
            "  FitFailedWarning)\n"
          ],
          "name": "stderr"
        },
        {
          "output_type": "stream",
          "text": [
            "[CV]  algorithm=SAMME, learning_rate=10.0, n_estimators=50, score=nan, total=  15.4s\n",
            "[CV] algorithm=SAMME, learning_rate=10.0, n_estimators=100 ...........\n"
          ],
          "name": "stdout"
        },
        {
          "output_type": "stream",
          "text": [
            "/usr/local/lib/python3.7/dist-packages/sklearn/ensemble/_weight_boosting.py:604: RuntimeWarning: overflow encountered in exp\n",
            "  (sample_weight > 0))\n",
            "/usr/local/lib/python3.7/dist-packages/sklearn/ensemble/_weight_boosting.py:163: RuntimeWarning: invalid value encountered in true_divide\n",
            "  sample_weight /= sample_weight_sum\n",
            "/usr/local/lib/python3.7/dist-packages/sklearn/model_selection/_validation.py:536: FitFailedWarning: Estimator fit failed. The score on this train-test partition for these parameters will be set to nan. Details: \n",
            "ValueError: Input contains NaN, infinity or a value too large for dtype('float64').\n",
            "\n",
            "  FitFailedWarning)\n"
          ],
          "name": "stderr"
        },
        {
          "output_type": "stream",
          "text": [
            "[CV]  algorithm=SAMME, learning_rate=10.0, n_estimators=100, score=nan, total=  16.5s\n",
            "[CV] algorithm=SAMME, learning_rate=10.0, n_estimators=100 ...........\n"
          ],
          "name": "stdout"
        },
        {
          "output_type": "stream",
          "text": [
            "/usr/local/lib/python3.7/dist-packages/sklearn/ensemble/_weight_boosting.py:604: RuntimeWarning: overflow encountered in exp\n",
            "  (sample_weight > 0))\n",
            "/usr/local/lib/python3.7/dist-packages/sklearn/ensemble/_weight_boosting.py:163: RuntimeWarning: invalid value encountered in true_divide\n",
            "  sample_weight /= sample_weight_sum\n",
            "/usr/local/lib/python3.7/dist-packages/sklearn/model_selection/_validation.py:536: FitFailedWarning: Estimator fit failed. The score on this train-test partition for these parameters will be set to nan. Details: \n",
            "ValueError: Input contains NaN, infinity or a value too large for dtype('float64').\n",
            "\n",
            "  FitFailedWarning)\n"
          ],
          "name": "stderr"
        },
        {
          "output_type": "stream",
          "text": [
            "[CV]  algorithm=SAMME, learning_rate=10.0, n_estimators=100, score=nan, total=  16.4s\n",
            "[CV] algorithm=SAMME, learning_rate=10.0, n_estimators=100 ...........\n"
          ],
          "name": "stdout"
        },
        {
          "output_type": "stream",
          "text": [
            "/usr/local/lib/python3.7/dist-packages/sklearn/ensemble/_weight_boosting.py:604: RuntimeWarning: overflow encountered in exp\n",
            "  (sample_weight > 0))\n",
            "/usr/local/lib/python3.7/dist-packages/sklearn/ensemble/_weight_boosting.py:163: RuntimeWarning: invalid value encountered in true_divide\n",
            "  sample_weight /= sample_weight_sum\n",
            "/usr/local/lib/python3.7/dist-packages/sklearn/model_selection/_validation.py:536: FitFailedWarning: Estimator fit failed. The score on this train-test partition for these parameters will be set to nan. Details: \n",
            "ValueError: Input contains NaN, infinity or a value too large for dtype('float64').\n",
            "\n",
            "  FitFailedWarning)\n"
          ],
          "name": "stderr"
        },
        {
          "output_type": "stream",
          "text": [
            "[CV]  algorithm=SAMME, learning_rate=10.0, n_estimators=100, score=nan, total=  16.4s\n",
            "[CV] algorithm=SAMME, learning_rate=10.0, n_estimators=100 ...........\n"
          ],
          "name": "stdout"
        },
        {
          "output_type": "stream",
          "text": [
            "/usr/local/lib/python3.7/dist-packages/sklearn/ensemble/_weight_boosting.py:604: RuntimeWarning: overflow encountered in exp\n",
            "  (sample_weight > 0))\n",
            "/usr/local/lib/python3.7/dist-packages/sklearn/ensemble/_weight_boosting.py:163: RuntimeWarning: invalid value encountered in true_divide\n",
            "  sample_weight /= sample_weight_sum\n",
            "/usr/local/lib/python3.7/dist-packages/sklearn/model_selection/_validation.py:536: FitFailedWarning: Estimator fit failed. The score on this train-test partition for these parameters will be set to nan. Details: \n",
            "ValueError: Input contains NaN, infinity or a value too large for dtype('float64').\n",
            "\n",
            "  FitFailedWarning)\n"
          ],
          "name": "stderr"
        },
        {
          "output_type": "stream",
          "text": [
            "[CV]  algorithm=SAMME, learning_rate=10.0, n_estimators=100, score=nan, total=  16.4s\n",
            "[CV] algorithm=SAMME, learning_rate=10.0, n_estimators=100 ...........\n"
          ],
          "name": "stdout"
        },
        {
          "output_type": "stream",
          "text": [
            "/usr/local/lib/python3.7/dist-packages/sklearn/ensemble/_weight_boosting.py:604: RuntimeWarning: overflow encountered in exp\n",
            "  (sample_weight > 0))\n",
            "/usr/local/lib/python3.7/dist-packages/sklearn/ensemble/_weight_boosting.py:163: RuntimeWarning: invalid value encountered in true_divide\n",
            "  sample_weight /= sample_weight_sum\n",
            "/usr/local/lib/python3.7/dist-packages/sklearn/model_selection/_validation.py:536: FitFailedWarning: Estimator fit failed. The score on this train-test partition for these parameters will be set to nan. Details: \n",
            "ValueError: Input contains NaN, infinity or a value too large for dtype('float64').\n",
            "\n",
            "  FitFailedWarning)\n"
          ],
          "name": "stderr"
        },
        {
          "output_type": "stream",
          "text": [
            "[CV]  algorithm=SAMME, learning_rate=10.0, n_estimators=100, score=nan, total=  15.4s\n",
            "[CV] algorithm=SAMME.R, learning_rate=0.01, n_estimators=10 ..........\n",
            "[CV]  algorithm=SAMME.R, learning_rate=0.01, n_estimators=10, score=0.613, total=  40.4s\n",
            "[CV] algorithm=SAMME.R, learning_rate=0.01, n_estimators=10 ..........\n",
            "[CV]  algorithm=SAMME.R, learning_rate=0.01, n_estimators=10, score=0.648, total=  40.6s\n",
            "[CV] algorithm=SAMME.R, learning_rate=0.01, n_estimators=10 ..........\n",
            "[CV]  algorithm=SAMME.R, learning_rate=0.01, n_estimators=10, score=0.615, total=  40.7s\n",
            "[CV] algorithm=SAMME.R, learning_rate=0.01, n_estimators=10 ..........\n",
            "[CV]  algorithm=SAMME.R, learning_rate=0.01, n_estimators=10, score=0.609, total=  40.8s\n",
            "[CV] algorithm=SAMME.R, learning_rate=0.01, n_estimators=10 ..........\n",
            "[CV]  algorithm=SAMME.R, learning_rate=0.01, n_estimators=10, score=0.613, total=  38.0s\n",
            "[CV] algorithm=SAMME.R, learning_rate=0.01, n_estimators=50 ..........\n",
            "[CV]  algorithm=SAMME.R, learning_rate=0.01, n_estimators=50, score=0.649, total= 3.3min\n",
            "[CV] algorithm=SAMME.R, learning_rate=0.01, n_estimators=50 ..........\n",
            "[CV]  algorithm=SAMME.R, learning_rate=0.01, n_estimators=50, score=0.648, total= 3.3min\n",
            "[CV] algorithm=SAMME.R, learning_rate=0.01, n_estimators=50 ..........\n",
            "[CV]  algorithm=SAMME.R, learning_rate=0.01, n_estimators=50, score=0.655, total= 3.3min\n",
            "[CV] algorithm=SAMME.R, learning_rate=0.01, n_estimators=50 ..........\n",
            "[CV]  algorithm=SAMME.R, learning_rate=0.01, n_estimators=50, score=0.644, total= 3.3min\n",
            "[CV] algorithm=SAMME.R, learning_rate=0.01, n_estimators=50 ..........\n",
            "[CV]  algorithm=SAMME.R, learning_rate=0.01, n_estimators=50, score=0.648, total= 3.1min\n",
            "[CV] algorithm=SAMME.R, learning_rate=0.01, n_estimators=100 .........\n",
            "[CV]  algorithm=SAMME.R, learning_rate=0.01, n_estimators=100, score=0.670, total= 6.6min\n",
            "[CV] algorithm=SAMME.R, learning_rate=0.01, n_estimators=100 .........\n",
            "[CV]  algorithm=SAMME.R, learning_rate=0.01, n_estimators=100, score=0.668, total= 6.6min\n",
            "[CV] algorithm=SAMME.R, learning_rate=0.01, n_estimators=100 .........\n",
            "[CV]  algorithm=SAMME.R, learning_rate=0.01, n_estimators=100, score=0.676, total= 6.6min\n",
            "[CV] algorithm=SAMME.R, learning_rate=0.01, n_estimators=100 .........\n",
            "[CV]  algorithm=SAMME.R, learning_rate=0.01, n_estimators=100, score=0.668, total= 6.6min\n",
            "[CV] algorithm=SAMME.R, learning_rate=0.01, n_estimators=100 .........\n",
            "[CV]  algorithm=SAMME.R, learning_rate=0.01, n_estimators=100, score=0.672, total= 6.2min\n",
            "[CV] algorithm=SAMME.R, learning_rate=1.0, n_estimators=10 ...........\n",
            "[CV]  algorithm=SAMME.R, learning_rate=1.0, n_estimators=10, score=0.721, total=  40.4s\n",
            "[CV] algorithm=SAMME.R, learning_rate=1.0, n_estimators=10 ...........\n",
            "[CV]  algorithm=SAMME.R, learning_rate=1.0, n_estimators=10, score=0.711, total=  40.2s\n",
            "[CV] algorithm=SAMME.R, learning_rate=1.0, n_estimators=10 ...........\n",
            "[CV]  algorithm=SAMME.R, learning_rate=1.0, n_estimators=10, score=0.722, total=  40.2s\n",
            "[CV] algorithm=SAMME.R, learning_rate=1.0, n_estimators=10 ...........\n",
            "[CV]  algorithm=SAMME.R, learning_rate=1.0, n_estimators=10, score=0.709, total=  40.5s\n",
            "[CV] algorithm=SAMME.R, learning_rate=1.0, n_estimators=10 ...........\n",
            "[CV]  algorithm=SAMME.R, learning_rate=1.0, n_estimators=10, score=0.714, total=  38.0s\n",
            "[CV] algorithm=SAMME.R, learning_rate=1.0, n_estimators=50 ...........\n",
            "[CV]  algorithm=SAMME.R, learning_rate=1.0, n_estimators=50, score=0.803, total= 3.3min\n",
            "[CV] algorithm=SAMME.R, learning_rate=1.0, n_estimators=50 ...........\n",
            "[CV]  algorithm=SAMME.R, learning_rate=1.0, n_estimators=50, score=0.796, total= 3.3min\n",
            "[CV] algorithm=SAMME.R, learning_rate=1.0, n_estimators=50 ...........\n",
            "[CV]  algorithm=SAMME.R, learning_rate=1.0, n_estimators=50, score=0.804, total= 3.3min\n",
            "[CV] algorithm=SAMME.R, learning_rate=1.0, n_estimators=50 ...........\n",
            "[CV]  algorithm=SAMME.R, learning_rate=1.0, n_estimators=50, score=0.782, total= 3.3min\n",
            "[CV] algorithm=SAMME.R, learning_rate=1.0, n_estimators=50 ...........\n",
            "[CV]  algorithm=SAMME.R, learning_rate=1.0, n_estimators=50, score=0.796, total= 3.1min\n",
            "[CV] algorithm=SAMME.R, learning_rate=1.0, n_estimators=100 ..........\n",
            "[CV]  algorithm=SAMME.R, learning_rate=1.0, n_estimators=100, score=0.829, total= 6.6min\n",
            "[CV] algorithm=SAMME.R, learning_rate=1.0, n_estimators=100 ..........\n",
            "[CV]  algorithm=SAMME.R, learning_rate=1.0, n_estimators=100, score=0.820, total= 6.6min\n",
            "[CV] algorithm=SAMME.R, learning_rate=1.0, n_estimators=100 ..........\n",
            "[CV]  algorithm=SAMME.R, learning_rate=1.0, n_estimators=100, score=0.827, total= 6.6min\n",
            "[CV] algorithm=SAMME.R, learning_rate=1.0, n_estimators=100 ..........\n",
            "[CV]  algorithm=SAMME.R, learning_rate=1.0, n_estimators=100, score=0.811, total= 6.6min\n",
            "[CV] algorithm=SAMME.R, learning_rate=1.0, n_estimators=100 ..........\n",
            "[CV]  algorithm=SAMME.R, learning_rate=1.0, n_estimators=100, score=0.818, total= 6.2min\n",
            "[CV] algorithm=SAMME.R, learning_rate=10.0, n_estimators=10 ..........\n",
            "[CV]  algorithm=SAMME.R, learning_rate=10.0, n_estimators=10, score=0.500, total=  16.0s\n",
            "[CV] algorithm=SAMME.R, learning_rate=10.0, n_estimators=10 ..........\n",
            "[CV]  algorithm=SAMME.R, learning_rate=10.0, n_estimators=10, score=0.500, total=  15.9s\n",
            "[CV] algorithm=SAMME.R, learning_rate=10.0, n_estimators=10 ..........\n",
            "[CV]  algorithm=SAMME.R, learning_rate=10.0, n_estimators=10, score=0.500, total=  15.9s\n",
            "[CV] algorithm=SAMME.R, learning_rate=10.0, n_estimators=10 ..........\n",
            "[CV]  algorithm=SAMME.R, learning_rate=10.0, n_estimators=10, score=0.500, total=  15.8s\n",
            "[CV] algorithm=SAMME.R, learning_rate=10.0, n_estimators=10 ..........\n",
            "[CV]  algorithm=SAMME.R, learning_rate=10.0, n_estimators=10, score=0.500, total=  15.4s\n",
            "[CV] algorithm=SAMME.R, learning_rate=10.0, n_estimators=50 ..........\n",
            "[CV]  algorithm=SAMME.R, learning_rate=10.0, n_estimators=50, score=0.500, total=  52.0s\n",
            "[CV] algorithm=SAMME.R, learning_rate=10.0, n_estimators=50 ..........\n",
            "[CV]  algorithm=SAMME.R, learning_rate=10.0, n_estimators=50, score=0.500, total=  52.0s\n",
            "[CV] algorithm=SAMME.R, learning_rate=10.0, n_estimators=50 ..........\n",
            "[CV]  algorithm=SAMME.R, learning_rate=10.0, n_estimators=50, score=0.500, total=  51.7s\n",
            "[CV] algorithm=SAMME.R, learning_rate=10.0, n_estimators=50 ..........\n"
          ],
          "name": "stdout"
        }
      ]
    },
    {
      "cell_type": "markdown",
      "metadata": {
        "id": "W6CdJGpjcK2r"
      },
      "source": [
        "### Question 6.3 Final result with best parameters\n",
        "Using the best parameters found in the previous question, reinstantiate an `adaboost` classifier, fit it to the train data, and print the the accuracy score on the test set. "
      ]
    },
    {
      "cell_type": "code",
      "metadata": {
        "id": "acx0uXvpeycS",
        "colab": {
          "base_uri": "https://localhost:8080/"
        },
        "outputId": "a4ba63bb-8ca2-4dd5-f9ca-6a50664030c8"
      },
      "source": [
        "abc = AdaBoostClassifier(algorithm='SAMME.R', learning_rate=1.0, n_estimators=100, random_state=0)\n",
        "abc.fit(X_train_vect, y_train)\n",
        "print(abc.score(X_test,y_test))\n",
        "\n"
      ],
      "execution_count": 28,
      "outputs": [
        {
          "output_type": "stream",
          "text": [
            "0.8244729789191567\n"
          ],
          "name": "stdout"
        }
      ]
    },
    {
      "cell_type": "markdown",
      "metadata": {
        "id": "aOsnRc2Q6ytj"
      },
      "source": [
        "## 7. Recap and conclusion\n",
        "Congratulations on reaching the end of Assignment 2! We hope you enjoyed it. \n",
        "\n",
        "Here's a recap of tasks and concepts explored in this assignment:\n",
        "\n",
        "\n",
        "1.   **Preprocessing**\n",
        "*   Cleaning train data: removing punctuation and HTML tags\n",
        "*   Basic feature engineering: vectorizing data, bag-of-words representation \n",
        "*   Using learned vocabulary to preprocess test data\n",
        "\n",
        "Preprocessing and data representation are very important in Natural Language Processing (NLP) projects. For more advanced preprocessing techniques, we highly recommend checking online the concepts of **stemming**, **n-gramming**, **stopwords removal**!\n",
        "\n",
        "2.   **Naive Bayes**\n",
        "*   Naive Bayes: recap of theory\n",
        "*   Implementing model from scratch\n",
        "\n",
        "Find out more about Naive Bayes implementations in `sklearn`: [GaussianNB](http://scikit-learn.org/stable/modules/generated/sklearn.naive_bayes.GaussianNB.html), [MultinomialNB](http://scikit-learn.org/stable/modules/generated/sklearn.naive_bayes.MultinomialNB.html), and more!\n",
        "\n",
        "3.   **Support Vector Machine**\n",
        "*   SVM: brief recap of theory and testing\n",
        "*   First introduction to `sklearn`: using already implemented models to classify data\n",
        "\n",
        "4.   **Random Forests**\n",
        "*   Random Forests: brief recap of theory and testing\n",
        "*   Introduction to hyperparameter tuning\n",
        "\n",
        "The default parameters are not always good enough! Find out more about how to tune hyperparameters in `sklearn` [here](https://scikit-learn.org/stable/modules/grid_search.html) or do the optional section 6 of this assignment. \n",
        "\n",
        "5.   **Tuning Adaboost with GridSearchCV**\n",
        "*   Adaboost: bried recap of theory and testing \n",
        "*   Tuning hyperparameters using GridSearchCV"
      ]
    },
    {
      "cell_type": "markdown",
      "metadata": {
        "id": "J7okgCQqFnxm"
      },
      "source": [
        "## 8. Submission\n",
        "\n",
        "Please submit this .ipynb to the appropriate folder on MyCourses."
      ]
    }
  ]
}